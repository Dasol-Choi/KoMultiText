{
 "cells": [
  {
   "cell_type": "markdown",
   "metadata": {
    "id": "tvtwH9ggGf1G"
   },
   "source": [
    "### <b>Install the required libraries</b>"
   ]
  },
  {
   "cell_type": "code",
   "execution_count": 1,
   "metadata": {
    "colab": {
     "base_uri": "https://localhost:8080/"
    },
    "id": "zeHuY4y0ICJ-",
    "outputId": "d4246bc2-1b49-48b9-fb07-7d8e34dabbc7"
   },
   "outputs": [],
   "source": [
    "# Install the transformers library (Allows importing models from Hugging Face)\n",
    "!pip install transformers\n",
    "!pip install datasets "
   ]
  },
  {
   "cell_type": "markdown",
   "metadata": {
    "id": "9z-vERIKbQiT"
   },
   "source": [
    "### <b>Import necessary libraries</b>"
   ]
  },
  {
   "cell_type": "code",
   "execution_count": 2,
   "metadata": {
    "id": "LH2ySA1QbQzw"
   },
   "outputs": [],
   "source": [
    "import copy \n",
    "import json\n",
    "import logging \n",
    "import os \n",
    "\n",
    "import warnings\n",
    "warnings.filterwarnings(\"ignore\")\n",
    "import logging\n",
    "logging.basicConfig(level=logging.ERROR)\n",
    "\n",
    "import numpy as np\n",
    "import pandas as pd\n",
    "from datasets import load_dataset\n",
    "from sklearn.model_selection import train_test_split\n",
    "from tqdm import tqdm\n",
    "import torch"
   ]
  },
  {
   "cell_type": "code",
   "execution_count": 3,
   "metadata": {},
   "outputs": [
    {
     "name": "stdout",
     "output_type": "stream",
     "text": [
      "CUDA Available: True\n",
      "Current GPU Index: 0\n",
      "Current GPU Name: GeForce RTX 2080 Ti\n",
      "GPU Memory Allocated: 0\n",
      "GPU Memory Cached: 0\n"
     ]
    }
   ],
   "source": [
    "# Check if CUDA is available\n",
    "print(\"CUDA Available:\", torch.cuda.is_available())\n",
    "\n",
    "# If CUDA is available, print the current GPU details\n",
    "if torch.cuda.is_available():\n",
    "    print(\"Current GPU Index:\", torch.cuda.current_device())\n",
    "    print(\"Current GPU Name:\", torch.cuda.get_device_name(torch.cuda.current_device()))\n",
    "    print(\"GPU Memory Allocated:\", torch.cuda.memory_allocated())\n",
    "    print(\"GPU Memory Cached:\", torch.cuda.memory_cached())"
   ]
  },
  {
   "cell_type": "markdown",
   "metadata": {
    "id": "4vCdR9qwGjei"
   },
   "source": [
    "### <b>Load the model from Hugging Face's model hub</b>"
   ]
  },
  {
   "cell_type": "code",
   "execution_count": 4,
   "metadata": {
    "id": "plGoHyuyZ79h"
   },
   "outputs": [],
   "source": [
    "import transformers\n",
    "from transformers import AutoConfig, AutoModel, AutoModelForSequenceClassification, AutoTokenizer, BigBirdConfig\n",
    "from transformers import AdamW, get_linear_schedule_with_warmup"
   ]
  },
  {
   "cell_type": "code",
   "execution_count": 5,
   "metadata": {
    "colab": {
     "base_uri": "https://localhost:8080/"
    },
    "id": "XwuHa80eR3dC",
    "outputId": "b0ed45fe-25f7-4f6f-b4e6-7a4b842fcd90"
   },
   "outputs": [],
   "source": [
    "model_path = \"monologg/kobigbird-bert-base\"\n",
    "config = BigBirdConfig.from_pretrained(model_path, attention_type='original_full')\n",
    "model = AutoModel.from_pretrained(model_path, config=config)\n",
    "\n",
    "tokenizer = AutoTokenizer.from_pretrained(model_path)\n",
    "text = \"한국어 BigBird 모델을 공개합니다!\"\n",
    "encoded_input = tokenizer(text, return_tensors='pt', truncation=True)\n",
    "output = model(**encoded_input)"
   ]
  },
  {
   "cell_type": "code",
   "execution_count": 6,
   "metadata": {},
   "outputs": [
    {
     "name": "stdout",
     "output_type": "stream",
     "text": [
      "tensor([[[ 0.0744,  0.1033, -0.4811,  ...,  0.1842, -0.3599,  0.0590],\n",
      "         [-0.4572,  0.0982,  0.0485,  ..., -0.0428, -0.0085, -0.0389],\n",
      "         [-0.0517,  0.2469,  0.4309,  ...,  0.1513,  0.1107,  0.5183],\n",
      "         ...,\n",
      "         [ 0.4131,  0.3943, -0.2341,  ...,  0.1010, -0.3778,  0.4811],\n",
      "         [ 0.2193,  0.3344,  0.1173,  ...,  0.1042,  0.5646,  0.2698],\n",
      "         [-0.3449,  0.2810,  0.3838,  ..., -0.2478,  0.3835,  0.4156]]],\n",
      "       grad_fn=<NativeLayerNormBackward0>)\n",
      "torch.Size([1, 12, 768])\n"
     ]
    }
   ],
   "source": [
    "# Print the values of the final hidden state\n",
    "print(output[0])\n",
    "\n",
    "# Print the shape of the final hidden state\n",
    "print(output[0].shape)"
   ]
  },
  {
   "cell_type": "markdown",
   "metadata": {
    "id": "OBlLlRQJHx1m"
   },
   "source": [
    "### <b>Set hyperparameters for the experiment</b>"
   ]
  },
  {
   "cell_type": "code",
   "execution_count": 7,
   "metadata": {
    "id": "-OAqKcbuH1Tm"
   },
   "outputs": [],
   "source": [
    "from types import SimpleNamespace\n",
    "\n",
    "# Create a configuration object to store hyperparameters and other settings\n",
    "config = SimpleNamespace()\n",
    "\n",
    "config.task = \"kobigbird_preference\"\n",
    "config.dataset = \"KoMultiText\"\n",
    "\n",
    "config.cache_dir = \"kobigbird_preference_cache\" # Temporary directory for current task assets like vocabulary\n",
    "config.output_dir = \"kobigbird_preference_output\" # Directory where final models and results will be saved\n",
    "\n",
    "config.use_tpu = False\n",
    "config.model_name_or_path = model_path \n",
    "config.data_dir = \"./\" # The input data dir \n",
    "\n",
    "config.train_file = \"train_dataset.csv\" \n",
    "config.predict_file = \"test_dataset.csv\" \n",
    "\n",
    "config.max_seq_length = 512 # Maximum sequence length\n",
    "config.train_batch_size = 8 # Batch size for training\n",
    "config.eval_batch_size = 4 # Batch size for evaluation\n",
    "\n",
    "config.learning_rate = 3e-6 # The initial learning rate for Adam\n",
    "config.num_train_epochs = 20 # Total number of training epochs to perform\n",
    "\n",
    "config.gradient_accumulation_steps = 4 # Number of updates steps to accumulate before performing a backward/update pass.\n",
    "config.threads = 4\n",
    "config.seed = 42 \n",
    "\n",
    "config.device_num = 0 # Device number (changable for multi-GPU setups)\n",
    "\n",
    "config.do_train = True \n",
    "config.do_eval_during_train = True\n",
    "config.do_eval = True \n",
    "\n",
    "config.do_lower_case = False\n",
    "config.weight_decay = 0.0 # Weight decay if we apply some.\n",
    "config.adam_epsilon = 1e-8 # Epsilon for Adam optimizer.\n",
    "config.max_grad_norm = 1.0 # Max gradient norm.\n",
    "config.warmup_proportion = 0.0 # Warmup proportion for linear warmup"
   ]
  },
  {
   "cell_type": "markdown",
   "metadata": {},
   "source": [
    "### <b>Preprocessing the training dataset</b>\n",
    "* Instead of tokenizing the training text every time, we preprocess and <b>save all tokenized results before starting the model training</b>.\n",
    "    * This approach significantly speeds up the process."
   ]
  },
  {
   "cell_type": "code",
   "execution_count": 8,
   "metadata": {
    "id": "2gJGxD9bYBTK"
   },
   "outputs": [],
   "source": [
    "tokenizer = AutoTokenizer.from_pretrained(config.model_name_or_path, do_lower_case=False, cache_dir=config.cache_dir)"
   ]
  },
  {
   "cell_type": "code",
   "execution_count": 9,
   "metadata": {
    "id": "7QpRhocwKqhl"
   },
   "outputs": [],
   "source": [
    "def train_split(config, texts, labels, is_train):\n",
    "    x_train, y_train, x_label, y_label = train_test_split(\n",
    "        texts, labels, test_size=0.2, random_state=config.seed, stratify=None\n",
    "    )\n",
    "    if is_train:\n",
    "        texts, labels = x_train, x_label\n",
    "    else:\n",
    "        texts, labels = y_train, y_label\n",
    "        \n",
    "    return texts, labels\n",
    "\n",
    "def process_comment_cls(config, data_file, is_train):\n",
    "    df = pd.read_csv(data_file)\n",
    "    df = df[df[\"preference\"]!= -1] # Exclude rows where preference is -1\n",
    "    preferences = df[\"preference\"].astype(int).values.tolist()\n",
    "    labels = preferences\n",
    "    texts = df[\"comment\"].astype(str).values.tolist()\n",
    "    texts, labels = train_split(config, texts, labels, is_train)\n",
    "    \n",
    "    return texts, labels"
   ]
  },
  {
   "cell_type": "code",
   "execution_count": 10,
   "metadata": {
    "id": "tAq-i9SuLta-"
   },
   "outputs": [],
   "source": [
    "import torch.utils.data as torch_data\n",
    "\n",
    "def data_pretokenizing(config, tokenizer, is_train=True):\n",
    "    if is_train:\n",
    "        data_file = config.train_file\n",
    "    else:\n",
    "        data_file = config.predict_file\n",
    "\n",
    "    data_path = config.data_dir\n",
    "    if data_file is not None:\n",
    "        data_path = os.path.join(data_path, data_file)\n",
    "    else:\n",
    "        data_path += \"/\"\n",
    "    \n",
    "    # Construct the file name for the tokenized dataset\n",
    "    comps = [\n",
    "        data_path,\n",
    "        config.dataset,\n",
    "        config.model_name_or_path.replace(\"/\", \"_\"),\n",
    "        config.max_seq_length,\n",
    "        \"train\" if is_train else \"dev\",\n",
    "        \"dataset.txt\",\n",
    "    ]\n",
    "    dataset_file = \"_\".join([str(comp) for comp in comps])\n",
    "    print(\"dataset_file:\", dataset_file)\n",
    "    \n",
    "    # Tokenize the dataset and write to the file\n",
    "    with open(dataset_file, \"w\", encoding=\"utf-8\") as writer_file:\n",
    "        cnt = 0\n",
    "        total_data = process_comment_cls(config, data_path, is_train)\n",
    "        for text, label in zip(total_data[0], total_data[1]):\n",
    "            feature = tokenizer(text, max_length=config.max_seq_length, padding=\"max_length\", truncation=True, add_special_tokens=True)\n",
    "            writed_data = {\n",
    "                \"input_ids\": feature[\"input_ids\"],\n",
    "                \"attention_mask\": feature[\"attention_mask\"],\n",
    "                \"preference\": int(label), \n",
    "            }\n",
    "            writer_file.write(json.dumps(writed_data) + \"\\n\")\n",
    "            cnt += 1\n",
    "        print(f\"{cnt} features processed from {data_path}\")\n",
    "\n",
    "    return dataset_file"
   ]
  },
  {
   "cell_type": "code",
   "execution_count": 11,
   "metadata": {
    "colab": {
     "base_uri": "https://localhost:8080/"
    },
    "id": "WYuakKfzXid0",
    "outputId": "8a212719-1cd8-4ee7-f479-ca0eda77f16a"
   },
   "outputs": [
    {
     "name": "stdout",
     "output_type": "stream",
     "text": [
      "dataset_file: ./train_dataset.csv_KoMultiText_monologg_kobigbird-bert-base_512_train_dataset.txt\n",
      "30688 features processed from ./train_dataset.csv\n",
      "dataset_file: ./test_dataset.csv_KoMultiText_monologg_kobigbird-bert-base_512_dev_dataset.txt\n",
      "400 features processed from ./test_dataset.csv\n"
     ]
    }
   ],
   "source": [
    "if config.do_train:\n",
    "    train_dataset_file = data_pretokenizing(config, tokenizer=tokenizer)\n",
    "predict_dataset_file = data_pretokenizing(config, tokenizer=tokenizer, is_train=False)"
   ]
  },
  {
   "cell_type": "markdown",
   "metadata": {
    "id": "dH-Uc4zFaZg9"
   },
   "source": [
    "### <b>Initialize the data loader</b>"
   ]
  },
  {
   "cell_type": "code",
   "execution_count": 12,
   "metadata": {
    "id": "9T_kyo4kV_Cr"
   },
   "outputs": [],
   "source": [
    "class IterableDatasetPad(torch.utils.data.IterableDataset):\n",
    "    def __init__(\n",
    "        self,\n",
    "        dataset: torch.utils.data.IterableDataset,\n",
    "        batch_size: int = 1,\n",
    "        num_devices: int = 1,\n",
    "        seed: int = 0,\n",
    "    ):\n",
    "        self.dataset = dataset\n",
    "        self.batch_size = batch_size\n",
    "        self.seed = seed\n",
    "        self.num_examples = 0\n",
    "\n",
    "        chunk_size = self.batch_size * num_devices\n",
    "        length = len(dataset)\n",
    "        self.length = length + (chunk_size - length % chunk_size)\n",
    "\n",
    "    def __len__(self):\n",
    "        return self.length\n",
    "\n",
    "    def __iter__(self):\n",
    "        self.num_examples = 0\n",
    "        # If dataset has a set epoch method, set the manual seed for reproducibility\n",
    "        if (\n",
    "            not hasattr(self.dataset, \"set_epoch\")\n",
    "            and hasattr(self.dataset, \"generator\")\n",
    "            and isinstance(self.dataset.generator, torch.Generator)\n",
    "        ):\n",
    "            self.dataset.generator.manual_seed(self.seed + self.epoch)\n",
    "\n",
    "        first_batch = None\n",
    "        current_batch = []\n",
    "        for element in self.dataset:\n",
    "            self.num_examples += 1\n",
    "            current_batch.append(element)\n",
    "            # Yield the current batch once it's full\n",
    "            if len(current_batch) == self.batch_size:\n",
    "                for batch in current_batch:\n",
    "                    yield batch\n",
    "                    if first_batch is None:\n",
    "                        first_batch = batch.copy()\n",
    "                current_batch = []\n",
    "                \n",
    "        # Pad the last batch if it's smaller than the batch size\n",
    "        while self.num_examples < self.length:\n",
    "            add_num = self.batch_size - len(current_batch)\n",
    "            self.num_examples += add_num\n",
    "            current_batch += [first_batch] * add_num\n",
    "            for batch in current_batch:\n",
    "                yield batch\n",
    "            current_batch = []"
   ]
  },
  {
   "cell_type": "code",
   "execution_count": 13,
   "metadata": {
    "colab": {
     "base_uri": "https://localhost:8080/",
     "height": 273,
     "referenced_widgets": [
      "575e332e868e4292aad70aa04b30ec5b",
      "a2ec9ea3f4924c54a6b167a4fafcf288",
      "64241c09d71f42f6ab427ab9900b8531",
      "977a80e15798477984daf223c85bcdf1",
      "0510894fcdeb486ab6a9f7f146b88521",
      "e87aef0d9cf94c5b9d5b7963e80b8846",
      "6ab6525394144b39848c6edacc146d0a",
      "9c7439319afc47a7b97013d2c7c76cbd",
      "c6d8cd363c7d4d00a4276c67480b95a2",
      "c305b20c02f5470189cd75eb4137be33",
      "0d6224bebcb3414096ea7d9651dad0ad",
      "d606cfba1c03417a9e1561b9903ef340",
      "8ffc1885b7774ba38ce0922ee934378c",
      "130d804471c04d0daedd9ab138e89b4b",
      "0a83c125beea4abfb7d4e95f08137770",
      "c4729b82b2684fb8817534149a15287d",
      "fc855b723ce046849a55e114208fdbc1",
      "48fea61ddf56480781b5ae93030ea989",
      "41c3de44960749a88ee4fbcf92ce46f6",
      "ec682955f90c46eb8074dd52f07f3ab0",
      "be7502a56cd240b09db0bd85b8a75be4",
      "c50dae8769df4184bb7055ec07488ed6",
      "b4d7cd7687f047e7b3b2c4172be0fb30",
      "5b6167a3185b4ca281edf383a82c06a0",
      "fd9bdd02c3264e2ea66e44b453442b75",
      "26fadfeece1c4d7691a49cc751b539c8",
      "1eec423b6bcc4769b1e52d41570bed58",
      "3e7b671c88d74ad2bce7623c461df5e5",
      "633599fa3ab245aabe08aedfe311521c",
      "5daa6938da8e40829e670d0c1cda45d7",
      "b35bfe1b49b046f4b6d8530e37ecdb80",
      "ad08df5242e24d2d86f2f4e5867cbdbd",
      "b159f0a44d844fc1b6febb9af93ad362",
      "cc68dd67492048fd905253d4b9963ec6",
      "3571d077964e4767bc60a1bf1228179c",
      "5ac480a101744bdcaff69695afaa0c54",
      "8c2682eb0ddb49cfa39242f4d4c6464d",
      "a1f0ec27b05647f38e4c01328b387346",
      "5cd2d15c41ea4b05ad5e58e843c9a141",
      "18a3e2c2d28f4fcdbdfd92978c31ed93",
      "ad02ec77c74d4a929b9a848fcd55e6a5",
      "525f459e51d54d2a83e3c001eb157de1",
      "3d46724068074285b1954a172a1fc2f1",
      "6e69c77a9c414258bd5de8e23898021c",
      "adc0a7d5322a4a7da85a9fea51943f11",
      "3c215647d2c34a7fac0b86f8b257ec68",
      "ef31045db2d94ccf99ac71ede24439b5",
      "90dd439d491f4f92b93f7385d1992ddf",
      "3157f8a62b494d729e54fb5b7e50a6cc",
      "3aedaebbd7b342efaf071680d6c96959",
      "5ceef0d402b24e389105ad26cd82f8c8",
      "b0a165488fcc4702b8ca82da5e188506",
      "d406a6a3fe604d9785042e2b06bdf1e7",
      "03a5382399d247df97546b40953e83d8",
      "372c8e33ba2f45f1994be885f1b7699d",
      "5f4ce39ce9d642cc9d12117a82e1b379",
      "aa5aa8c0a71848b5b34b987bcd1cebb5",
      "8248e0d560994b929ec3b61071d08e8e",
      "d33510db3d6f4cde9b7cfdc4bbf46633",
      "7a56fb7e02fb48809c7705a64636ea34",
      "50d5d8ef64fd46ea86f77f107c67bbb8",
      "bbea36799dd74a9989bd5c03ccc6eebd",
      "674c903a206347a39022b483a88eed4f",
      "9ee9d5232e4b4c7f86fd197f41e08d5c",
      "366db5f01aba4d629ebfd9394e6567d5",
      "662a615d57c54cfa82cd1d7c808fb58e",
      "6cd29352cecc49d88fcfef1607e791e2",
      "8924cbbf41364ee1b57363f74d7b45bc",
      "ce024d3db229456892a8b12bcdaa5c51",
      "8bdd39db060445c8ab94a55edcaf592a",
      "4590b0e30fd44335bd6a9b1bd817ef7a",
      "b8207ac43f1448a8916882a828debbe6",
      "004a2114194f462d9b65e76d92e0b0f3",
      "051603c85059426db931e5912b1b3eed",
      "44a51f0467994802a0e2a89ab2d9609f",
      "4144340f2817457484d7a655746223ea",
      "18fc7777e040404095515c7908ae88a7",
      "6142ada01d1c42e7bfb247c0a1667dab",
      "f0a5d222482c4f099ccef515252a49cf",
      "7d5a6dba3f9d4cbba7db85b9d2517542",
      "7e801c9f1bd345afa0265398b9b001ad",
      "bfec76fdb8b2439b98649673ef3ba7b7",
      "2b4902e9b0a745ae91d1fc9c41f3b907",
      "c7e06e9305b045d0a94baadee4afe97c",
      "d29cefa4abd14bb196a9c128ee9bd555",
      "375fec6920b6432586c76a711b7e989a",
      "cd8118d33b5d4bb89e94d9bd893a86c3",
      "276e2f032cb848e794a5bd0f82f7a791"
     ]
    },
    "id": "ICk8UkNtUT6L",
    "outputId": "659c2c15-4976-4bbf-dae1-d9caacb691cb"
   },
   "outputs": [
    {
     "name": "stdout",
     "output_type": "stream",
     "text": [
      "Downloading and preparing dataset text/default to /home/dasol/.cache/huggingface/datasets/text/default-592732168ee9a10a/0.0.0/cb1e9bd71a82ad27976be3b12b407850fe2837d80c22c5e03a28949843a8ace2...\n"
     ]
    },
    {
     "data": {
      "application/vnd.jupyter.widget-view+json": {
       "model_id": "e09077e510084e2481011e12ff056aed",
       "version_major": 2,
       "version_minor": 0
      },
      "text/plain": [
       "Downloading data files:   0%|          | 0/1 [00:00<?, ?it/s]"
      ]
     },
     "metadata": {},
     "output_type": "display_data"
    },
    {
     "data": {
      "application/vnd.jupyter.widget-view+json": {
       "model_id": "c90b6806fabc4d85b833c308b038e314",
       "version_major": 2,
       "version_minor": 0
      },
      "text/plain": [
       "Extracting data files:   0%|          | 0/1 [00:00<?, ?it/s]"
      ]
     },
     "metadata": {},
     "output_type": "display_data"
    },
    {
     "data": {
      "application/vnd.jupyter.widget-view+json": {
       "model_id": "",
       "version_major": 2,
       "version_minor": 0
      },
      "text/plain": [
       "Generating train split: 0 examples [00:00, ? examples/s]"
      ]
     },
     "metadata": {},
     "output_type": "display_data"
    },
    {
     "name": "stdout",
     "output_type": "stream",
     "text": [
      "Dataset text downloaded and prepared to /home/dasol/.cache/huggingface/datasets/text/default-592732168ee9a10a/0.0.0/cb1e9bd71a82ad27976be3b12b407850fe2837d80c22c5e03a28949843a8ace2. Subsequent calls will reuse this data.\n"
     ]
    },
    {
     "data": {
      "application/vnd.jupyter.widget-view+json": {
       "model_id": "647f992da4d54f918589d6e33928ecb4",
       "version_major": 2,
       "version_minor": 0
      },
      "text/plain": [
       "  0%|          | 0/1 [00:00<?, ?it/s]"
      ]
     },
     "metadata": {},
     "output_type": "display_data"
    },
    {
     "data": {
      "application/vnd.jupyter.widget-view+json": {
       "model_id": "",
       "version_major": 2,
       "version_minor": 0
      },
      "text/plain": [
       "Map:   0%|          | 0/30688 [00:00<?, ? examples/s]"
      ]
     },
     "metadata": {},
     "output_type": "display_data"
    },
    {
     "name": "stdout",
     "output_type": "stream",
     "text": [
      "Downloading and preparing dataset text/default to /home/dasol/.cache/huggingface/datasets/text/default-87925e82ec25958f/0.0.0/cb1e9bd71a82ad27976be3b12b407850fe2837d80c22c5e03a28949843a8ace2...\n"
     ]
    },
    {
     "data": {
      "application/vnd.jupyter.widget-view+json": {
       "model_id": "e588e06ac33a42b3a907770c5b33096a",
       "version_major": 2,
       "version_minor": 0
      },
      "text/plain": [
       "Downloading data files:   0%|          | 0/1 [00:00<?, ?it/s]"
      ]
     },
     "metadata": {},
     "output_type": "display_data"
    },
    {
     "data": {
      "application/vnd.jupyter.widget-view+json": {
       "model_id": "05439fa6c5504f769322fa2ffb14d7a4",
       "version_major": 2,
       "version_minor": 0
      },
      "text/plain": [
       "Extracting data files:   0%|          | 0/1 [00:00<?, ?it/s]"
      ]
     },
     "metadata": {},
     "output_type": "display_data"
    },
    {
     "data": {
      "application/vnd.jupyter.widget-view+json": {
       "model_id": "",
       "version_major": 2,
       "version_minor": 0
      },
      "text/plain": [
       "Generating train split: 0 examples [00:00, ? examples/s]"
      ]
     },
     "metadata": {},
     "output_type": "display_data"
    },
    {
     "name": "stdout",
     "output_type": "stream",
     "text": [
      "Dataset text downloaded and prepared to /home/dasol/.cache/huggingface/datasets/text/default-87925e82ec25958f/0.0.0/cb1e9bd71a82ad27976be3b12b407850fe2837d80c22c5e03a28949843a8ace2. Subsequent calls will reuse this data.\n"
     ]
    },
    {
     "data": {
      "application/vnd.jupyter.widget-view+json": {
       "model_id": "9da831fb8e1446da9e043ae39333ba76",
       "version_major": 2,
       "version_minor": 0
      },
      "text/plain": [
       "  0%|          | 0/1 [00:00<?, ?it/s]"
      ]
     },
     "metadata": {},
     "output_type": "display_data"
    },
    {
     "data": {
      "application/vnd.jupyter.widget-view+json": {
       "model_id": "",
       "version_major": 2,
       "version_minor": 0
      },
      "text/plain": [
       "Map:   0%|          | 0/400 [00:00<?, ? examples/s]"
      ]
     },
     "metadata": {},
     "output_type": "display_data"
    }
   ],
   "source": [
    "def collate_fn(features):\n",
    "    \n",
    "    input_ids = [sample[\"input_ids\"] for sample in features]\n",
    "    attention_mask = [sample[\"attention_mask\"] for sample in features]\n",
    "    \n",
    "    preference = [sample[\"preference\"] for sample in features]\n",
    "\n",
    "    input_ids = torch.tensor(np.array(input_ids).astype(np.int64), dtype=torch.long)\n",
    "    attention_mask = torch.tensor(np.array(attention_mask).astype(np.int8), dtype=torch.long)\n",
    "    \n",
    "    preference = torch.tensor(np.array(preference).astype(np.int64), dtype=torch.long)\n",
    "    inputs = {\n",
    "        \"input_ids\": input_ids,\n",
    "        \"attention_mask\": attention_mask,\n",
    "    }\n",
    "    labels =  preference\n",
    "\n",
    "    return inputs, labels\n",
    "\n",
    "if config.do_train:\n",
    "    train_dataset = load_dataset(\"text\", data_files=train_dataset_file, download_mode=\"force_redownload\")[\"train\"]\n",
    "    train_dataset = train_dataset.map(lambda x: json.loads(x[\"text\"]), batched=False)\n",
    "\n",
    "    train_dataloader = torch_data.DataLoader(\n",
    "        train_dataset,\n",
    "        sampler=torch_data.RandomSampler(train_dataset),\n",
    "        drop_last=False,\n",
    "        batch_size=config.train_batch_size,\n",
    "        collate_fn=(collate_fn),\n",
    "    )\n",
    "\n",
    "predict_dataset = load_dataset(\"text\", data_files=predict_dataset_file, download_mode=\"force_redownload\")[\"train\"]\n",
    "predict_dataset = predict_dataset.map(lambda x: json.loads(x[\"text\"]), batched=False)\n",
    "predict_dataset = IterableDatasetPad(\n",
    "    dataset=predict_dataset,\n",
    "    batch_size=config.eval_batch_size,\n",
    "    num_devices=1,\n",
    "    seed=config.seed,\n",
    ")\n",
    "\n",
    "predict_dataloader = torch_data.DataLoader(\n",
    "    predict_dataset,\n",
    "    sampler=None,\n",
    "    drop_last=False,\n",
    "    batch_size=config.eval_batch_size,\n",
    "    collate_fn=(collate_fn),\n",
    ")"
   ]
  },
  {
   "cell_type": "markdown",
   "metadata": {
    "id": "fLK23Y3wauv5"
   },
   "source": [
    "### <b>Define the text classification model</b>"
   ]
  },
  {
   "cell_type": "code",
   "execution_count": 14,
   "metadata": {
    "id": "EzordVjHE52u"
   },
   "outputs": [],
   "source": [
    "from transformers import AutoModel\n",
    "import torch.nn as nn\n",
    "\n",
    "class ClsModel(torch.nn.Module):\n",
    "    def __init__(self):\n",
    "        super().__init__()\n",
    "        data_file = os.path.join(config.data_dir, str(config.train_file))  \n",
    "        model_config = AutoConfig.from_pretrained(config.model_name_or_path, num_labels=5)\n",
    "        self.model = AutoModel.from_pretrained(\n",
    "            config.model_name_or_path, config=model_config, cache_dir=config.cache_dir\n",
    "        )\n",
    "        self.classifier = nn.Linear(768, 5) \n",
    "        self.tokenizer = tokenizer\n",
    "\n",
    "    def save_pretrained(self, save_dir):\n",
    "        self.model.save_pretrained(save_dir)\n",
    "        # Remove unnecessary keys from the tokenizer's init_kwargs\n",
    "        for key in [\"special_tokens_map_file\", \"tokenizer_file\"]:\n",
    "            self.tokenizer.init_kwargs.pop(key, None)\n",
    "        self.tokenizer.save_pretrained(save_dir)\n",
    "\n",
    "    def get_optimizer(self): \n",
    "        # Specify parameters that should not undergo weight decay during training\n",
    "        no_decay = [\"bias\", \"LayerNorm.weight\"]\n",
    "        # Group model parameters based on whether they should have weight decay or not\n",
    "        optimizer_grouped_parameters = [\n",
    "            {\n",
    "                \"params\": [p for n, p in self.model.named_parameters() if not any(nd in n for nd in no_decay)],\n",
    "                \"weight_decay\": config.weight_decay,\n",
    "            },\n",
    "            {\n",
    "                \"params\": [p for n, p in self.model.named_parameters() if any(nd in n for nd in no_decay)],\n",
    "                \"weight_decay\": config.weight_decay,\n",
    "            },\n",
    "        ]\n",
    "        \n",
    "        optimizer = AdamW(optimizer_grouped_parameters, lr=config.learning_rate, eps=config.adam_epsilon)\n",
    "        return optimizer\n",
    "\n",
    "    def get_scheduler(self, batch_num, optimizer): \n",
    "        # If no warmup is needed, return None\n",
    "        if config.warmup_proportion == 0.0:\n",
    "            return None\n",
    "        \n",
    "        # Calculate the total number of training steps\n",
    "        t_total = batch_num // config.gradient_accumulation_steps * config.num_train_epochs\n",
    "        \n",
    "        # Define the learning rate scheduler with a linear warmup phase\n",
    "        scheduler = get_linear_schedule_with_warmup(\n",
    "            optimizer,\n",
    "            num_warmup_steps=int(t_total * config.warmup_proportion),\n",
    "            num_training_steps=t_total,\n",
    "        )\n",
    "\n",
    "        return scheduler\n",
    "\n",
    "    def forward(self, inputs):\n",
    "        hidden = self.model(**inputs) # Get the model's hidden states\n",
    "        # Extract [CLS] token from the last layer\n",
    "        cls_token_embeddings = hidden.last_hidden_state[:,0,:] # [batch_size, 768]\n",
    "        output = self.classifier(cls_token_embeddings) # 768 → 5\n",
    "\n",
    "        return output\n",
    "    \n",
    "    def eval_step(self, inputs, labels, outputs):\n",
    "        logits = outputs.detach().cpu()\n",
    "        labels = self.tensor_to_list(labels)\n",
    "        probabilities = torch.nn.functional.softmax(logits, dim=1)\n",
    "        predictions = self.tensor_to_list(torch.argmax(logits, dim=-1))\n",
    "        results = {\"prediction\": predictions, \"label\": labels, \"prob\":probabilities} \n",
    "        \n",
    "        return results\n",
    "\n",
    "    def tensor_to_array(self, tensor):\n",
    "        return tensor.detach().cpu().numpy()\n",
    "    \n",
    "    def tensor_to_list(self, tensor):\n",
    "        return self.tensor_to_array(tensor).tolist()"
   ]
  },
  {
   "cell_type": "code",
   "execution_count": 15,
   "metadata": {
    "id": "WNc_ouz_c2oK"
   },
   "outputs": [],
   "source": [
    "# Set the random seed for reproducibility in both numpy and PyTorch\n",
    "def set_seed(seed):\n",
    "    np.random.seed(seed)\n",
    "    torch.manual_seed(seed)\n",
    "    torch.cuda.manual_seed_all(seed)\n",
    "    torch.backends.cudnn.deterministic = True\n",
    "    torch.backends.cudnn.benchmark = True\n",
    "\n",
    "# Calculate the running average of the loss using a decay factor\n",
    "def cal_running_avg_loss(loss, running_avg_loss, decay=0.99):\n",
    "    if running_avg_loss == 0:\n",
    "        return loss\n",
    "    running_avg_loss = running_avg_loss * decay + (1 - decay) * loss\n",
    "    return running_avg_loss"
   ]
  },
  {
   "cell_type": "markdown",
   "metadata": {
    "id": "9ZKdxuz1fT_C"
   },
   "source": [
    "### <b>Define the functions for training and evaluation</b>"
   ]
  },
  {
   "cell_type": "code",
   "execution_count": 16,
   "metadata": {
    "id": "Dt87LWjVfR4q"
   },
   "outputs": [],
   "source": [
    "from functools import partial\n",
    "import sklearn.metrics as sklearn_metrics\n",
    "from sklearn.metrics import mean_absolute_error\n",
    "from collections import Counter\n",
    "from sklearn.metrics import f1_score\n",
    "\n",
    "# Function to compute top 2 accuracy. \n",
    "# This considers a prediction as correct if the true label is among the top 2 predicted labels.\n",
    "def top2_accuracy(labels, prob):\n",
    "    prob_concatenated = torch.cat(prob, dim=0) \n",
    "    top_2_indices = torch.topk(prob_concatenated, 2, dim=1)[1]\n",
    "    match = (top_2_indices == torch.tensor(labels).view(-1, 1)).any(dim=1)\n",
    "    return match.float().mean().item()\n",
    "\n",
    "# Function to compute top 2 F1 score in a macro-average setting. \n",
    "# This treats each class independently then averages the F1 scores.\n",
    "def top2_f1_macro(labels, prob):\n",
    "    prob_concatenated = torch.cat(prob, dim=0)  # Concatenate tensors along dimension 0\n",
    "    top_2_indices = torch.topk(prob_concatenated, 2, dim=1)[1]\n",
    "    labels = np.array(labels)\n",
    "    \n",
    "    # Create a binary matrix where each row is the top-2 predicted classes\n",
    "    top_2_pred = np.zeros((len(labels), prob_concatenated.shape[1]), dtype=int)\n",
    "    for i, indices in enumerate(top_2_indices):\n",
    "        top_2_pred[i, indices] = 1\n",
    "\n",
    "    # Create a binary vector where each element indicates the actual class\n",
    "    y_true = np.zeros((len(labels), prob_concatenated.shape[1]), dtype=int)\n",
    "    y_true[np.arange(len(labels)), labels] = 1\n",
    "    \n",
    "    return f1_score(y_true, top_2_pred, average='macro')\n",
    "\n",
    "# Metrics for multi-classification\n",
    "metrics = {\n",
    "    \"accuracy\": sklearn_metrics.accuracy_score,\n",
    "    \"f1-macro\": partial(sklearn_metrics.f1_score, average=\"macro\")\n",
    "}\n",
    "\n",
    "# Evaluate the performance of the model\n",
    "def eval_cls(predictions, labels, prob, **kwargs):\n",
    "    \n",
    "    predictions = np.array(predictions)\n",
    "\n",
    "    results = {\n",
    "        metric: round(f(labels, predictions) * 100, 2)\n",
    "        for metric, f in metrics.items()\n",
    "    }\n",
    "    \n",
    "    mae = mean_absolute_error(labels, predictions)\n",
    "    top2_acc = top2_accuracy(labels, prob)\n",
    "    top2_f1_macro_score = top2_f1_macro(labels, prob)\n",
    "\n",
    "    return {\n",
    "        \"results\": results,\n",
    "        \"f1-macro\": results[\"f1-macro\"],\n",
    "        \"accuracy\" : results[\"accuracy\"],\n",
    "        \"mae\" : mae,\n",
    "        \"top2_accuracy\" : top2_acc,\n",
    "        \"top2_f1_macro\" : top2_f1_macro_score\n",
    "    }"
   ]
  },
  {
   "cell_type": "code",
   "execution_count": 17,
   "metadata": {
    "id": "orQFvXpcfVop"
   },
   "outputs": [],
   "source": [
    "def _run_epoch(model, loader, device=None, context=None, **kwargs):\n",
    "    \n",
    "    config = kwargs[\"config\"]\n",
    "    is_train = kwargs[\"is_train\"]\n",
    "\n",
    "    avg_loss = 0\n",
    "    results = []\n",
    "    batch_num = len(loader)\n",
    "    corrected = 0\n",
    "    total = 0\n",
    "    \n",
    "    # Set the model to train or eval mode based on 'is_train'\n",
    "    if is_train:\n",
    "        model.train()\n",
    "        if config.use_tpu:\n",
    "            optimizer = context.getattr_or(\n",
    "                \"optimizer\",\n",
    "                lambda: model.get_optimizer(),\n",
    "            )\n",
    "            scheduler = context.getattr_or(\n",
    "                \"scheduler\",\n",
    "                lambda: model.get_scheduler(batch_num, optimizer),\n",
    "            )\n",
    "        else:\n",
    "            optimizer = kwargs[\"optimizer\"]\n",
    "            scheduler = kwargs[\"scheduler\"]\n",
    "    else:\n",
    "        model.eval()\n",
    "    \n",
    "    # ProgressBar setup\n",
    "    is_master = True\n",
    "    pbar = tqdm(enumerate(loader), total=batch_num, disable=not is_master, dynamic_ncols=True, position=0, leave=True)\n",
    "    \n",
    "    for i, (inputs, labels) in pbar:\n",
    "        # Move data to the appropriate device (if not using TPU)\n",
    "        if not config.use_tpu:\n",
    "            if isinstance(inputs, torch.Tensor):\n",
    "                inputs = inputs.to(device)\n",
    "            if isinstance(labels, torch.Tensor):\n",
    "                labels = labels.to(device)\n",
    "\n",
    "        outputs = model(inputs)\n",
    "        labels = labels\n",
    "        \n",
    "        # Handling class imbalance using weights\n",
    "        class_percentages = [11, 31, 50, 6, 2]\n",
    "        most_frequent_class_percentage = max(class_percentages)\n",
    "        weights_normalized = [most_frequent_class_percentage / p for p in class_percentages]\n",
    "        weights = torch.tensor(weights_normalized).float().to(device)\n",
    "        \n",
    "        # Compute the loss\n",
    "        loss_function = nn.CrossEntropyLoss(weight=weights)\n",
    "        loss = loss_function(outputs, labels) \n",
    "\n",
    "        total += outputs.shape[0] # Update total samples processed\n",
    "        _, predicted = outputs.max(1)\n",
    "        corrected += predicted.eq(labels).sum().item() # Update correctly classified count\n",
    "\n",
    "        avg_loss = cal_running_avg_loss(loss.item(), avg_loss)\n",
    "        loss /= config.gradient_accumulation_steps\n",
    "        \n",
    "        # Backpropagation and optimization step (for training)\n",
    "        if is_train:\n",
    "            loss.backward()\n",
    "            if i % config.gradient_accumulation_steps == 0 or i == batch_num - 1:\n",
    "                if config.max_grad_norm > 0:\n",
    "                    torch.nn.utils.clip_grad_norm_(model.parameters(), config.max_grad_norm)\n",
    "\n",
    "                optimizer.step()\n",
    "                optimizer.zero_grad()\n",
    "\n",
    "                if scheduler is not None:\n",
    "                    scheduler.step()\n",
    "        # Store evaluation results (for evaluation mode)\n",
    "        else:\n",
    "            result = (model.module if hasattr(model, \"module\") else model).eval_step(inputs, labels, outputs)\n",
    "            results.append(result)\n",
    "            \n",
    "        # Update progress bar description\n",
    "        if is_master:\n",
    "            pbar.set_description(\n",
    "                f\"epoch: {kwargs['epoch'] + 1}, {('train' if is_train else 'valid')} loss: {min(100, round(avg_loss, 4))}\"\n",
    "            )\n",
    "            \n",
    "    if is_train:\n",
    "        epoch_accuracy = (corrected / total) * 100  # Compute accuracy\n",
    "        print(f\"Training accuracy after epoch {kwargs['epoch'] + 1}: {epoch_accuracy:.2f}%\")\n",
    "              \n",
    "    return {\n",
    "        \"loss\": avg_loss,\n",
    "        \"result\": results,\n",
    "    }\n",
    "\n",
    "# Wrapper to run the epoch either on CPU/GPU or TPUs\n",
    "def run_epoch(**kwargs):\n",
    "    model = kwargs.pop(\"model\")\n",
    "    if kwargs[\"config\"].use_tpu:\n",
    "        results = model(_run_epoch, **kwargs)\n",
    "    else:\n",
    "        results = _run_epoch(model, **kwargs)\n",
    "   \n",
    "    if isinstance(results, list):\n",
    "        loss = sum([result[\"loss\"] for result in results]) / len(results)\n",
    "        result = []\n",
    "        for res in results:\n",
    "            result.extend(res[\"result\"])\n",
    "        results = {\"loss\": loss, \"result\": result}\n",
    "\n",
    "    return results"
   ]
  },
  {
   "cell_type": "markdown",
   "metadata": {
    "id": "Fc_gQCjxffEY"
   },
   "source": [
    "### <b>Model Initialization and Configuration</b>"
   ]
  },
  {
   "cell_type": "code",
   "execution_count": 18,
   "metadata": {
    "colab": {
     "base_uri": "https://localhost:8080/"
    },
    "id": "ZOns-W1GfemT",
    "outputId": "5acc4dd2-2f77-43ed-db0a-fb88df3c9a49"
   },
   "outputs": [
    {
     "name": "stdout",
     "output_type": "stream",
     "text": [
      "configuration: namespace(task='kobigbird_preference', dataset='KoMultiText', cache_dir='kobigbird_preference_cache', output_dir='kobigbird_preference_output', use_tpu=False, model_name_or_path='monologg/kobigbird-bert-base', data_dir='./', train_file='train_dataset.csv', predict_file='test_dataset.csv', max_seq_length=512, train_batch_size=8, eval_batch_size=4, learning_rate=3e-06, num_train_epochs=20, gradient_accumulation_steps=4, threads=4, seed=42, device_num=1, do_train=True, do_eval_during_train=True, do_eval=True, do_lower_case=False, weight_decay=0.0, adam_epsilon=1e-08, max_grad_norm=1.0, warmup_proportion=0.0)\n",
      "4 GPU device detected\n",
      "Output directory: kobigbird_preference_output/kobigbird_preference/KoMultiText\n"
     ]
    }
   ],
   "source": [
    "set_seed(config.seed) # Set the random seed for reproducibility\n",
    "\n",
    "model = ClsModel()  # Initialize the classification model\n",
    "\n",
    "print(f\"configuration: {str(config)}\")\n",
    "\n",
    "# Check for available GPUs and set the model to run on GPU(s) if available\n",
    "if torch.cuda.is_available():\n",
    "    gpu_count = torch.cuda.device_count()\n",
    "    print(f\"{gpu_count} GPU device detected\")\n",
    "    device_num = config.device_num\n",
    "    devices = [device_num]\n",
    "    \n",
    "    # Use Data Parallelism if more than one GPU is available\n",
    "    model_dp = torch.nn.DataParallel(model, device_ids=devices)\n",
    "    model_dp.to(devices[0])  \n",
    "else: \n",
    "    devices = [\"cpu\"] # If no GPUs are available, use the CPU\n",
    "    model_dp = model\n",
    "\n",
    "if not os.path.exists(config.cache_dir):\n",
    "    os.makedirs(config.cache_dir)\n",
    "\n",
    "# Define and create the output directory\n",
    "output_dir = os.path.join(config.output_dir, config.task, config.dataset)\n",
    "print(\"Output directory:\", output_dir)\n",
    "if not os.path.exists(output_dir):\n",
    "    os.makedirs(output_dir)\n",
    "\n",
    "# Initialize optimizer and scheduler if in training mode\n",
    "optimizer = None\n",
    "scheduler = None\n",
    "if config.do_train: \n",
    "    optimizer = model.get_optimizer()\n",
    "    scheduler = model.get_scheduler(len(train_dataloader), optimizer)\n",
    "\n",
    "params = {\n",
    "    \"config\": config,\n",
    "    \"model\": model_dp,\n",
    "    \"optimizer\": optimizer,\n",
    "    \"scheduler\": scheduler,\n",
    "}\n",
    "if not config.use_tpu:\n",
    "    params[\"device\"] = devices[0]"
   ]
  },
  {
   "cell_type": "markdown",
   "metadata": {
    "id": "iziDJg23gorw"
   },
   "source": [
    "### <b>Traning the model</b>"
   ]
  },
  {
   "cell_type": "code",
   "execution_count": 19,
   "metadata": {
    "colab": {
     "base_uri": "https://localhost:8080/"
    },
    "id": "ibdTiq1Ue2D8",
    "outputId": "53383735-c930-44c2-93c4-2e6ff330e766"
   },
   "outputs": [],
   "source": [
    "from collections import defaultdict\n",
    "\n",
    "def do_eval(epoch):\n",
    "    # Ensure no gradient computation during evaluation\n",
    "    with torch.no_grad():\n",
    "        # Run the model on the predict_dataloader and obtain results\n",
    "        results = run_epoch(loader=predict_dataloader, epoch=epoch, is_train=False, **params)[\"result\"]\n",
    "        predictions = [item['prediction'] for item in results]\n",
    "        labels = [item['label'] for item in results]\n",
    "        prob = [item['prob'] for item in results]\n",
    "        predictions = np.array([subitem for sublist in predictions for subitem in sublist])\n",
    "        labels = np.array([subitem for sublist in labels for subitem in sublist])\n",
    "        predictions = np.array(predictions)\n",
    "        labels = np.array(labels)\n",
    "        \n",
    "        # Initialize class-wise counts\n",
    "        class_counts = defaultdict(int)  # Count of each class in ground-truth\n",
    "        class_correct = defaultdict(int)\n",
    "        \n",
    "        for pred, true_label in zip(predictions, labels):\n",
    "            class_counts[true_label] += 1\n",
    "            if pred == true_label:\n",
    "                class_correct[true_label] += 1\n",
    "                \n",
    "        # Compute and print class-wise accuracy\n",
    "        class_accuracies = {}\n",
    "        for cls in range(0, 5):  # Classes are 0, 1, 2, 3, 4\n",
    "            if class_counts[cls] == 0:\n",
    "                class_accuracies[cls] = 0  # Avoid division by zero\n",
    "            else:\n",
    "                class_accuracies[cls] = (class_correct[cls] / class_counts[cls]) * 100\n",
    "                \n",
    "        print(\"\\nClass-wise accuracies:\")\n",
    "        for cls, acc in class_accuracies.items():\n",
    "            print(f\"Class {cls}: {acc:.2f}%\")\n",
    "            \n",
    "        # Compute additional evaluation metrics using the eval_cls function\n",
    "        eval_results = eval_cls(\n",
    "            config=config,\n",
    "            model=model,\n",
    "            loader=predict_dataloader,\n",
    "            tokenizer=model.tokenizer,\n",
    "            predictions=predictions,  \n",
    "            labels=labels, \n",
    "            prob=prob\n",
    "        )\n",
    "        \n",
    "        print(\"\\nEval results for Preference.\")\n",
    "        for k, v in eval_results[\"results\"].items():\n",
    "            print(f\"{k} : {v}\")\n",
    "        print(f\"mae : {eval_results['mae']}\")\n",
    "        print(f\"top2_accuracy : {eval_results['top2_accuracy']}\")\n",
    "        print(f\"top2_f1_macro : {eval_results['top2_f1_macro']}\")\n",
    "\n",
    "    return eval_results[\"f1-macro\"], eval_results[\"accuracy\"], eval_results['mae'], eval_results[\"top2_accuracy\"],eval_results[\"top2_f1_macro\"]"
   ]
  },
  {
   "cell_type": "code",
   "execution_count": null,
   "metadata": {
    "colab": {
     "base_uri": "https://localhost:8080/"
    },
    "id": "ibdTiq1Ue2D8",
    "outputId": "53383735-c930-44c2-93c4-2e6ff330e766",
    "scrolled": true
   },
   "outputs": [
    {
     "name": "stderr",
     "output_type": "stream",
     "text": [
      "  0%|                                                                               | 0/3836 [00:00<?, ?it/s]Attention type 'block_sparse' is not possible if sequence_length: 512 <= num global tokens: 2 * config.block_size + min. num sliding tokens: 3 * config.block_size + config.num_random_blocks * config.block_size + additional buffer: config.num_random_blocks * config.block_size = 704 with config.block_size = 64, config.num_random_blocks = 3. Changing attention type to 'original_full'...\n",
      "epoch: 1, train loss: 1.0279: 100%|██████████████████████████████████████| 3836/3836 [27:31<00:00,  2.32it/s]\n"
     ]
    },
    {
     "name": "stdout",
     "output_type": "stream",
     "text": [
      "Training accuracy after epoch 1: 53.60%\n"
     ]
    },
    {
     "name": "stderr",
     "output_type": "stream",
     "text": [
      "epoch: 1, valid loss: 0.8351: 100%|████████████████████████████████████████| 101/101 [00:08<00:00, 11.76it/s]\n"
     ]
    },
    {
     "name": "stdout",
     "output_type": "stream",
     "text": [
      "\n",
      "Class-wise accuracies:\n",
      "Class 0: 87.80%\n",
      "Class 1: 51.28%\n",
      "Class 2: 58.42%\n",
      "Class 3: 52.17%\n",
      "Class 4: 67.57%\n",
      "\n",
      "Eval results for Preference.\n",
      "accuracy : 63.61\n",
      "f1-macro : 63.09\n",
      "mae : 0.4900990099009901\n",
      "top2_accuracy : 0.8712871074676514\n",
      "top2_f1_macro : 0.5926738386152032\n",
      "Checkpoint kobigbird_preference_output/kobigbird_preference/KoMultiText/0-63.09-ckpt saved.\n"
     ]
    },
    {
     "name": "stderr",
     "output_type": "stream",
     "text": [
      "epoch: 2, train loss: 0.9562: 100%|██████████████████████████████████████| 3836/3836 [29:03<00:00,  2.20it/s]\n"
     ]
    },
    {
     "name": "stdout",
     "output_type": "stream",
     "text": [
      "Training accuracy after epoch 2: 61.99%\n"
     ]
    },
    {
     "name": "stderr",
     "output_type": "stream",
     "text": [
      "epoch: 2, valid loss: 0.7091: 100%|████████████████████████████████████████| 101/101 [00:08<00:00, 11.77it/s]\n"
     ]
    },
    {
     "name": "stdout",
     "output_type": "stream",
     "text": [
      "\n",
      "Class-wise accuracies:\n",
      "Class 0: 87.80%\n",
      "Class 1: 55.13%\n",
      "Class 2: 65.35%\n",
      "Class 3: 65.22%\n",
      "Class 4: 68.92%\n",
      "\n",
      "Eval results for Preference.\n",
      "accuracy : 68.56\n",
      "f1-macro : 68.27\n",
      "mae : 0.39851485148514854\n",
      "top2_accuracy : 0.8985148668289185\n",
      "top2_f1_macro : 0.6140606596531913\n",
      "Checkpoint kobigbird_preference_output/kobigbird_preference/KoMultiText/1-68.27-ckpt saved.\n"
     ]
    },
    {
     "name": "stderr",
     "output_type": "stream",
     "text": [
      "epoch: 3, train loss: 0.8418: 100%|██████████████████████████████████████| 3836/3836 [28:41<00:00,  2.23it/s]\n"
     ]
    },
    {
     "name": "stdout",
     "output_type": "stream",
     "text": [
      "Training accuracy after epoch 3: 64.63%\n"
     ]
    },
    {
     "name": "stderr",
     "output_type": "stream",
     "text": [
      "epoch: 3, valid loss: 0.7401: 100%|████████████████████████████████████████| 101/101 [00:07<00:00, 13.15it/s]\n"
     ]
    },
    {
     "name": "stdout",
     "output_type": "stream",
     "text": [
      "\n",
      "Class-wise accuracies:\n",
      "Class 0: 90.24%\n",
      "Class 1: 55.13%\n",
      "Class 2: 66.34%\n",
      "Class 3: 79.71%\n",
      "Class 4: 55.41%\n",
      "\n",
      "Eval results for Preference.\n",
      "accuracy : 69.31\n",
      "f1-macro : 68.9\n",
      "mae : 0.3811881188118812\n",
      "top2_accuracy : 0.9034653306007385\n",
      "top2_f1_macro : 0.6234385326017955\n",
      "Checkpoint kobigbird_preference_output/kobigbird_preference/KoMultiText/2-68.9-ckpt saved.\n"
     ]
    },
    {
     "name": "stderr",
     "output_type": "stream",
     "text": [
      "epoch: 4, train loss: 0.8133: 100%|██████████████████████████████████████| 3836/3836 [25:04<00:00,  2.55it/s]\n"
     ]
    },
    {
     "name": "stdout",
     "output_type": "stream",
     "text": [
      "Training accuracy after epoch 4: 65.74%\n"
     ]
    },
    {
     "name": "stderr",
     "output_type": "stream",
     "text": [
      "epoch: 4, valid loss: 0.6266: 100%|████████████████████████████████████████| 101/101 [00:07<00:00, 13.57it/s]\n"
     ]
    },
    {
     "name": "stdout",
     "output_type": "stream",
     "text": [
      "\n",
      "Class-wise accuracies:\n",
      "Class 0: 89.02%\n",
      "Class 1: 65.38%\n",
      "Class 2: 69.31%\n",
      "Class 3: 72.46%\n",
      "Class 4: 74.32%\n",
      "\n",
      "Eval results for Preference.\n",
      "accuracy : 74.01\n",
      "f1-macro : 73.82\n",
      "mae : 0.31435643564356436\n",
      "top2_accuracy : 0.9207921028137207\n",
      "top2_f1_macro : 0.6297675955789781\n",
      "Checkpoint kobigbird_preference_output/kobigbird_preference/KoMultiText/3-73.82-ckpt saved.\n"
     ]
    },
    {
     "name": "stderr",
     "output_type": "stream",
     "text": [
      "epoch: 5, train loss: 0.7687: 100%|██████████████████████████████████████| 3836/3836 [24:57<00:00,  2.56it/s]\n"
     ]
    },
    {
     "name": "stdout",
     "output_type": "stream",
     "text": [
      "Training accuracy after epoch 5: 67.31%\n"
     ]
    },
    {
     "name": "stderr",
     "output_type": "stream",
     "text": [
      "epoch: 5, valid loss: 0.5615: 100%|████████████████████████████████████████| 101/101 [00:07<00:00, 13.53it/s]\n"
     ]
    },
    {
     "name": "stdout",
     "output_type": "stream",
     "text": [
      "\n",
      "Class-wise accuracies:\n",
      "Class 0: 90.24%\n",
      "Class 1: 60.26%\n",
      "Class 2: 51.49%\n",
      "Class 3: 76.81%\n",
      "Class 4: 72.97%\n",
      "\n",
      "Eval results for Preference.\n",
      "accuracy : 69.31\n",
      "f1-macro : 69.64\n",
      "mae : 0.3688118811881188\n",
      "top2_accuracy : 0.9207921028137207\n",
      "top2_f1_macro : 0.6321053051062595\n"
     ]
    },
    {
     "name": "stderr",
     "output_type": "stream",
     "text": [
      "epoch: 6, train loss: 0.761: 100%|███████████████████████████████████████| 3836/3836 [25:02<00:00,  2.55it/s]\n"
     ]
    },
    {
     "name": "stdout",
     "output_type": "stream",
     "text": [
      "Training accuracy after epoch 6: 68.78%\n"
     ]
    },
    {
     "name": "stderr",
     "output_type": "stream",
     "text": [
      "epoch: 6, valid loss: 0.6222: 100%|████████████████████████████████████████| 101/101 [00:07<00:00, 13.68it/s]\n"
     ]
    },
    {
     "name": "stdout",
     "output_type": "stream",
     "text": [
      "\n",
      "Class-wise accuracies:\n",
      "Class 0: 89.02%\n",
      "Class 1: 71.79%\n",
      "Class 2: 68.32%\n",
      "Class 3: 78.26%\n",
      "Class 4: 74.32%\n",
      "\n",
      "Eval results for Preference.\n",
      "accuracy : 75.99\n",
      "f1-macro : 76.11\n",
      "mae : 0.29455445544554454\n",
      "top2_accuracy : 0.9183168411254883\n",
      "top2_f1_macro : 0.6329372581512522\n",
      "Checkpoint kobigbird_preference_output/kobigbird_preference/KoMultiText/5-76.11-ckpt saved.\n"
     ]
    },
    {
     "name": "stderr",
     "output_type": "stream",
     "text": [
      "epoch: 7, train loss: 0.7335: 100%|██████████████████████████████████████| 3836/3836 [24:43<00:00,  2.59it/s]\n"
     ]
    },
    {
     "name": "stdout",
     "output_type": "stream",
     "text": [
      "Training accuracy after epoch 7: 70.32%\n"
     ]
    },
    {
     "name": "stderr",
     "output_type": "stream",
     "text": [
      "epoch: 7, valid loss: 0.622: 100%|█████████████████████████████████████████| 101/101 [00:07<00:00, 13.78it/s]\n"
     ]
    },
    {
     "name": "stdout",
     "output_type": "stream",
     "text": [
      "\n",
      "Class-wise accuracies:\n",
      "Class 0: 89.02%\n",
      "Class 1: 66.67%\n",
      "Class 2: 70.30%\n",
      "Class 3: 76.81%\n",
      "Class 4: 78.38%\n",
      "\n",
      "Eval results for Preference.\n",
      "accuracy : 75.99\n",
      "f1-macro : 76.13\n",
      "mae : 0.28217821782178215\n",
      "top2_accuracy : 0.9232673048973083\n",
      "top2_f1_macro : 0.6347287670961202\n",
      "Checkpoint kobigbird_preference_output/kobigbird_preference/KoMultiText/6-76.13-ckpt saved.\n"
     ]
    },
    {
     "name": "stderr",
     "output_type": "stream",
     "text": [
      "epoch: 8, train loss: 0.6552: 100%|██████████████████████████████████████| 3836/3836 [27:50<00:00,  2.30it/s]\n"
     ]
    },
    {
     "name": "stdout",
     "output_type": "stream",
     "text": [
      "Training accuracy after epoch 8: 71.55%\n"
     ]
    },
    {
     "name": "stderr",
     "output_type": "stream",
     "text": [
      "epoch: 8, valid loss: 0.66: 100%|██████████████████████████████████████████| 101/101 [00:08<00:00, 12.07it/s]\n"
     ]
    },
    {
     "name": "stdout",
     "output_type": "stream",
     "text": [
      "\n",
      "Class-wise accuracies:\n",
      "Class 0: 87.80%\n",
      "Class 1: 75.64%\n",
      "Class 2: 70.30%\n",
      "Class 3: 78.26%\n",
      "Class 4: 64.86%\n",
      "\n",
      "Eval results for Preference.\n",
      "accuracy : 75.25\n",
      "f1-macro : 75.29\n",
      "mae : 0.297029702970297\n",
      "top2_accuracy : 0.9257425665855408\n",
      "top2_f1_macro : 0.6405495117513642\n"
     ]
    },
    {
     "name": "stderr",
     "output_type": "stream",
     "text": [
      "epoch: 9, train loss: 0.6698: 100%|██████████████████████████████████████| 3836/3836 [27:31<00:00,  2.32it/s]\n"
     ]
    },
    {
     "name": "stdout",
     "output_type": "stream",
     "text": [
      "Training accuracy after epoch 9: 72.92%\n"
     ]
    },
    {
     "name": "stderr",
     "output_type": "stream",
     "text": [
      "epoch: 9, valid loss: 0.6878: 100%|████████████████████████████████████████| 101/101 [00:07<00:00, 13.00it/s]\n"
     ]
    },
    {
     "name": "stdout",
     "output_type": "stream",
     "text": [
      "\n",
      "Class-wise accuracies:\n",
      "Class 0: 81.71%\n",
      "Class 1: 76.92%\n",
      "Class 2: 70.30%\n",
      "Class 3: 75.36%\n",
      "Class 4: 71.62%\n",
      "\n",
      "Eval results for Preference.\n",
      "accuracy : 75.0\n",
      "f1-macro : 75.45\n",
      "mae : 0.297029702970297\n",
      "top2_accuracy : 0.9207921028137207\n",
      "top2_f1_macro : 0.6385256153711968\n"
     ]
    },
    {
     "name": "stderr",
     "output_type": "stream",
     "text": [
      "epoch: 10, train loss: 0.5703: 100%|█████████████████████████████████████| 3836/3836 [26:08<00:00,  2.45it/s]\n"
     ]
    },
    {
     "name": "stdout",
     "output_type": "stream",
     "text": [
      "Training accuracy after epoch 10: 73.84%\n"
     ]
    },
    {
     "name": "stderr",
     "output_type": "stream",
     "text": [
      "epoch: 10, valid loss: 0.7167: 100%|███████████████████████████████████████| 101/101 [00:07<00:00, 13.04it/s]\n"
     ]
    },
    {
     "name": "stdout",
     "output_type": "stream",
     "text": [
      "\n",
      "Class-wise accuracies:\n",
      "Class 0: 86.59%\n",
      "Class 1: 70.51%\n",
      "Class 2: 73.27%\n",
      "Class 3: 79.71%\n",
      "Class 4: 68.92%\n",
      "\n",
      "Eval results for Preference.\n",
      "accuracy : 75.74\n",
      "f1-macro : 75.8\n",
      "mae : 0.28465346534653463\n",
      "top2_accuracy : 0.9282178282737732\n",
      "top2_f1_macro : 0.6435000597746765\n"
     ]
    },
    {
     "name": "stderr",
     "output_type": "stream",
     "text": [
      "epoch: 11, train loss: 0.6369: 100%|█████████████████████████████████████| 3836/3836 [26:25<00:00,  2.42it/s]\n"
     ]
    },
    {
     "name": "stdout",
     "output_type": "stream",
     "text": [
      "Training accuracy after epoch 11: 74.81%\n"
     ]
    },
    {
     "name": "stderr",
     "output_type": "stream",
     "text": [
      "epoch: 11, valid loss: 0.6903: 100%|███████████████████████████████████████| 101/101 [00:07<00:00, 12.69it/s]\n"
     ]
    },
    {
     "name": "stdout",
     "output_type": "stream",
     "text": [
      "\n",
      "Class-wise accuracies:\n",
      "Class 0: 85.37%\n",
      "Class 1: 74.36%\n",
      "Class 2: 71.29%\n",
      "Class 3: 75.36%\n",
      "Class 4: 66.22%\n",
      "\n",
      "Eval results for Preference.\n",
      "accuracy : 74.5\n",
      "f1-macro : 74.66\n",
      "mae : 0.3069306930693069\n",
      "top2_accuracy : 0.9232673048973083\n",
      "top2_f1_macro : 0.6438536655169367\n"
     ]
    },
    {
     "name": "stderr",
     "output_type": "stream",
     "text": [
      "epoch: 12, train loss: 0.5675: 100%|█████████████████████████████████████| 3836/3836 [28:56<00:00,  2.21it/s]\n"
     ]
    },
    {
     "name": "stdout",
     "output_type": "stream",
     "text": [
      "Training accuracy after epoch 12: 75.97%\n"
     ]
    },
    {
     "name": "stderr",
     "output_type": "stream",
     "text": [
      "epoch: 12, valid loss: 0.7821: 100%|███████████████████████████████████████| 101/101 [00:08<00:00, 11.37it/s]\n"
     ]
    },
    {
     "name": "stdout",
     "output_type": "stream",
     "text": [
      "\n",
      "Class-wise accuracies:\n",
      "Class 0: 84.15%\n",
      "Class 1: 80.77%\n",
      "Class 2: 69.31%\n",
      "Class 3: 72.46%\n",
      "Class 4: 64.86%\n",
      "\n",
      "Eval results for Preference.\n",
      "accuracy : 74.26\n",
      "f1-macro : 74.42\n",
      "mae : 0.3118811881188119\n",
      "top2_accuracy : 0.9232673048973083\n",
      "top2_f1_macro : 0.6451455945690526\n"
     ]
    },
    {
     "name": "stderr",
     "output_type": "stream",
     "text": [
      "epoch: 13, train loss: 0.6038: 100%|█████████████████████████████████████| 3836/3836 [29:36<00:00,  2.16it/s]\n"
     ]
    },
    {
     "name": "stdout",
     "output_type": "stream",
     "text": [
      "Training accuracy after epoch 13: 77.14%\n"
     ]
    },
    {
     "name": "stderr",
     "output_type": "stream",
     "text": [
      "epoch: 13, valid loss: 0.9551: 100%|███████████████████████████████████████| 101/101 [00:08<00:00, 12.31it/s]\n"
     ]
    },
    {
     "name": "stdout",
     "output_type": "stream",
     "text": [
      "\n",
      "Class-wise accuracies:\n",
      "Class 0: 82.93%\n",
      "Class 1: 76.92%\n",
      "Class 2: 75.25%\n",
      "Class 3: 69.57%\n",
      "Class 4: 62.16%\n",
      "\n",
      "Eval results for Preference.\n",
      "accuracy : 73.76\n",
      "f1-macro : 73.72\n",
      "mae : 0.31683168316831684\n",
      "top2_accuracy : 0.9084158539772034\n",
      "top2_f1_macro : 0.634041700711947\n"
     ]
    },
    {
     "name": "stderr",
     "output_type": "stream",
     "text": [
      "epoch: 14, train loss: 0.4915: 100%|█████████████████████████████████████| 3836/3836 [29:54<00:00,  2.14it/s]\n"
     ]
    },
    {
     "name": "stdout",
     "output_type": "stream",
     "text": [
      "Training accuracy after epoch 14: 78.67%\n"
     ]
    },
    {
     "name": "stderr",
     "output_type": "stream",
     "text": [
      "epoch: 14, valid loss: 0.9348: 100%|███████████████████████████████████████| 101/101 [00:09<00:00, 11.15it/s]\n"
     ]
    },
    {
     "name": "stdout",
     "output_type": "stream",
     "text": [
      "\n",
      "Class-wise accuracies:\n",
      "Class 0: 81.71%\n",
      "Class 1: 80.77%\n",
      "Class 2: 72.28%\n",
      "Class 3: 68.12%\n",
      "Class 4: 68.92%\n",
      "\n",
      "Eval results for Preference.\n",
      "accuracy : 74.5\n",
      "f1-macro : 74.67\n",
      "mae : 0.30445544554455445\n",
      "top2_accuracy : 0.9183168411254883\n",
      "top2_f1_macro : 0.6397680722652561\n"
     ]
    },
    {
     "name": "stderr",
     "output_type": "stream",
     "text": [
      "epoch: 15, train loss: 0.4354: 100%|█████████████████████████████████████| 3836/3836 [30:49<00:00,  2.07it/s]\n"
     ]
    },
    {
     "name": "stdout",
     "output_type": "stream",
     "text": [
      "Training accuracy after epoch 15: 79.52%\n"
     ]
    },
    {
     "name": "stderr",
     "output_type": "stream",
     "text": [
      "epoch: 15, valid loss: 1.0952: 100%|███████████████████████████████████████| 101/101 [00:09<00:00, 10.85it/s]\n"
     ]
    },
    {
     "name": "stdout",
     "output_type": "stream",
     "text": [
      "\n",
      "Class-wise accuracies:\n",
      "Class 0: 82.93%\n",
      "Class 1: 82.05%\n",
      "Class 2: 73.27%\n",
      "Class 3: 68.12%\n",
      "Class 4: 60.81%\n",
      "\n",
      "Eval results for Preference.\n",
      "accuracy : 73.76\n",
      "f1-macro : 73.68\n",
      "mae : 0.3193069306930693\n",
      "top2_accuracy : 0.9009901285171509\n",
      "top2_f1_macro : 0.6305005170751713\n"
     ]
    },
    {
     "name": "stderr",
     "output_type": "stream",
     "text": [
      "epoch: 16, train loss: 0.4631: 100%|█████████████████████████████████████| 3836/3836 [27:37<00:00,  2.31it/s]\n"
     ]
    },
    {
     "name": "stdout",
     "output_type": "stream",
     "text": [
      "Training accuracy after epoch 16: 80.44%\n"
     ]
    },
    {
     "name": "stderr",
     "output_type": "stream",
     "text": [
      "epoch: 16, valid loss: 0.855: 100%|████████████████████████████████████████| 101/101 [00:07<00:00, 13.13it/s]\n"
     ]
    },
    {
     "name": "stdout",
     "output_type": "stream",
     "text": [
      "\n",
      "Class-wise accuracies:\n",
      "Class 0: 82.93%\n",
      "Class 1: 74.36%\n",
      "Class 2: 79.21%\n",
      "Class 3: 68.12%\n",
      "Class 4: 74.32%\n",
      "\n",
      "Eval results for Preference.\n",
      "accuracy : 76.24\n",
      "f1-macro : 76.21\n",
      "mae : 0.28465346534653463\n",
      "top2_accuracy : 0.9183168411254883\n",
      "top2_f1_macro : 0.6406715318513023\n",
      "Checkpoint kobigbird_preference_output/kobigbird_preference/KoMultiText/15-76.21-ckpt saved.\n"
     ]
    },
    {
     "name": "stderr",
     "output_type": "stream",
     "text": [
      "epoch: 17, train loss: 0.4003: 100%|█████████████████████████████████████| 3836/3836 [25:59<00:00,  2.46it/s]\n"
     ]
    },
    {
     "name": "stdout",
     "output_type": "stream",
     "text": [
      "Training accuracy after epoch 17: 81.65%\n"
     ]
    },
    {
     "name": "stderr",
     "output_type": "stream",
     "text": [
      "epoch: 17, valid loss: 1.2645: 100%|███████████████████████████████████████| 101/101 [00:07<00:00, 13.13it/s]\n"
     ]
    },
    {
     "name": "stdout",
     "output_type": "stream",
     "text": [
      "\n",
      "Class-wise accuracies:\n",
      "Class 0: 81.71%\n",
      "Class 1: 78.21%\n",
      "Class 2: 68.32%\n",
      "Class 3: 65.22%\n",
      "Class 4: 70.27%\n",
      "\n",
      "Eval results for Preference.\n",
      "accuracy : 72.77\n",
      "f1-macro : 72.97\n",
      "mae : 0.33663366336633666\n",
      "top2_accuracy : 0.905940592288971\n",
      "top2_f1_macro : 0.6375685453581098\n"
     ]
    },
    {
     "name": "stderr",
     "output_type": "stream",
     "text": [
      "epoch: 18, train loss: 0.3938: 100%|█████████████████████████████████████| 3836/3836 [26:00<00:00,  2.46it/s]\n"
     ]
    },
    {
     "name": "stdout",
     "output_type": "stream",
     "text": [
      "Training accuracy after epoch 18: 82.50%\n"
     ]
    },
    {
     "name": "stderr",
     "output_type": "stream",
     "text": [
      "epoch: 18, valid loss: 1.3444: 100%|███████████████████████████████████████| 101/101 [00:07<00:00, 13.07it/s]\n"
     ]
    },
    {
     "name": "stdout",
     "output_type": "stream",
     "text": [
      "\n",
      "Class-wise accuracies:\n",
      "Class 0: 80.49%\n",
      "Class 1: 79.49%\n",
      "Class 2: 76.24%\n",
      "Class 3: 66.67%\n",
      "Class 4: 67.57%\n",
      "\n",
      "Eval results for Preference.\n",
      "accuracy : 74.5\n",
      "f1-macro : 74.61\n",
      "mae : 0.30198019801980197\n",
      "top2_accuracy : 0.9108911156654358\n",
      "top2_f1_macro : 0.6416514628669617\n"
     ]
    },
    {
     "name": "stderr",
     "output_type": "stream",
     "text": [
      "epoch: 19, train loss: 0.4058:  98%|████████████████████████████████████▏| 3758/3836 [26:49<00:36,  2.13it/s]"
     ]
    }
   ],
   "source": [
    "train_losses = []\n",
    "val_f1 = []\n",
    "val_acc = []\n",
    "val_mae =[]\n",
    "val_top2_acc = []\n",
    "val_top2_f1 = []\n",
    "\n",
    "if config.do_train:\n",
    "    best_score = 0\n",
    "    # Start training over a number of epochs\n",
    "    for epoch in range(config.num_train_epochs):\n",
    "        train_results = run_epoch(loader=train_dataloader, epoch=epoch, is_train=True, **params)\n",
    "        train_loss = train_results['loss']\n",
    "        train_losses.append(train_loss)\n",
    "        \n",
    "        # Evaluation during training (if configured to do so)\n",
    "        if config.do_eval_during_train:\n",
    "            # Evaluate the model using the evaluation function\n",
    "            f1, accuracy, mae, top2_acc, top2_f1 = do_eval(epoch)\n",
    "            val_f1.append(f1)\n",
    "            val_acc.append(accuracy)\n",
    "            val_mae.append(mae)\n",
    "            val_top2_acc.append(top2_acc)\n",
    "            val_top2_f1.append(top2_f1)\n",
    "            \n",
    "            # Checkpointing: Save the model if the F1-macro is the best till now\n",
    "            if f1 >= best_score:\n",
    "                best_score = f1\n",
    "                output_dir = os.path.join(config.output_dir, config.task, config.dataset, f\"{epoch}-{best_score}-ckpt\")\n",
    "                # Deep copy the model, move it to CPU, and save it\n",
    "                copy.deepcopy(\n",
    "                    model_dp.module\n",
    "                    if hasattr(model_dp, \"module\")\n",
    "                    else model_dp._models[0]\n",
    "                    if hasattr(model_dp, \"_models\")\n",
    "                    else model_dp\n",
    "                ).cpu().save_pretrained(output_dir)\n",
    "                # Save the current configuration to a JSON file in the checkpoint directory\n",
    "                with open(os.path.join(output_dir, \"finetune_config.json\"), \"w\") as save_config:\n",
    "                    json.dump(vars(config), save_config, sort_keys=True, indent=4)\n",
    "                print(f\"Checkpoint {output_dir} saved.\")"
   ]
  },
  {
   "cell_type": "code",
   "execution_count": null,
   "metadata": {
    "scrolled": true
   },
   "outputs": [],
   "source": [
    "import matplotlib.pyplot as plt\n",
    "\n",
    "# Setting up a larger canvas to display all graphs\n",
    "fig, axes = plt.subplots(nrows=2, ncols=2, figsize=(20, 12))\n",
    "fig.suptitle('Training & Validation Metrics', fontsize=16)\n",
    "\n",
    "# Plotting the Training Loss\n",
    "axes[0, 0].plot(train_losses, label=\"Train Loss\", color='blue')\n",
    "axes[0, 0].set_xlabel(\"Epoch\")\n",
    "axes[0, 0].set_ylabel(\"Loss\")\n",
    "axes[0, 0].set_title(\"Training Loss\")\n",
    "axes[0, 0].legend()\n",
    "\n",
    "# If evaluations during training is enabled, plot the other metrics\n",
    "if config.do_eval_during_train:\n",
    "    # Plotting the F1 Score\n",
    "    axes[0, 1].plot(val_f1, label=\"F1 Score\", color='green')\n",
    "    axes[0, 1].set_xlabel(\"Epoch\")\n",
    "    axes[0, 1].set_ylabel(\"F1 Score\")\n",
    "    axes[0, 1].set_title(\"F1 Score\")\n",
    "    axes[0, 1].legend()\n",
    "\n",
    "    # Plotting Accuracy & Top-2 Accuracy on the same plot\n",
    "    val_top2_acc_percentage = [v * 100 for v in val_top2_acc]\n",
    "    axes[1, 0].plot(val_acc, label=\"Accuracy\", color='red')\n",
    "    axes[1, 0].plot(val_top2_acc_percentage, label=\"Top-2 Accuracy\", color='purple')\n",
    "    axes[1, 0].set_xlabel(\"Epoch\")\n",
    "    axes[1, 0].set_ylabel(\"Accuracy\")\n",
    "    axes[1, 0].set_title(\"Accuracy & Top-2 Accuracy\")\n",
    "    axes[1, 0].legend()\n",
    "\n",
    "    # Plotting the MAE\n",
    "    axes[1, 1].plot(val_mae, label=\"MAE\", color='orange')\n",
    "    axes[1, 1].set_xlabel(\"Epoch\")\n",
    "    axes[1, 1].set_ylabel(\"MAE\")\n",
    "    axes[1, 1].set_title(\"MAE\")\n",
    "    axes[1, 1].legend()\n",
    "\n",
    "# Display the plots\n",
    "plt.tight_layout()\n",
    "plt.subplots_adjust(top=0.90)  # Adjust title spacing\n",
    "plt.show()\n"
   ]
  },
  {
   "cell_type": "code",
   "execution_count": null,
   "metadata": {},
   "outputs": [],
   "source": []
  }
 ],
 "metadata": {
  "accelerator": "GPU",
  "colab": {
   "gpuType": "T4",
   "provenance": []
  },
  "kernelspec": {
   "display_name": "Python 3 (ipykernel)",
   "language": "python",
   "name": "python3"
  },
  "language_info": {
   "codemirror_mode": {
    "name": "ipython",
    "version": 3
   },
   "file_extension": ".py",
   "mimetype": "text/x-python",
   "name": "python",
   "nbconvert_exporter": "python",
   "pygments_lexer": "ipython3",
   "version": "3.9.17"
  },
  "widgets": {
   "application/vnd.jupyter.widget-state+json": {
    "004a2114194f462d9b65e76d92e0b0f3": {
     "model_module": "@jupyter-widgets/controls",
     "model_module_version": "1.5.0",
     "model_name": "DescriptionStyleModel",
     "state": {
      "_model_module": "@jupyter-widgets/controls",
      "_model_module_version": "1.5.0",
      "_model_name": "DescriptionStyleModel",
      "_view_count": null,
      "_view_module": "@jupyter-widgets/base",
      "_view_module_version": "1.2.0",
      "_view_name": "StyleView",
      "description_width": ""
     }
    },
    "03a5382399d247df97546b40953e83d8": {
     "model_module": "@jupyter-widgets/base",
     "model_module_version": "1.2.0",
     "model_name": "LayoutModel",
     "state": {
      "_model_module": "@jupyter-widgets/base",
      "_model_module_version": "1.2.0",
      "_model_name": "LayoutModel",
      "_view_count": null,
      "_view_module": "@jupyter-widgets/base",
      "_view_module_version": "1.2.0",
      "_view_name": "LayoutView",
      "align_content": null,
      "align_items": null,
      "align_self": null,
      "border": null,
      "bottom": null,
      "display": null,
      "flex": null,
      "flex_flow": null,
      "grid_area": null,
      "grid_auto_columns": null,
      "grid_auto_flow": null,
      "grid_auto_rows": null,
      "grid_column": null,
      "grid_gap": null,
      "grid_row": null,
      "grid_template_areas": null,
      "grid_template_columns": null,
      "grid_template_rows": null,
      "height": null,
      "justify_content": null,
      "justify_items": null,
      "left": null,
      "margin": null,
      "max_height": null,
      "max_width": null,
      "min_height": null,
      "min_width": null,
      "object_fit": null,
      "object_position": null,
      "order": null,
      "overflow": null,
      "overflow_x": null,
      "overflow_y": null,
      "padding": null,
      "right": null,
      "top": null,
      "visibility": null,
      "width": null
     }
    },
    "0510894fcdeb486ab6a9f7f146b88521": {
     "model_module": "@jupyter-widgets/base",
     "model_module_version": "1.2.0",
     "model_name": "LayoutModel",
     "state": {
      "_model_module": "@jupyter-widgets/base",
      "_model_module_version": "1.2.0",
      "_model_name": "LayoutModel",
      "_view_count": null,
      "_view_module": "@jupyter-widgets/base",
      "_view_module_version": "1.2.0",
      "_view_name": "LayoutView",
      "align_content": null,
      "align_items": null,
      "align_self": null,
      "border": null,
      "bottom": null,
      "display": null,
      "flex": null,
      "flex_flow": null,
      "grid_area": null,
      "grid_auto_columns": null,
      "grid_auto_flow": null,
      "grid_auto_rows": null,
      "grid_column": null,
      "grid_gap": null,
      "grid_row": null,
      "grid_template_areas": null,
      "grid_template_columns": null,
      "grid_template_rows": null,
      "height": null,
      "justify_content": null,
      "justify_items": null,
      "left": null,
      "margin": null,
      "max_height": null,
      "max_width": null,
      "min_height": null,
      "min_width": null,
      "object_fit": null,
      "object_position": null,
      "order": null,
      "overflow": null,
      "overflow_x": null,
      "overflow_y": null,
      "padding": null,
      "right": null,
      "top": null,
      "visibility": null,
      "width": null
     }
    },
    "051603c85059426db931e5912b1b3eed": {
     "model_module": "@jupyter-widgets/base",
     "model_module_version": "1.2.0",
     "model_name": "LayoutModel",
     "state": {
      "_model_module": "@jupyter-widgets/base",
      "_model_module_version": "1.2.0",
      "_model_name": "LayoutModel",
      "_view_count": null,
      "_view_module": "@jupyter-widgets/base",
      "_view_module_version": "1.2.0",
      "_view_name": "LayoutView",
      "align_content": null,
      "align_items": null,
      "align_self": null,
      "border": null,
      "bottom": null,
      "display": null,
      "flex": null,
      "flex_flow": null,
      "grid_area": null,
      "grid_auto_columns": null,
      "grid_auto_flow": null,
      "grid_auto_rows": null,
      "grid_column": null,
      "grid_gap": null,
      "grid_row": null,
      "grid_template_areas": null,
      "grid_template_columns": null,
      "grid_template_rows": null,
      "height": null,
      "justify_content": null,
      "justify_items": null,
      "left": null,
      "margin": null,
      "max_height": null,
      "max_width": null,
      "min_height": null,
      "min_width": null,
      "object_fit": null,
      "object_position": null,
      "order": null,
      "overflow": null,
      "overflow_x": null,
      "overflow_y": null,
      "padding": null,
      "right": null,
      "top": null,
      "visibility": null,
      "width": "20px"
     }
    },
    "0a83c125beea4abfb7d4e95f08137770": {
     "model_module": "@jupyter-widgets/controls",
     "model_module_version": "1.5.0",
     "model_name": "HTMLModel",
     "state": {
      "_dom_classes": [],
      "_model_module": "@jupyter-widgets/controls",
      "_model_module_version": "1.5.0",
      "_model_name": "HTMLModel",
      "_view_count": null,
      "_view_module": "@jupyter-widgets/controls",
      "_view_module_version": "1.5.0",
      "_view_name": "HTMLView",
      "description": "",
      "description_tooltip": null,
      "layout": "IPY_MODEL_be7502a56cd240b09db0bd85b8a75be4",
      "placeholder": "​",
      "style": "IPY_MODEL_c50dae8769df4184bb7055ec07488ed6",
      "value": " 1/1 [00:00&lt;00:00, 20.31it/s]"
     }
    },
    "0d6224bebcb3414096ea7d9651dad0ad": {
     "model_module": "@jupyter-widgets/controls",
     "model_module_version": "1.5.0",
     "model_name": "DescriptionStyleModel",
     "state": {
      "_model_module": "@jupyter-widgets/controls",
      "_model_module_version": "1.5.0",
      "_model_name": "DescriptionStyleModel",
      "_view_count": null,
      "_view_module": "@jupyter-widgets/base",
      "_view_module_version": "1.2.0",
      "_view_name": "StyleView",
      "description_width": ""
     }
    },
    "130d804471c04d0daedd9ab138e89b4b": {
     "model_module": "@jupyter-widgets/controls",
     "model_module_version": "1.5.0",
     "model_name": "FloatProgressModel",
     "state": {
      "_dom_classes": [],
      "_model_module": "@jupyter-widgets/controls",
      "_model_module_version": "1.5.0",
      "_model_name": "FloatProgressModel",
      "_view_count": null,
      "_view_module": "@jupyter-widgets/controls",
      "_view_module_version": "1.5.0",
      "_view_name": "ProgressView",
      "bar_style": "success",
      "description": "",
      "description_tooltip": null,
      "layout": "IPY_MODEL_41c3de44960749a88ee4fbcf92ce46f6",
      "max": 1,
      "min": 0,
      "orientation": "horizontal",
      "style": "IPY_MODEL_ec682955f90c46eb8074dd52f07f3ab0",
      "value": 1
     }
    },
    "18a3e2c2d28f4fcdbdfd92978c31ed93": {
     "model_module": "@jupyter-widgets/controls",
     "model_module_version": "1.5.0",
     "model_name": "DescriptionStyleModel",
     "state": {
      "_model_module": "@jupyter-widgets/controls",
      "_model_module_version": "1.5.0",
      "_model_name": "DescriptionStyleModel",
      "_view_count": null,
      "_view_module": "@jupyter-widgets/base",
      "_view_module_version": "1.2.0",
      "_view_name": "StyleView",
      "description_width": ""
     }
    },
    "18fc7777e040404095515c7908ae88a7": {
     "model_module": "@jupyter-widgets/controls",
     "model_module_version": "1.5.0",
     "model_name": "DescriptionStyleModel",
     "state": {
      "_model_module": "@jupyter-widgets/controls",
      "_model_module_version": "1.5.0",
      "_model_name": "DescriptionStyleModel",
      "_view_count": null,
      "_view_module": "@jupyter-widgets/base",
      "_view_module_version": "1.2.0",
      "_view_name": "StyleView",
      "description_width": ""
     }
    },
    "1eec423b6bcc4769b1e52d41570bed58": {
     "model_module": "@jupyter-widgets/base",
     "model_module_version": "1.2.0",
     "model_name": "LayoutModel",
     "state": {
      "_model_module": "@jupyter-widgets/base",
      "_model_module_version": "1.2.0",
      "_model_name": "LayoutModel",
      "_view_count": null,
      "_view_module": "@jupyter-widgets/base",
      "_view_module_version": "1.2.0",
      "_view_name": "LayoutView",
      "align_content": null,
      "align_items": null,
      "align_self": null,
      "border": null,
      "bottom": null,
      "display": null,
      "flex": null,
      "flex_flow": null,
      "grid_area": null,
      "grid_auto_columns": null,
      "grid_auto_flow": null,
      "grid_auto_rows": null,
      "grid_column": null,
      "grid_gap": null,
      "grid_row": null,
      "grid_template_areas": null,
      "grid_template_columns": null,
      "grid_template_rows": null,
      "height": null,
      "justify_content": null,
      "justify_items": null,
      "left": null,
      "margin": null,
      "max_height": null,
      "max_width": null,
      "min_height": null,
      "min_width": null,
      "object_fit": null,
      "object_position": null,
      "order": null,
      "overflow": null,
      "overflow_x": null,
      "overflow_y": null,
      "padding": null,
      "right": null,
      "top": null,
      "visibility": null,
      "width": null
     }
    },
    "26fadfeece1c4d7691a49cc751b539c8": {
     "model_module": "@jupyter-widgets/controls",
     "model_module_version": "1.5.0",
     "model_name": "HTMLModel",
     "state": {
      "_dom_classes": [],
      "_model_module": "@jupyter-widgets/controls",
      "_model_module_version": "1.5.0",
      "_model_name": "HTMLModel",
      "_view_count": null,
      "_view_module": "@jupyter-widgets/controls",
      "_view_module_version": "1.5.0",
      "_view_name": "HTMLView",
      "description": "",
      "description_tooltip": null,
      "layout": "IPY_MODEL_ad08df5242e24d2d86f2f4e5867cbdbd",
      "placeholder": "​",
      "style": "IPY_MODEL_b159f0a44d844fc1b6febb9af93ad362",
      "value": " 8012/0 [00:01&lt;00:00, 8100.87 examples/s]"
     }
    },
    "276e2f032cb848e794a5bd0f82f7a791": {
     "model_module": "@jupyter-widgets/controls",
     "model_module_version": "1.5.0",
     "model_name": "DescriptionStyleModel",
     "state": {
      "_model_module": "@jupyter-widgets/controls",
      "_model_module_version": "1.5.0",
      "_model_name": "DescriptionStyleModel",
      "_view_count": null,
      "_view_module": "@jupyter-widgets/base",
      "_view_module_version": "1.2.0",
      "_view_name": "StyleView",
      "description_width": ""
     }
    },
    "2b4902e9b0a745ae91d1fc9c41f3b907": {
     "model_module": "@jupyter-widgets/base",
     "model_module_version": "1.2.0",
     "model_name": "LayoutModel",
     "state": {
      "_model_module": "@jupyter-widgets/base",
      "_model_module_version": "1.2.0",
      "_model_name": "LayoutModel",
      "_view_count": null,
      "_view_module": "@jupyter-widgets/base",
      "_view_module_version": "1.2.0",
      "_view_name": "LayoutView",
      "align_content": null,
      "align_items": null,
      "align_self": null,
      "border": null,
      "bottom": null,
      "display": null,
      "flex": null,
      "flex_flow": null,
      "grid_area": null,
      "grid_auto_columns": null,
      "grid_auto_flow": null,
      "grid_auto_rows": null,
      "grid_column": null,
      "grid_gap": null,
      "grid_row": null,
      "grid_template_areas": null,
      "grid_template_columns": null,
      "grid_template_rows": null,
      "height": null,
      "justify_content": null,
      "justify_items": null,
      "left": null,
      "margin": null,
      "max_height": null,
      "max_width": null,
      "min_height": null,
      "min_width": null,
      "object_fit": null,
      "object_position": null,
      "order": null,
      "overflow": null,
      "overflow_x": null,
      "overflow_y": null,
      "padding": null,
      "right": null,
      "top": null,
      "visibility": null,
      "width": null
     }
    },
    "3157f8a62b494d729e54fb5b7e50a6cc": {
     "model_module": "@jupyter-widgets/base",
     "model_module_version": "1.2.0",
     "model_name": "LayoutModel",
     "state": {
      "_model_module": "@jupyter-widgets/base",
      "_model_module_version": "1.2.0",
      "_model_name": "LayoutModel",
      "_view_count": null,
      "_view_module": "@jupyter-widgets/base",
      "_view_module_version": "1.2.0",
      "_view_name": "LayoutView",
      "align_content": null,
      "align_items": null,
      "align_self": null,
      "border": null,
      "bottom": null,
      "display": null,
      "flex": null,
      "flex_flow": null,
      "grid_area": null,
      "grid_auto_columns": null,
      "grid_auto_flow": null,
      "grid_auto_rows": null,
      "grid_column": null,
      "grid_gap": null,
      "grid_row": null,
      "grid_template_areas": null,
      "grid_template_columns": null,
      "grid_template_rows": null,
      "height": null,
      "justify_content": null,
      "justify_items": null,
      "left": null,
      "margin": null,
      "max_height": null,
      "max_width": null,
      "min_height": null,
      "min_width": null,
      "object_fit": null,
      "object_position": null,
      "order": null,
      "overflow": null,
      "overflow_x": null,
      "overflow_y": null,
      "padding": null,
      "right": null,
      "top": null,
      "visibility": null,
      "width": null
     }
    },
    "3571d077964e4767bc60a1bf1228179c": {
     "model_module": "@jupyter-widgets/controls",
     "model_module_version": "1.5.0",
     "model_name": "HTMLModel",
     "state": {
      "_dom_classes": [],
      "_model_module": "@jupyter-widgets/controls",
      "_model_module_version": "1.5.0",
      "_model_name": "HTMLModel",
      "_view_count": null,
      "_view_module": "@jupyter-widgets/controls",
      "_view_module_version": "1.5.0",
      "_view_name": "HTMLView",
      "description": "",
      "description_tooltip": null,
      "layout": "IPY_MODEL_5cd2d15c41ea4b05ad5e58e843c9a141",
      "placeholder": "​",
      "style": "IPY_MODEL_18a3e2c2d28f4fcdbdfd92978c31ed93",
      "value": "Map: 100%"
     }
    },
    "366db5f01aba4d629ebfd9394e6567d5": {
     "model_module": "@jupyter-widgets/base",
     "model_module_version": "1.2.0",
     "model_name": "LayoutModel",
     "state": {
      "_model_module": "@jupyter-widgets/base",
      "_model_module_version": "1.2.0",
      "_model_name": "LayoutModel",
      "_view_count": null,
      "_view_module": "@jupyter-widgets/base",
      "_view_module_version": "1.2.0",
      "_view_name": "LayoutView",
      "align_content": null,
      "align_items": null,
      "align_self": null,
      "border": null,
      "bottom": null,
      "display": null,
      "flex": null,
      "flex_flow": null,
      "grid_area": null,
      "grid_auto_columns": null,
      "grid_auto_flow": null,
      "grid_auto_rows": null,
      "grid_column": null,
      "grid_gap": null,
      "grid_row": null,
      "grid_template_areas": null,
      "grid_template_columns": null,
      "grid_template_rows": null,
      "height": null,
      "justify_content": null,
      "justify_items": null,
      "left": null,
      "margin": null,
      "max_height": null,
      "max_width": null,
      "min_height": null,
      "min_width": null,
      "object_fit": null,
      "object_position": null,
      "order": null,
      "overflow": null,
      "overflow_x": null,
      "overflow_y": null,
      "padding": null,
      "right": null,
      "top": null,
      "visibility": null,
      "width": null
     }
    },
    "372c8e33ba2f45f1994be885f1b7699d": {
     "model_module": "@jupyter-widgets/controls",
     "model_module_version": "1.5.0",
     "model_name": "DescriptionStyleModel",
     "state": {
      "_model_module": "@jupyter-widgets/controls",
      "_model_module_version": "1.5.0",
      "_model_name": "DescriptionStyleModel",
      "_view_count": null,
      "_view_module": "@jupyter-widgets/base",
      "_view_module_version": "1.2.0",
      "_view_name": "StyleView",
      "description_width": ""
     }
    },
    "375fec6920b6432586c76a711b7e989a": {
     "model_module": "@jupyter-widgets/controls",
     "model_module_version": "1.5.0",
     "model_name": "ProgressStyleModel",
     "state": {
      "_model_module": "@jupyter-widgets/controls",
      "_model_module_version": "1.5.0",
      "_model_name": "ProgressStyleModel",
      "_view_count": null,
      "_view_module": "@jupyter-widgets/base",
      "_view_module_version": "1.2.0",
      "_view_name": "StyleView",
      "bar_color": null,
      "description_width": ""
     }
    },
    "3aedaebbd7b342efaf071680d6c96959": {
     "model_module": "@jupyter-widgets/base",
     "model_module_version": "1.2.0",
     "model_name": "LayoutModel",
     "state": {
      "_model_module": "@jupyter-widgets/base",
      "_model_module_version": "1.2.0",
      "_model_name": "LayoutModel",
      "_view_count": null,
      "_view_module": "@jupyter-widgets/base",
      "_view_module_version": "1.2.0",
      "_view_name": "LayoutView",
      "align_content": null,
      "align_items": null,
      "align_self": null,
      "border": null,
      "bottom": null,
      "display": null,
      "flex": null,
      "flex_flow": null,
      "grid_area": null,
      "grid_auto_columns": null,
      "grid_auto_flow": null,
      "grid_auto_rows": null,
      "grid_column": null,
      "grid_gap": null,
      "grid_row": null,
      "grid_template_areas": null,
      "grid_template_columns": null,
      "grid_template_rows": null,
      "height": null,
      "justify_content": null,
      "justify_items": null,
      "left": null,
      "margin": null,
      "max_height": null,
      "max_width": null,
      "min_height": null,
      "min_width": null,
      "object_fit": null,
      "object_position": null,
      "order": null,
      "overflow": null,
      "overflow_x": null,
      "overflow_y": null,
      "padding": null,
      "right": null,
      "top": null,
      "visibility": null,
      "width": null
     }
    },
    "3c215647d2c34a7fac0b86f8b257ec68": {
     "model_module": "@jupyter-widgets/controls",
     "model_module_version": "1.5.0",
     "model_name": "HTMLModel",
     "state": {
      "_dom_classes": [],
      "_model_module": "@jupyter-widgets/controls",
      "_model_module_version": "1.5.0",
      "_model_name": "HTMLModel",
      "_view_count": null,
      "_view_module": "@jupyter-widgets/controls",
      "_view_module_version": "1.5.0",
      "_view_name": "HTMLView",
      "description": "",
      "description_tooltip": null,
      "layout": "IPY_MODEL_3aedaebbd7b342efaf071680d6c96959",
      "placeholder": "​",
      "style": "IPY_MODEL_5ceef0d402b24e389105ad26cd82f8c8",
      "value": "Downloading data files: 100%"
     }
    },
    "3d46724068074285b1954a172a1fc2f1": {
     "model_module": "@jupyter-widgets/base",
     "model_module_version": "1.2.0",
     "model_name": "LayoutModel",
     "state": {
      "_model_module": "@jupyter-widgets/base",
      "_model_module_version": "1.2.0",
      "_model_name": "LayoutModel",
      "_view_count": null,
      "_view_module": "@jupyter-widgets/base",
      "_view_module_version": "1.2.0",
      "_view_name": "LayoutView",
      "align_content": null,
      "align_items": null,
      "align_self": null,
      "border": null,
      "bottom": null,
      "display": null,
      "flex": null,
      "flex_flow": null,
      "grid_area": null,
      "grid_auto_columns": null,
      "grid_auto_flow": null,
      "grid_auto_rows": null,
      "grid_column": null,
      "grid_gap": null,
      "grid_row": null,
      "grid_template_areas": null,
      "grid_template_columns": null,
      "grid_template_rows": null,
      "height": null,
      "justify_content": null,
      "justify_items": null,
      "left": null,
      "margin": null,
      "max_height": null,
      "max_width": null,
      "min_height": null,
      "min_width": null,
      "object_fit": null,
      "object_position": null,
      "order": null,
      "overflow": null,
      "overflow_x": null,
      "overflow_y": null,
      "padding": null,
      "right": null,
      "top": null,
      "visibility": null,
      "width": null
     }
    },
    "3e7b671c88d74ad2bce7623c461df5e5": {
     "model_module": "@jupyter-widgets/base",
     "model_module_version": "1.2.0",
     "model_name": "LayoutModel",
     "state": {
      "_model_module": "@jupyter-widgets/base",
      "_model_module_version": "1.2.0",
      "_model_name": "LayoutModel",
      "_view_count": null,
      "_view_module": "@jupyter-widgets/base",
      "_view_module_version": "1.2.0",
      "_view_name": "LayoutView",
      "align_content": null,
      "align_items": null,
      "align_self": null,
      "border": null,
      "bottom": null,
      "display": null,
      "flex": null,
      "flex_flow": null,
      "grid_area": null,
      "grid_auto_columns": null,
      "grid_auto_flow": null,
      "grid_auto_rows": null,
      "grid_column": null,
      "grid_gap": null,
      "grid_row": null,
      "grid_template_areas": null,
      "grid_template_columns": null,
      "grid_template_rows": null,
      "height": null,
      "justify_content": null,
      "justify_items": null,
      "left": null,
      "margin": null,
      "max_height": null,
      "max_width": null,
      "min_height": null,
      "min_width": null,
      "object_fit": null,
      "object_position": null,
      "order": null,
      "overflow": null,
      "overflow_x": null,
      "overflow_y": null,
      "padding": null,
      "right": null,
      "top": null,
      "visibility": null,
      "width": null
     }
    },
    "4144340f2817457484d7a655746223ea": {
     "model_module": "@jupyter-widgets/base",
     "model_module_version": "1.2.0",
     "model_name": "LayoutModel",
     "state": {
      "_model_module": "@jupyter-widgets/base",
      "_model_module_version": "1.2.0",
      "_model_name": "LayoutModel",
      "_view_count": null,
      "_view_module": "@jupyter-widgets/base",
      "_view_module_version": "1.2.0",
      "_view_name": "LayoutView",
      "align_content": null,
      "align_items": null,
      "align_self": null,
      "border": null,
      "bottom": null,
      "display": null,
      "flex": null,
      "flex_flow": null,
      "grid_area": null,
      "grid_auto_columns": null,
      "grid_auto_flow": null,
      "grid_auto_rows": null,
      "grid_column": null,
      "grid_gap": null,
      "grid_row": null,
      "grid_template_areas": null,
      "grid_template_columns": null,
      "grid_template_rows": null,
      "height": null,
      "justify_content": null,
      "justify_items": null,
      "left": null,
      "margin": null,
      "max_height": null,
      "max_width": null,
      "min_height": null,
      "min_width": null,
      "object_fit": null,
      "object_position": null,
      "order": null,
      "overflow": null,
      "overflow_x": null,
      "overflow_y": null,
      "padding": null,
      "right": null,
      "top": null,
      "visibility": null,
      "width": null
     }
    },
    "41c3de44960749a88ee4fbcf92ce46f6": {
     "model_module": "@jupyter-widgets/base",
     "model_module_version": "1.2.0",
     "model_name": "LayoutModel",
     "state": {
      "_model_module": "@jupyter-widgets/base",
      "_model_module_version": "1.2.0",
      "_model_name": "LayoutModel",
      "_view_count": null,
      "_view_module": "@jupyter-widgets/base",
      "_view_module_version": "1.2.0",
      "_view_name": "LayoutView",
      "align_content": null,
      "align_items": null,
      "align_self": null,
      "border": null,
      "bottom": null,
      "display": null,
      "flex": null,
      "flex_flow": null,
      "grid_area": null,
      "grid_auto_columns": null,
      "grid_auto_flow": null,
      "grid_auto_rows": null,
      "grid_column": null,
      "grid_gap": null,
      "grid_row": null,
      "grid_template_areas": null,
      "grid_template_columns": null,
      "grid_template_rows": null,
      "height": null,
      "justify_content": null,
      "justify_items": null,
      "left": null,
      "margin": null,
      "max_height": null,
      "max_width": null,
      "min_height": null,
      "min_width": null,
      "object_fit": null,
      "object_position": null,
      "order": null,
      "overflow": null,
      "overflow_x": null,
      "overflow_y": null,
      "padding": null,
      "right": null,
      "top": null,
      "visibility": null,
      "width": null
     }
    },
    "44a51f0467994802a0e2a89ab2d9609f": {
     "model_module": "@jupyter-widgets/controls",
     "model_module_version": "1.5.0",
     "model_name": "ProgressStyleModel",
     "state": {
      "_model_module": "@jupyter-widgets/controls",
      "_model_module_version": "1.5.0",
      "_model_name": "ProgressStyleModel",
      "_view_count": null,
      "_view_module": "@jupyter-widgets/base",
      "_view_module_version": "1.2.0",
      "_view_name": "StyleView",
      "bar_color": null,
      "description_width": ""
     }
    },
    "4590b0e30fd44335bd6a9b1bd817ef7a": {
     "model_module": "@jupyter-widgets/base",
     "model_module_version": "1.2.0",
     "model_name": "LayoutModel",
     "state": {
      "_model_module": "@jupyter-widgets/base",
      "_model_module_version": "1.2.0",
      "_model_name": "LayoutModel",
      "_view_count": null,
      "_view_module": "@jupyter-widgets/base",
      "_view_module_version": "1.2.0",
      "_view_name": "LayoutView",
      "align_content": null,
      "align_items": null,
      "align_self": null,
      "border": null,
      "bottom": null,
      "display": null,
      "flex": null,
      "flex_flow": null,
      "grid_area": null,
      "grid_auto_columns": null,
      "grid_auto_flow": null,
      "grid_auto_rows": null,
      "grid_column": null,
      "grid_gap": null,
      "grid_row": null,
      "grid_template_areas": null,
      "grid_template_columns": null,
      "grid_template_rows": null,
      "height": null,
      "justify_content": null,
      "justify_items": null,
      "left": null,
      "margin": null,
      "max_height": null,
      "max_width": null,
      "min_height": null,
      "min_width": null,
      "object_fit": null,
      "object_position": null,
      "order": null,
      "overflow": null,
      "overflow_x": null,
      "overflow_y": null,
      "padding": null,
      "right": null,
      "top": null,
      "visibility": null,
      "width": null
     }
    },
    "48fea61ddf56480781b5ae93030ea989": {
     "model_module": "@jupyter-widgets/controls",
     "model_module_version": "1.5.0",
     "model_name": "DescriptionStyleModel",
     "state": {
      "_model_module": "@jupyter-widgets/controls",
      "_model_module_version": "1.5.0",
      "_model_name": "DescriptionStyleModel",
      "_view_count": null,
      "_view_module": "@jupyter-widgets/base",
      "_view_module_version": "1.2.0",
      "_view_name": "StyleView",
      "description_width": ""
     }
    },
    "50d5d8ef64fd46ea86f77f107c67bbb8": {
     "model_module": "@jupyter-widgets/base",
     "model_module_version": "1.2.0",
     "model_name": "LayoutModel",
     "state": {
      "_model_module": "@jupyter-widgets/base",
      "_model_module_version": "1.2.0",
      "_model_name": "LayoutModel",
      "_view_count": null,
      "_view_module": "@jupyter-widgets/base",
      "_view_module_version": "1.2.0",
      "_view_name": "LayoutView",
      "align_content": null,
      "align_items": null,
      "align_self": null,
      "border": null,
      "bottom": null,
      "display": null,
      "flex": null,
      "flex_flow": null,
      "grid_area": null,
      "grid_auto_columns": null,
      "grid_auto_flow": null,
      "grid_auto_rows": null,
      "grid_column": null,
      "grid_gap": null,
      "grid_row": null,
      "grid_template_areas": null,
      "grid_template_columns": null,
      "grid_template_rows": null,
      "height": null,
      "justify_content": null,
      "justify_items": null,
      "left": null,
      "margin": null,
      "max_height": null,
      "max_width": null,
      "min_height": null,
      "min_width": null,
      "object_fit": null,
      "object_position": null,
      "order": null,
      "overflow": null,
      "overflow_x": null,
      "overflow_y": null,
      "padding": null,
      "right": null,
      "top": null,
      "visibility": null,
      "width": null
     }
    },
    "525f459e51d54d2a83e3c001eb157de1": {
     "model_module": "@jupyter-widgets/controls",
     "model_module_version": "1.5.0",
     "model_name": "ProgressStyleModel",
     "state": {
      "_model_module": "@jupyter-widgets/controls",
      "_model_module_version": "1.5.0",
      "_model_name": "ProgressStyleModel",
      "_view_count": null,
      "_view_module": "@jupyter-widgets/base",
      "_view_module_version": "1.2.0",
      "_view_name": "StyleView",
      "bar_color": null,
      "description_width": ""
     }
    },
    "575e332e868e4292aad70aa04b30ec5b": {
     "model_module": "@jupyter-widgets/controls",
     "model_module_version": "1.5.0",
     "model_name": "HBoxModel",
     "state": {
      "_dom_classes": [],
      "_model_module": "@jupyter-widgets/controls",
      "_model_module_version": "1.5.0",
      "_model_name": "HBoxModel",
      "_view_count": null,
      "_view_module": "@jupyter-widgets/controls",
      "_view_module_version": "1.5.0",
      "_view_name": "HBoxView",
      "box_style": "",
      "children": [
       "IPY_MODEL_a2ec9ea3f4924c54a6b167a4fafcf288",
       "IPY_MODEL_64241c09d71f42f6ab427ab9900b8531",
       "IPY_MODEL_977a80e15798477984daf223c85bcdf1"
      ],
      "layout": "IPY_MODEL_0510894fcdeb486ab6a9f7f146b88521"
     }
    },
    "5ac480a101744bdcaff69695afaa0c54": {
     "model_module": "@jupyter-widgets/controls",
     "model_module_version": "1.5.0",
     "model_name": "FloatProgressModel",
     "state": {
      "_dom_classes": [],
      "_model_module": "@jupyter-widgets/controls",
      "_model_module_version": "1.5.0",
      "_model_name": "FloatProgressModel",
      "_view_count": null,
      "_view_module": "@jupyter-widgets/controls",
      "_view_module_version": "1.5.0",
      "_view_name": "ProgressView",
      "bar_style": "success",
      "description": "",
      "description_tooltip": null,
      "layout": "IPY_MODEL_ad02ec77c74d4a929b9a848fcd55e6a5",
      "max": 8012,
      "min": 0,
      "orientation": "horizontal",
      "style": "IPY_MODEL_525f459e51d54d2a83e3c001eb157de1",
      "value": 8012
     }
    },
    "5b6167a3185b4ca281edf383a82c06a0": {
     "model_module": "@jupyter-widgets/controls",
     "model_module_version": "1.5.0",
     "model_name": "HTMLModel",
     "state": {
      "_dom_classes": [],
      "_model_module": "@jupyter-widgets/controls",
      "_model_module_version": "1.5.0",
      "_model_name": "HTMLModel",
      "_view_count": null,
      "_view_module": "@jupyter-widgets/controls",
      "_view_module_version": "1.5.0",
      "_view_name": "HTMLView",
      "description": "",
      "description_tooltip": null,
      "layout": "IPY_MODEL_3e7b671c88d74ad2bce7623c461df5e5",
      "placeholder": "​",
      "style": "IPY_MODEL_633599fa3ab245aabe08aedfe311521c",
      "value": "Generating train split: "
     }
    },
    "5cd2d15c41ea4b05ad5e58e843c9a141": {
     "model_module": "@jupyter-widgets/base",
     "model_module_version": "1.2.0",
     "model_name": "LayoutModel",
     "state": {
      "_model_module": "@jupyter-widgets/base",
      "_model_module_version": "1.2.0",
      "_model_name": "LayoutModel",
      "_view_count": null,
      "_view_module": "@jupyter-widgets/base",
      "_view_module_version": "1.2.0",
      "_view_name": "LayoutView",
      "align_content": null,
      "align_items": null,
      "align_self": null,
      "border": null,
      "bottom": null,
      "display": null,
      "flex": null,
      "flex_flow": null,
      "grid_area": null,
      "grid_auto_columns": null,
      "grid_auto_flow": null,
      "grid_auto_rows": null,
      "grid_column": null,
      "grid_gap": null,
      "grid_row": null,
      "grid_template_areas": null,
      "grid_template_columns": null,
      "grid_template_rows": null,
      "height": null,
      "justify_content": null,
      "justify_items": null,
      "left": null,
      "margin": null,
      "max_height": null,
      "max_width": null,
      "min_height": null,
      "min_width": null,
      "object_fit": null,
      "object_position": null,
      "order": null,
      "overflow": null,
      "overflow_x": null,
      "overflow_y": null,
      "padding": null,
      "right": null,
      "top": null,
      "visibility": null,
      "width": null
     }
    },
    "5ceef0d402b24e389105ad26cd82f8c8": {
     "model_module": "@jupyter-widgets/controls",
     "model_module_version": "1.5.0",
     "model_name": "DescriptionStyleModel",
     "state": {
      "_model_module": "@jupyter-widgets/controls",
      "_model_module_version": "1.5.0",
      "_model_name": "DescriptionStyleModel",
      "_view_count": null,
      "_view_module": "@jupyter-widgets/base",
      "_view_module_version": "1.2.0",
      "_view_name": "StyleView",
      "description_width": ""
     }
    },
    "5daa6938da8e40829e670d0c1cda45d7": {
     "model_module": "@jupyter-widgets/base",
     "model_module_version": "1.2.0",
     "model_name": "LayoutModel",
     "state": {
      "_model_module": "@jupyter-widgets/base",
      "_model_module_version": "1.2.0",
      "_model_name": "LayoutModel",
      "_view_count": null,
      "_view_module": "@jupyter-widgets/base",
      "_view_module_version": "1.2.0",
      "_view_name": "LayoutView",
      "align_content": null,
      "align_items": null,
      "align_self": null,
      "border": null,
      "bottom": null,
      "display": null,
      "flex": null,
      "flex_flow": null,
      "grid_area": null,
      "grid_auto_columns": null,
      "grid_auto_flow": null,
      "grid_auto_rows": null,
      "grid_column": null,
      "grid_gap": null,
      "grid_row": null,
      "grid_template_areas": null,
      "grid_template_columns": null,
      "grid_template_rows": null,
      "height": null,
      "justify_content": null,
      "justify_items": null,
      "left": null,
      "margin": null,
      "max_height": null,
      "max_width": null,
      "min_height": null,
      "min_width": null,
      "object_fit": null,
      "object_position": null,
      "order": null,
      "overflow": null,
      "overflow_x": null,
      "overflow_y": null,
      "padding": null,
      "right": null,
      "top": null,
      "visibility": null,
      "width": "20px"
     }
    },
    "5f4ce39ce9d642cc9d12117a82e1b379": {
     "model_module": "@jupyter-widgets/controls",
     "model_module_version": "1.5.0",
     "model_name": "HBoxModel",
     "state": {
      "_dom_classes": [],
      "_model_module": "@jupyter-widgets/controls",
      "_model_module_version": "1.5.0",
      "_model_name": "HBoxModel",
      "_view_count": null,
      "_view_module": "@jupyter-widgets/controls",
      "_view_module_version": "1.5.0",
      "_view_name": "HBoxView",
      "box_style": "",
      "children": [
       "IPY_MODEL_aa5aa8c0a71848b5b34b987bcd1cebb5",
       "IPY_MODEL_8248e0d560994b929ec3b61071d08e8e",
       "IPY_MODEL_d33510db3d6f4cde9b7cfdc4bbf46633"
      ],
      "layout": "IPY_MODEL_7a56fb7e02fb48809c7705a64636ea34"
     }
    },
    "6142ada01d1c42e7bfb247c0a1667dab": {
     "model_module": "@jupyter-widgets/controls",
     "model_module_version": "1.5.0",
     "model_name": "HBoxModel",
     "state": {
      "_dom_classes": [],
      "_model_module": "@jupyter-widgets/controls",
      "_model_module_version": "1.5.0",
      "_model_name": "HBoxModel",
      "_view_count": null,
      "_view_module": "@jupyter-widgets/controls",
      "_view_module_version": "1.5.0",
      "_view_name": "HBoxView",
      "box_style": "",
      "children": [
       "IPY_MODEL_f0a5d222482c4f099ccef515252a49cf",
       "IPY_MODEL_7d5a6dba3f9d4cbba7db85b9d2517542",
       "IPY_MODEL_7e801c9f1bd345afa0265398b9b001ad"
      ],
      "layout": "IPY_MODEL_bfec76fdb8b2439b98649673ef3ba7b7"
     }
    },
    "633599fa3ab245aabe08aedfe311521c": {
     "model_module": "@jupyter-widgets/controls",
     "model_module_version": "1.5.0",
     "model_name": "DescriptionStyleModel",
     "state": {
      "_model_module": "@jupyter-widgets/controls",
      "_model_module_version": "1.5.0",
      "_model_name": "DescriptionStyleModel",
      "_view_count": null,
      "_view_module": "@jupyter-widgets/base",
      "_view_module_version": "1.2.0",
      "_view_name": "StyleView",
      "description_width": ""
     }
    },
    "64241c09d71f42f6ab427ab9900b8531": {
     "model_module": "@jupyter-widgets/controls",
     "model_module_version": "1.5.0",
     "model_name": "FloatProgressModel",
     "state": {
      "_dom_classes": [],
      "_model_module": "@jupyter-widgets/controls",
      "_model_module_version": "1.5.0",
      "_model_name": "FloatProgressModel",
      "_view_count": null,
      "_view_module": "@jupyter-widgets/controls",
      "_view_module_version": "1.5.0",
      "_view_name": "ProgressView",
      "bar_style": "success",
      "description": "",
      "description_tooltip": null,
      "layout": "IPY_MODEL_9c7439319afc47a7b97013d2c7c76cbd",
      "max": 1,
      "min": 0,
      "orientation": "horizontal",
      "style": "IPY_MODEL_c6d8cd363c7d4d00a4276c67480b95a2",
      "value": 1
     }
    },
    "662a615d57c54cfa82cd1d7c808fb58e": {
     "model_module": "@jupyter-widgets/controls",
     "model_module_version": "1.5.0",
     "model_name": "DescriptionStyleModel",
     "state": {
      "_model_module": "@jupyter-widgets/controls",
      "_model_module_version": "1.5.0",
      "_model_name": "DescriptionStyleModel",
      "_view_count": null,
      "_view_module": "@jupyter-widgets/base",
      "_view_module_version": "1.2.0",
      "_view_name": "StyleView",
      "description_width": ""
     }
    },
    "674c903a206347a39022b483a88eed4f": {
     "model_module": "@jupyter-widgets/base",
     "model_module_version": "1.2.0",
     "model_name": "LayoutModel",
     "state": {
      "_model_module": "@jupyter-widgets/base",
      "_model_module_version": "1.2.0",
      "_model_name": "LayoutModel",
      "_view_count": null,
      "_view_module": "@jupyter-widgets/base",
      "_view_module_version": "1.2.0",
      "_view_name": "LayoutView",
      "align_content": null,
      "align_items": null,
      "align_self": null,
      "border": null,
      "bottom": null,
      "display": null,
      "flex": null,
      "flex_flow": null,
      "grid_area": null,
      "grid_auto_columns": null,
      "grid_auto_flow": null,
      "grid_auto_rows": null,
      "grid_column": null,
      "grid_gap": null,
      "grid_row": null,
      "grid_template_areas": null,
      "grid_template_columns": null,
      "grid_template_rows": null,
      "height": null,
      "justify_content": null,
      "justify_items": null,
      "left": null,
      "margin": null,
      "max_height": null,
      "max_width": null,
      "min_height": null,
      "min_width": null,
      "object_fit": null,
      "object_position": null,
      "order": null,
      "overflow": null,
      "overflow_x": null,
      "overflow_y": null,
      "padding": null,
      "right": null,
      "top": null,
      "visibility": null,
      "width": null
     }
    },
    "6ab6525394144b39848c6edacc146d0a": {
     "model_module": "@jupyter-widgets/controls",
     "model_module_version": "1.5.0",
     "model_name": "DescriptionStyleModel",
     "state": {
      "_model_module": "@jupyter-widgets/controls",
      "_model_module_version": "1.5.0",
      "_model_name": "DescriptionStyleModel",
      "_view_count": null,
      "_view_module": "@jupyter-widgets/base",
      "_view_module_version": "1.2.0",
      "_view_name": "StyleView",
      "description_width": ""
     }
    },
    "6cd29352cecc49d88fcfef1607e791e2": {
     "model_module": "@jupyter-widgets/controls",
     "model_module_version": "1.5.0",
     "model_name": "HBoxModel",
     "state": {
      "_dom_classes": [],
      "_model_module": "@jupyter-widgets/controls",
      "_model_module_version": "1.5.0",
      "_model_name": "HBoxModel",
      "_view_count": null,
      "_view_module": "@jupyter-widgets/controls",
      "_view_module_version": "1.5.0",
      "_view_name": "HBoxView",
      "box_style": "",
      "children": [
       "IPY_MODEL_8924cbbf41364ee1b57363f74d7b45bc",
       "IPY_MODEL_ce024d3db229456892a8b12bcdaa5c51",
       "IPY_MODEL_8bdd39db060445c8ab94a55edcaf592a"
      ],
      "layout": "IPY_MODEL_4590b0e30fd44335bd6a9b1bd817ef7a"
     }
    },
    "6e69c77a9c414258bd5de8e23898021c": {
     "model_module": "@jupyter-widgets/controls",
     "model_module_version": "1.5.0",
     "model_name": "DescriptionStyleModel",
     "state": {
      "_model_module": "@jupyter-widgets/controls",
      "_model_module_version": "1.5.0",
      "_model_name": "DescriptionStyleModel",
      "_view_count": null,
      "_view_module": "@jupyter-widgets/base",
      "_view_module_version": "1.2.0",
      "_view_name": "StyleView",
      "description_width": ""
     }
    },
    "7a56fb7e02fb48809c7705a64636ea34": {
     "model_module": "@jupyter-widgets/base",
     "model_module_version": "1.2.0",
     "model_name": "LayoutModel",
     "state": {
      "_model_module": "@jupyter-widgets/base",
      "_model_module_version": "1.2.0",
      "_model_name": "LayoutModel",
      "_view_count": null,
      "_view_module": "@jupyter-widgets/base",
      "_view_module_version": "1.2.0",
      "_view_name": "LayoutView",
      "align_content": null,
      "align_items": null,
      "align_self": null,
      "border": null,
      "bottom": null,
      "display": null,
      "flex": null,
      "flex_flow": null,
      "grid_area": null,
      "grid_auto_columns": null,
      "grid_auto_flow": null,
      "grid_auto_rows": null,
      "grid_column": null,
      "grid_gap": null,
      "grid_row": null,
      "grid_template_areas": null,
      "grid_template_columns": null,
      "grid_template_rows": null,
      "height": null,
      "justify_content": null,
      "justify_items": null,
      "left": null,
      "margin": null,
      "max_height": null,
      "max_width": null,
      "min_height": null,
      "min_width": null,
      "object_fit": null,
      "object_position": null,
      "order": null,
      "overflow": null,
      "overflow_x": null,
      "overflow_y": null,
      "padding": null,
      "right": null,
      "top": null,
      "visibility": null,
      "width": null
     }
    },
    "7d5a6dba3f9d4cbba7db85b9d2517542": {
     "model_module": "@jupyter-widgets/controls",
     "model_module_version": "1.5.0",
     "model_name": "FloatProgressModel",
     "state": {
      "_dom_classes": [],
      "_model_module": "@jupyter-widgets/controls",
      "_model_module_version": "1.5.0",
      "_model_name": "FloatProgressModel",
      "_view_count": null,
      "_view_module": "@jupyter-widgets/controls",
      "_view_module_version": "1.5.0",
      "_view_name": "ProgressView",
      "bar_style": "success",
      "description": "",
      "description_tooltip": null,
      "layout": "IPY_MODEL_d29cefa4abd14bb196a9c128ee9bd555",
      "max": 2003,
      "min": 0,
      "orientation": "horizontal",
      "style": "IPY_MODEL_375fec6920b6432586c76a711b7e989a",
      "value": 2003
     }
    },
    "7e801c9f1bd345afa0265398b9b001ad": {
     "model_module": "@jupyter-widgets/controls",
     "model_module_version": "1.5.0",
     "model_name": "HTMLModel",
     "state": {
      "_dom_classes": [],
      "_model_module": "@jupyter-widgets/controls",
      "_model_module_version": "1.5.0",
      "_model_name": "HTMLModel",
      "_view_count": null,
      "_view_module": "@jupyter-widgets/controls",
      "_view_module_version": "1.5.0",
      "_view_name": "HTMLView",
      "description": "",
      "description_tooltip": null,
      "layout": "IPY_MODEL_cd8118d33b5d4bb89e94d9bd893a86c3",
      "placeholder": "​",
      "style": "IPY_MODEL_276e2f032cb848e794a5bd0f82f7a791",
      "value": " 2003/2003 [00:01&lt;00:00, 2604.21 examples/s]"
     }
    },
    "8248e0d560994b929ec3b61071d08e8e": {
     "model_module": "@jupyter-widgets/controls",
     "model_module_version": "1.5.0",
     "model_name": "FloatProgressModel",
     "state": {
      "_dom_classes": [],
      "_model_module": "@jupyter-widgets/controls",
      "_model_module_version": "1.5.0",
      "_model_name": "FloatProgressModel",
      "_view_count": null,
      "_view_module": "@jupyter-widgets/controls",
      "_view_module_version": "1.5.0",
      "_view_name": "ProgressView",
      "bar_style": "success",
      "description": "",
      "description_tooltip": null,
      "layout": "IPY_MODEL_674c903a206347a39022b483a88eed4f",
      "max": 1,
      "min": 0,
      "orientation": "horizontal",
      "style": "IPY_MODEL_9ee9d5232e4b4c7f86fd197f41e08d5c",
      "value": 1
     }
    },
    "8924cbbf41364ee1b57363f74d7b45bc": {
     "model_module": "@jupyter-widgets/controls",
     "model_module_version": "1.5.0",
     "model_name": "HTMLModel",
     "state": {
      "_dom_classes": [],
      "_model_module": "@jupyter-widgets/controls",
      "_model_module_version": "1.5.0",
      "_model_name": "HTMLModel",
      "_view_count": null,
      "_view_module": "@jupyter-widgets/controls",
      "_view_module_version": "1.5.0",
      "_view_name": "HTMLView",
      "description": "",
      "description_tooltip": null,
      "layout": "IPY_MODEL_b8207ac43f1448a8916882a828debbe6",
      "placeholder": "​",
      "style": "IPY_MODEL_004a2114194f462d9b65e76d92e0b0f3",
      "value": "Generating train split: "
     }
    },
    "8bdd39db060445c8ab94a55edcaf592a": {
     "model_module": "@jupyter-widgets/controls",
     "model_module_version": "1.5.0",
     "model_name": "HTMLModel",
     "state": {
      "_dom_classes": [],
      "_model_module": "@jupyter-widgets/controls",
      "_model_module_version": "1.5.0",
      "_model_name": "HTMLModel",
      "_view_count": null,
      "_view_module": "@jupyter-widgets/controls",
      "_view_module_version": "1.5.0",
      "_view_name": "HTMLView",
      "description": "",
      "description_tooltip": null,
      "layout": "IPY_MODEL_4144340f2817457484d7a655746223ea",
      "placeholder": "​",
      "style": "IPY_MODEL_18fc7777e040404095515c7908ae88a7",
      "value": " 2003/0 [00:00&lt;00:00, 11531.42 examples/s]"
     }
    },
    "8c2682eb0ddb49cfa39242f4d4c6464d": {
     "model_module": "@jupyter-widgets/controls",
     "model_module_version": "1.5.0",
     "model_name": "HTMLModel",
     "state": {
      "_dom_classes": [],
      "_model_module": "@jupyter-widgets/controls",
      "_model_module_version": "1.5.0",
      "_model_name": "HTMLModel",
      "_view_count": null,
      "_view_module": "@jupyter-widgets/controls",
      "_view_module_version": "1.5.0",
      "_view_name": "HTMLView",
      "description": "",
      "description_tooltip": null,
      "layout": "IPY_MODEL_3d46724068074285b1954a172a1fc2f1",
      "placeholder": "​",
      "style": "IPY_MODEL_6e69c77a9c414258bd5de8e23898021c",
      "value": " 8012/8012 [00:07&lt;00:00, 2260.02 examples/s]"
     }
    },
    "8ffc1885b7774ba38ce0922ee934378c": {
     "model_module": "@jupyter-widgets/controls",
     "model_module_version": "1.5.0",
     "model_name": "HTMLModel",
     "state": {
      "_dom_classes": [],
      "_model_module": "@jupyter-widgets/controls",
      "_model_module_version": "1.5.0",
      "_model_name": "HTMLModel",
      "_view_count": null,
      "_view_module": "@jupyter-widgets/controls",
      "_view_module_version": "1.5.0",
      "_view_name": "HTMLView",
      "description": "",
      "description_tooltip": null,
      "layout": "IPY_MODEL_fc855b723ce046849a55e114208fdbc1",
      "placeholder": "​",
      "style": "IPY_MODEL_48fea61ddf56480781b5ae93030ea989",
      "value": "Extracting data files: 100%"
     }
    },
    "90dd439d491f4f92b93f7385d1992ddf": {
     "model_module": "@jupyter-widgets/controls",
     "model_module_version": "1.5.0",
     "model_name": "HTMLModel",
     "state": {
      "_dom_classes": [],
      "_model_module": "@jupyter-widgets/controls",
      "_model_module_version": "1.5.0",
      "_model_name": "HTMLModel",
      "_view_count": null,
      "_view_module": "@jupyter-widgets/controls",
      "_view_module_version": "1.5.0",
      "_view_name": "HTMLView",
      "description": "",
      "description_tooltip": null,
      "layout": "IPY_MODEL_03a5382399d247df97546b40953e83d8",
      "placeholder": "​",
      "style": "IPY_MODEL_372c8e33ba2f45f1994be885f1b7699d",
      "value": " 1/1 [00:00&lt;00:00, 61.71it/s]"
     }
    },
    "977a80e15798477984daf223c85bcdf1": {
     "model_module": "@jupyter-widgets/controls",
     "model_module_version": "1.5.0",
     "model_name": "HTMLModel",
     "state": {
      "_dom_classes": [],
      "_model_module": "@jupyter-widgets/controls",
      "_model_module_version": "1.5.0",
      "_model_name": "HTMLModel",
      "_view_count": null,
      "_view_module": "@jupyter-widgets/controls",
      "_view_module_version": "1.5.0",
      "_view_name": "HTMLView",
      "description": "",
      "description_tooltip": null,
      "layout": "IPY_MODEL_c305b20c02f5470189cd75eb4137be33",
      "placeholder": "​",
      "style": "IPY_MODEL_0d6224bebcb3414096ea7d9651dad0ad",
      "value": " 1/1 [00:00&lt;00:00, 12.38it/s]"
     }
    },
    "9c7439319afc47a7b97013d2c7c76cbd": {
     "model_module": "@jupyter-widgets/base",
     "model_module_version": "1.2.0",
     "model_name": "LayoutModel",
     "state": {
      "_model_module": "@jupyter-widgets/base",
      "_model_module_version": "1.2.0",
      "_model_name": "LayoutModel",
      "_view_count": null,
      "_view_module": "@jupyter-widgets/base",
      "_view_module_version": "1.2.0",
      "_view_name": "LayoutView",
      "align_content": null,
      "align_items": null,
      "align_self": null,
      "border": null,
      "bottom": null,
      "display": null,
      "flex": null,
      "flex_flow": null,
      "grid_area": null,
      "grid_auto_columns": null,
      "grid_auto_flow": null,
      "grid_auto_rows": null,
      "grid_column": null,
      "grid_gap": null,
      "grid_row": null,
      "grid_template_areas": null,
      "grid_template_columns": null,
      "grid_template_rows": null,
      "height": null,
      "justify_content": null,
      "justify_items": null,
      "left": null,
      "margin": null,
      "max_height": null,
      "max_width": null,
      "min_height": null,
      "min_width": null,
      "object_fit": null,
      "object_position": null,
      "order": null,
      "overflow": null,
      "overflow_x": null,
      "overflow_y": null,
      "padding": null,
      "right": null,
      "top": null,
      "visibility": null,
      "width": null
     }
    },
    "9ee9d5232e4b4c7f86fd197f41e08d5c": {
     "model_module": "@jupyter-widgets/controls",
     "model_module_version": "1.5.0",
     "model_name": "ProgressStyleModel",
     "state": {
      "_model_module": "@jupyter-widgets/controls",
      "_model_module_version": "1.5.0",
      "_model_name": "ProgressStyleModel",
      "_view_count": null,
      "_view_module": "@jupyter-widgets/base",
      "_view_module_version": "1.2.0",
      "_view_name": "StyleView",
      "bar_color": null,
      "description_width": ""
     }
    },
    "a1f0ec27b05647f38e4c01328b387346": {
     "model_module": "@jupyter-widgets/base",
     "model_module_version": "1.2.0",
     "model_name": "LayoutModel",
     "state": {
      "_model_module": "@jupyter-widgets/base",
      "_model_module_version": "1.2.0",
      "_model_name": "LayoutModel",
      "_view_count": null,
      "_view_module": "@jupyter-widgets/base",
      "_view_module_version": "1.2.0",
      "_view_name": "LayoutView",
      "align_content": null,
      "align_items": null,
      "align_self": null,
      "border": null,
      "bottom": null,
      "display": null,
      "flex": null,
      "flex_flow": null,
      "grid_area": null,
      "grid_auto_columns": null,
      "grid_auto_flow": null,
      "grid_auto_rows": null,
      "grid_column": null,
      "grid_gap": null,
      "grid_row": null,
      "grid_template_areas": null,
      "grid_template_columns": null,
      "grid_template_rows": null,
      "height": null,
      "justify_content": null,
      "justify_items": null,
      "left": null,
      "margin": null,
      "max_height": null,
      "max_width": null,
      "min_height": null,
      "min_width": null,
      "object_fit": null,
      "object_position": null,
      "order": null,
      "overflow": null,
      "overflow_x": null,
      "overflow_y": null,
      "padding": null,
      "right": null,
      "top": null,
      "visibility": null,
      "width": null
     }
    },
    "a2ec9ea3f4924c54a6b167a4fafcf288": {
     "model_module": "@jupyter-widgets/controls",
     "model_module_version": "1.5.0",
     "model_name": "HTMLModel",
     "state": {
      "_dom_classes": [],
      "_model_module": "@jupyter-widgets/controls",
      "_model_module_version": "1.5.0",
      "_model_name": "HTMLModel",
      "_view_count": null,
      "_view_module": "@jupyter-widgets/controls",
      "_view_module_version": "1.5.0",
      "_view_name": "HTMLView",
      "description": "",
      "description_tooltip": null,
      "layout": "IPY_MODEL_e87aef0d9cf94c5b9d5b7963e80b8846",
      "placeholder": "​",
      "style": "IPY_MODEL_6ab6525394144b39848c6edacc146d0a",
      "value": "Downloading data files: 100%"
     }
    },
    "aa5aa8c0a71848b5b34b987bcd1cebb5": {
     "model_module": "@jupyter-widgets/controls",
     "model_module_version": "1.5.0",
     "model_name": "HTMLModel",
     "state": {
      "_dom_classes": [],
      "_model_module": "@jupyter-widgets/controls",
      "_model_module_version": "1.5.0",
      "_model_name": "HTMLModel",
      "_view_count": null,
      "_view_module": "@jupyter-widgets/controls",
      "_view_module_version": "1.5.0",
      "_view_name": "HTMLView",
      "description": "",
      "description_tooltip": null,
      "layout": "IPY_MODEL_50d5d8ef64fd46ea86f77f107c67bbb8",
      "placeholder": "​",
      "style": "IPY_MODEL_bbea36799dd74a9989bd5c03ccc6eebd",
      "value": "Extracting data files: 100%"
     }
    },
    "ad02ec77c74d4a929b9a848fcd55e6a5": {
     "model_module": "@jupyter-widgets/base",
     "model_module_version": "1.2.0",
     "model_name": "LayoutModel",
     "state": {
      "_model_module": "@jupyter-widgets/base",
      "_model_module_version": "1.2.0",
      "_model_name": "LayoutModel",
      "_view_count": null,
      "_view_module": "@jupyter-widgets/base",
      "_view_module_version": "1.2.0",
      "_view_name": "LayoutView",
      "align_content": null,
      "align_items": null,
      "align_self": null,
      "border": null,
      "bottom": null,
      "display": null,
      "flex": null,
      "flex_flow": null,
      "grid_area": null,
      "grid_auto_columns": null,
      "grid_auto_flow": null,
      "grid_auto_rows": null,
      "grid_column": null,
      "grid_gap": null,
      "grid_row": null,
      "grid_template_areas": null,
      "grid_template_columns": null,
      "grid_template_rows": null,
      "height": null,
      "justify_content": null,
      "justify_items": null,
      "left": null,
      "margin": null,
      "max_height": null,
      "max_width": null,
      "min_height": null,
      "min_width": null,
      "object_fit": null,
      "object_position": null,
      "order": null,
      "overflow": null,
      "overflow_x": null,
      "overflow_y": null,
      "padding": null,
      "right": null,
      "top": null,
      "visibility": null,
      "width": null
     }
    },
    "ad08df5242e24d2d86f2f4e5867cbdbd": {
     "model_module": "@jupyter-widgets/base",
     "model_module_version": "1.2.0",
     "model_name": "LayoutModel",
     "state": {
      "_model_module": "@jupyter-widgets/base",
      "_model_module_version": "1.2.0",
      "_model_name": "LayoutModel",
      "_view_count": null,
      "_view_module": "@jupyter-widgets/base",
      "_view_module_version": "1.2.0",
      "_view_name": "LayoutView",
      "align_content": null,
      "align_items": null,
      "align_self": null,
      "border": null,
      "bottom": null,
      "display": null,
      "flex": null,
      "flex_flow": null,
      "grid_area": null,
      "grid_auto_columns": null,
      "grid_auto_flow": null,
      "grid_auto_rows": null,
      "grid_column": null,
      "grid_gap": null,
      "grid_row": null,
      "grid_template_areas": null,
      "grid_template_columns": null,
      "grid_template_rows": null,
      "height": null,
      "justify_content": null,
      "justify_items": null,
      "left": null,
      "margin": null,
      "max_height": null,
      "max_width": null,
      "min_height": null,
      "min_width": null,
      "object_fit": null,
      "object_position": null,
      "order": null,
      "overflow": null,
      "overflow_x": null,
      "overflow_y": null,
      "padding": null,
      "right": null,
      "top": null,
      "visibility": null,
      "width": null
     }
    },
    "adc0a7d5322a4a7da85a9fea51943f11": {
     "model_module": "@jupyter-widgets/controls",
     "model_module_version": "1.5.0",
     "model_name": "HBoxModel",
     "state": {
      "_dom_classes": [],
      "_model_module": "@jupyter-widgets/controls",
      "_model_module_version": "1.5.0",
      "_model_name": "HBoxModel",
      "_view_count": null,
      "_view_module": "@jupyter-widgets/controls",
      "_view_module_version": "1.5.0",
      "_view_name": "HBoxView",
      "box_style": "",
      "children": [
       "IPY_MODEL_3c215647d2c34a7fac0b86f8b257ec68",
       "IPY_MODEL_ef31045db2d94ccf99ac71ede24439b5",
       "IPY_MODEL_90dd439d491f4f92b93f7385d1992ddf"
      ],
      "layout": "IPY_MODEL_3157f8a62b494d729e54fb5b7e50a6cc"
     }
    },
    "b0a165488fcc4702b8ca82da5e188506": {
     "model_module": "@jupyter-widgets/base",
     "model_module_version": "1.2.0",
     "model_name": "LayoutModel",
     "state": {
      "_model_module": "@jupyter-widgets/base",
      "_model_module_version": "1.2.0",
      "_model_name": "LayoutModel",
      "_view_count": null,
      "_view_module": "@jupyter-widgets/base",
      "_view_module_version": "1.2.0",
      "_view_name": "LayoutView",
      "align_content": null,
      "align_items": null,
      "align_self": null,
      "border": null,
      "bottom": null,
      "display": null,
      "flex": null,
      "flex_flow": null,
      "grid_area": null,
      "grid_auto_columns": null,
      "grid_auto_flow": null,
      "grid_auto_rows": null,
      "grid_column": null,
      "grid_gap": null,
      "grid_row": null,
      "grid_template_areas": null,
      "grid_template_columns": null,
      "grid_template_rows": null,
      "height": null,
      "justify_content": null,
      "justify_items": null,
      "left": null,
      "margin": null,
      "max_height": null,
      "max_width": null,
      "min_height": null,
      "min_width": null,
      "object_fit": null,
      "object_position": null,
      "order": null,
      "overflow": null,
      "overflow_x": null,
      "overflow_y": null,
      "padding": null,
      "right": null,
      "top": null,
      "visibility": null,
      "width": null
     }
    },
    "b159f0a44d844fc1b6febb9af93ad362": {
     "model_module": "@jupyter-widgets/controls",
     "model_module_version": "1.5.0",
     "model_name": "DescriptionStyleModel",
     "state": {
      "_model_module": "@jupyter-widgets/controls",
      "_model_module_version": "1.5.0",
      "_model_name": "DescriptionStyleModel",
      "_view_count": null,
      "_view_module": "@jupyter-widgets/base",
      "_view_module_version": "1.2.0",
      "_view_name": "StyleView",
      "description_width": ""
     }
    },
    "b35bfe1b49b046f4b6d8530e37ecdb80": {
     "model_module": "@jupyter-widgets/controls",
     "model_module_version": "1.5.0",
     "model_name": "ProgressStyleModel",
     "state": {
      "_model_module": "@jupyter-widgets/controls",
      "_model_module_version": "1.5.0",
      "_model_name": "ProgressStyleModel",
      "_view_count": null,
      "_view_module": "@jupyter-widgets/base",
      "_view_module_version": "1.2.0",
      "_view_name": "StyleView",
      "bar_color": null,
      "description_width": ""
     }
    },
    "b4d7cd7687f047e7b3b2c4172be0fb30": {
     "model_module": "@jupyter-widgets/controls",
     "model_module_version": "1.5.0",
     "model_name": "HBoxModel",
     "state": {
      "_dom_classes": [],
      "_model_module": "@jupyter-widgets/controls",
      "_model_module_version": "1.5.0",
      "_model_name": "HBoxModel",
      "_view_count": null,
      "_view_module": "@jupyter-widgets/controls",
      "_view_module_version": "1.5.0",
      "_view_name": "HBoxView",
      "box_style": "",
      "children": [
       "IPY_MODEL_5b6167a3185b4ca281edf383a82c06a0",
       "IPY_MODEL_fd9bdd02c3264e2ea66e44b453442b75",
       "IPY_MODEL_26fadfeece1c4d7691a49cc751b539c8"
      ],
      "layout": "IPY_MODEL_1eec423b6bcc4769b1e52d41570bed58"
     }
    },
    "b8207ac43f1448a8916882a828debbe6": {
     "model_module": "@jupyter-widgets/base",
     "model_module_version": "1.2.0",
     "model_name": "LayoutModel",
     "state": {
      "_model_module": "@jupyter-widgets/base",
      "_model_module_version": "1.2.0",
      "_model_name": "LayoutModel",
      "_view_count": null,
      "_view_module": "@jupyter-widgets/base",
      "_view_module_version": "1.2.0",
      "_view_name": "LayoutView",
      "align_content": null,
      "align_items": null,
      "align_self": null,
      "border": null,
      "bottom": null,
      "display": null,
      "flex": null,
      "flex_flow": null,
      "grid_area": null,
      "grid_auto_columns": null,
      "grid_auto_flow": null,
      "grid_auto_rows": null,
      "grid_column": null,
      "grid_gap": null,
      "grid_row": null,
      "grid_template_areas": null,
      "grid_template_columns": null,
      "grid_template_rows": null,
      "height": null,
      "justify_content": null,
      "justify_items": null,
      "left": null,
      "margin": null,
      "max_height": null,
      "max_width": null,
      "min_height": null,
      "min_width": null,
      "object_fit": null,
      "object_position": null,
      "order": null,
      "overflow": null,
      "overflow_x": null,
      "overflow_y": null,
      "padding": null,
      "right": null,
      "top": null,
      "visibility": null,
      "width": null
     }
    },
    "bbea36799dd74a9989bd5c03ccc6eebd": {
     "model_module": "@jupyter-widgets/controls",
     "model_module_version": "1.5.0",
     "model_name": "DescriptionStyleModel",
     "state": {
      "_model_module": "@jupyter-widgets/controls",
      "_model_module_version": "1.5.0",
      "_model_name": "DescriptionStyleModel",
      "_view_count": null,
      "_view_module": "@jupyter-widgets/base",
      "_view_module_version": "1.2.0",
      "_view_name": "StyleView",
      "description_width": ""
     }
    },
    "be7502a56cd240b09db0bd85b8a75be4": {
     "model_module": "@jupyter-widgets/base",
     "model_module_version": "1.2.0",
     "model_name": "LayoutModel",
     "state": {
      "_model_module": "@jupyter-widgets/base",
      "_model_module_version": "1.2.0",
      "_model_name": "LayoutModel",
      "_view_count": null,
      "_view_module": "@jupyter-widgets/base",
      "_view_module_version": "1.2.0",
      "_view_name": "LayoutView",
      "align_content": null,
      "align_items": null,
      "align_self": null,
      "border": null,
      "bottom": null,
      "display": null,
      "flex": null,
      "flex_flow": null,
      "grid_area": null,
      "grid_auto_columns": null,
      "grid_auto_flow": null,
      "grid_auto_rows": null,
      "grid_column": null,
      "grid_gap": null,
      "grid_row": null,
      "grid_template_areas": null,
      "grid_template_columns": null,
      "grid_template_rows": null,
      "height": null,
      "justify_content": null,
      "justify_items": null,
      "left": null,
      "margin": null,
      "max_height": null,
      "max_width": null,
      "min_height": null,
      "min_width": null,
      "object_fit": null,
      "object_position": null,
      "order": null,
      "overflow": null,
      "overflow_x": null,
      "overflow_y": null,
      "padding": null,
      "right": null,
      "top": null,
      "visibility": null,
      "width": null
     }
    },
    "bfec76fdb8b2439b98649673ef3ba7b7": {
     "model_module": "@jupyter-widgets/base",
     "model_module_version": "1.2.0",
     "model_name": "LayoutModel",
     "state": {
      "_model_module": "@jupyter-widgets/base",
      "_model_module_version": "1.2.0",
      "_model_name": "LayoutModel",
      "_view_count": null,
      "_view_module": "@jupyter-widgets/base",
      "_view_module_version": "1.2.0",
      "_view_name": "LayoutView",
      "align_content": null,
      "align_items": null,
      "align_self": null,
      "border": null,
      "bottom": null,
      "display": null,
      "flex": null,
      "flex_flow": null,
      "grid_area": null,
      "grid_auto_columns": null,
      "grid_auto_flow": null,
      "grid_auto_rows": null,
      "grid_column": null,
      "grid_gap": null,
      "grid_row": null,
      "grid_template_areas": null,
      "grid_template_columns": null,
      "grid_template_rows": null,
      "height": null,
      "justify_content": null,
      "justify_items": null,
      "left": null,
      "margin": null,
      "max_height": null,
      "max_width": null,
      "min_height": null,
      "min_width": null,
      "object_fit": null,
      "object_position": null,
      "order": null,
      "overflow": null,
      "overflow_x": null,
      "overflow_y": null,
      "padding": null,
      "right": null,
      "top": null,
      "visibility": null,
      "width": null
     }
    },
    "c305b20c02f5470189cd75eb4137be33": {
     "model_module": "@jupyter-widgets/base",
     "model_module_version": "1.2.0",
     "model_name": "LayoutModel",
     "state": {
      "_model_module": "@jupyter-widgets/base",
      "_model_module_version": "1.2.0",
      "_model_name": "LayoutModel",
      "_view_count": null,
      "_view_module": "@jupyter-widgets/base",
      "_view_module_version": "1.2.0",
      "_view_name": "LayoutView",
      "align_content": null,
      "align_items": null,
      "align_self": null,
      "border": null,
      "bottom": null,
      "display": null,
      "flex": null,
      "flex_flow": null,
      "grid_area": null,
      "grid_auto_columns": null,
      "grid_auto_flow": null,
      "grid_auto_rows": null,
      "grid_column": null,
      "grid_gap": null,
      "grid_row": null,
      "grid_template_areas": null,
      "grid_template_columns": null,
      "grid_template_rows": null,
      "height": null,
      "justify_content": null,
      "justify_items": null,
      "left": null,
      "margin": null,
      "max_height": null,
      "max_width": null,
      "min_height": null,
      "min_width": null,
      "object_fit": null,
      "object_position": null,
      "order": null,
      "overflow": null,
      "overflow_x": null,
      "overflow_y": null,
      "padding": null,
      "right": null,
      "top": null,
      "visibility": null,
      "width": null
     }
    },
    "c4729b82b2684fb8817534149a15287d": {
     "model_module": "@jupyter-widgets/base",
     "model_module_version": "1.2.0",
     "model_name": "LayoutModel",
     "state": {
      "_model_module": "@jupyter-widgets/base",
      "_model_module_version": "1.2.0",
      "_model_name": "LayoutModel",
      "_view_count": null,
      "_view_module": "@jupyter-widgets/base",
      "_view_module_version": "1.2.0",
      "_view_name": "LayoutView",
      "align_content": null,
      "align_items": null,
      "align_self": null,
      "border": null,
      "bottom": null,
      "display": null,
      "flex": null,
      "flex_flow": null,
      "grid_area": null,
      "grid_auto_columns": null,
      "grid_auto_flow": null,
      "grid_auto_rows": null,
      "grid_column": null,
      "grid_gap": null,
      "grid_row": null,
      "grid_template_areas": null,
      "grid_template_columns": null,
      "grid_template_rows": null,
      "height": null,
      "justify_content": null,
      "justify_items": null,
      "left": null,
      "margin": null,
      "max_height": null,
      "max_width": null,
      "min_height": null,
      "min_width": null,
      "object_fit": null,
      "object_position": null,
      "order": null,
      "overflow": null,
      "overflow_x": null,
      "overflow_y": null,
      "padding": null,
      "right": null,
      "top": null,
      "visibility": null,
      "width": null
     }
    },
    "c50dae8769df4184bb7055ec07488ed6": {
     "model_module": "@jupyter-widgets/controls",
     "model_module_version": "1.5.0",
     "model_name": "DescriptionStyleModel",
     "state": {
      "_model_module": "@jupyter-widgets/controls",
      "_model_module_version": "1.5.0",
      "_model_name": "DescriptionStyleModel",
      "_view_count": null,
      "_view_module": "@jupyter-widgets/base",
      "_view_module_version": "1.2.0",
      "_view_name": "StyleView",
      "description_width": ""
     }
    },
    "c6d8cd363c7d4d00a4276c67480b95a2": {
     "model_module": "@jupyter-widgets/controls",
     "model_module_version": "1.5.0",
     "model_name": "ProgressStyleModel",
     "state": {
      "_model_module": "@jupyter-widgets/controls",
      "_model_module_version": "1.5.0",
      "_model_name": "ProgressStyleModel",
      "_view_count": null,
      "_view_module": "@jupyter-widgets/base",
      "_view_module_version": "1.2.0",
      "_view_name": "StyleView",
      "bar_color": null,
      "description_width": ""
     }
    },
    "c7e06e9305b045d0a94baadee4afe97c": {
     "model_module": "@jupyter-widgets/controls",
     "model_module_version": "1.5.0",
     "model_name": "DescriptionStyleModel",
     "state": {
      "_model_module": "@jupyter-widgets/controls",
      "_model_module_version": "1.5.0",
      "_model_name": "DescriptionStyleModel",
      "_view_count": null,
      "_view_module": "@jupyter-widgets/base",
      "_view_module_version": "1.2.0",
      "_view_name": "StyleView",
      "description_width": ""
     }
    },
    "cc68dd67492048fd905253d4b9963ec6": {
     "model_module": "@jupyter-widgets/controls",
     "model_module_version": "1.5.0",
     "model_name": "HBoxModel",
     "state": {
      "_dom_classes": [],
      "_model_module": "@jupyter-widgets/controls",
      "_model_module_version": "1.5.0",
      "_model_name": "HBoxModel",
      "_view_count": null,
      "_view_module": "@jupyter-widgets/controls",
      "_view_module_version": "1.5.0",
      "_view_name": "HBoxView",
      "box_style": "",
      "children": [
       "IPY_MODEL_3571d077964e4767bc60a1bf1228179c",
       "IPY_MODEL_5ac480a101744bdcaff69695afaa0c54",
       "IPY_MODEL_8c2682eb0ddb49cfa39242f4d4c6464d"
      ],
      "layout": "IPY_MODEL_a1f0ec27b05647f38e4c01328b387346"
     }
    },
    "cd8118d33b5d4bb89e94d9bd893a86c3": {
     "model_module": "@jupyter-widgets/base",
     "model_module_version": "1.2.0",
     "model_name": "LayoutModel",
     "state": {
      "_model_module": "@jupyter-widgets/base",
      "_model_module_version": "1.2.0",
      "_model_name": "LayoutModel",
      "_view_count": null,
      "_view_module": "@jupyter-widgets/base",
      "_view_module_version": "1.2.0",
      "_view_name": "LayoutView",
      "align_content": null,
      "align_items": null,
      "align_self": null,
      "border": null,
      "bottom": null,
      "display": null,
      "flex": null,
      "flex_flow": null,
      "grid_area": null,
      "grid_auto_columns": null,
      "grid_auto_flow": null,
      "grid_auto_rows": null,
      "grid_column": null,
      "grid_gap": null,
      "grid_row": null,
      "grid_template_areas": null,
      "grid_template_columns": null,
      "grid_template_rows": null,
      "height": null,
      "justify_content": null,
      "justify_items": null,
      "left": null,
      "margin": null,
      "max_height": null,
      "max_width": null,
      "min_height": null,
      "min_width": null,
      "object_fit": null,
      "object_position": null,
      "order": null,
      "overflow": null,
      "overflow_x": null,
      "overflow_y": null,
      "padding": null,
      "right": null,
      "top": null,
      "visibility": null,
      "width": null
     }
    },
    "ce024d3db229456892a8b12bcdaa5c51": {
     "model_module": "@jupyter-widgets/controls",
     "model_module_version": "1.5.0",
     "model_name": "FloatProgressModel",
     "state": {
      "_dom_classes": [],
      "_model_module": "@jupyter-widgets/controls",
      "_model_module_version": "1.5.0",
      "_model_name": "FloatProgressModel",
      "_view_count": null,
      "_view_module": "@jupyter-widgets/controls",
      "_view_module_version": "1.5.0",
      "_view_name": "ProgressView",
      "bar_style": "success",
      "description": "",
      "description_tooltip": null,
      "layout": "IPY_MODEL_051603c85059426db931e5912b1b3eed",
      "max": 1,
      "min": 0,
      "orientation": "horizontal",
      "style": "IPY_MODEL_44a51f0467994802a0e2a89ab2d9609f",
      "value": 1
     }
    },
    "d29cefa4abd14bb196a9c128ee9bd555": {
     "model_module": "@jupyter-widgets/base",
     "model_module_version": "1.2.0",
     "model_name": "LayoutModel",
     "state": {
      "_model_module": "@jupyter-widgets/base",
      "_model_module_version": "1.2.0",
      "_model_name": "LayoutModel",
      "_view_count": null,
      "_view_module": "@jupyter-widgets/base",
      "_view_module_version": "1.2.0",
      "_view_name": "LayoutView",
      "align_content": null,
      "align_items": null,
      "align_self": null,
      "border": null,
      "bottom": null,
      "display": null,
      "flex": null,
      "flex_flow": null,
      "grid_area": null,
      "grid_auto_columns": null,
      "grid_auto_flow": null,
      "grid_auto_rows": null,
      "grid_column": null,
      "grid_gap": null,
      "grid_row": null,
      "grid_template_areas": null,
      "grid_template_columns": null,
      "grid_template_rows": null,
      "height": null,
      "justify_content": null,
      "justify_items": null,
      "left": null,
      "margin": null,
      "max_height": null,
      "max_width": null,
      "min_height": null,
      "min_width": null,
      "object_fit": null,
      "object_position": null,
      "order": null,
      "overflow": null,
      "overflow_x": null,
      "overflow_y": null,
      "padding": null,
      "right": null,
      "top": null,
      "visibility": null,
      "width": null
     }
    },
    "d33510db3d6f4cde9b7cfdc4bbf46633": {
     "model_module": "@jupyter-widgets/controls",
     "model_module_version": "1.5.0",
     "model_name": "HTMLModel",
     "state": {
      "_dom_classes": [],
      "_model_module": "@jupyter-widgets/controls",
      "_model_module_version": "1.5.0",
      "_model_name": "HTMLModel",
      "_view_count": null,
      "_view_module": "@jupyter-widgets/controls",
      "_view_module_version": "1.5.0",
      "_view_name": "HTMLView",
      "description": "",
      "description_tooltip": null,
      "layout": "IPY_MODEL_366db5f01aba4d629ebfd9394e6567d5",
      "placeholder": "​",
      "style": "IPY_MODEL_662a615d57c54cfa82cd1d7c808fb58e",
      "value": " 1/1 [00:00&lt;00:00, 42.62it/s]"
     }
    },
    "d406a6a3fe604d9785042e2b06bdf1e7": {
     "model_module": "@jupyter-widgets/controls",
     "model_module_version": "1.5.0",
     "model_name": "ProgressStyleModel",
     "state": {
      "_model_module": "@jupyter-widgets/controls",
      "_model_module_version": "1.5.0",
      "_model_name": "ProgressStyleModel",
      "_view_count": null,
      "_view_module": "@jupyter-widgets/base",
      "_view_module_version": "1.2.0",
      "_view_name": "StyleView",
      "bar_color": null,
      "description_width": ""
     }
    },
    "d606cfba1c03417a9e1561b9903ef340": {
     "model_module": "@jupyter-widgets/controls",
     "model_module_version": "1.5.0",
     "model_name": "HBoxModel",
     "state": {
      "_dom_classes": [],
      "_model_module": "@jupyter-widgets/controls",
      "_model_module_version": "1.5.0",
      "_model_name": "HBoxModel",
      "_view_count": null,
      "_view_module": "@jupyter-widgets/controls",
      "_view_module_version": "1.5.0",
      "_view_name": "HBoxView",
      "box_style": "",
      "children": [
       "IPY_MODEL_8ffc1885b7774ba38ce0922ee934378c",
       "IPY_MODEL_130d804471c04d0daedd9ab138e89b4b",
       "IPY_MODEL_0a83c125beea4abfb7d4e95f08137770"
      ],
      "layout": "IPY_MODEL_c4729b82b2684fb8817534149a15287d"
     }
    },
    "e87aef0d9cf94c5b9d5b7963e80b8846": {
     "model_module": "@jupyter-widgets/base",
     "model_module_version": "1.2.0",
     "model_name": "LayoutModel",
     "state": {
      "_model_module": "@jupyter-widgets/base",
      "_model_module_version": "1.2.0",
      "_model_name": "LayoutModel",
      "_view_count": null,
      "_view_module": "@jupyter-widgets/base",
      "_view_module_version": "1.2.0",
      "_view_name": "LayoutView",
      "align_content": null,
      "align_items": null,
      "align_self": null,
      "border": null,
      "bottom": null,
      "display": null,
      "flex": null,
      "flex_flow": null,
      "grid_area": null,
      "grid_auto_columns": null,
      "grid_auto_flow": null,
      "grid_auto_rows": null,
      "grid_column": null,
      "grid_gap": null,
      "grid_row": null,
      "grid_template_areas": null,
      "grid_template_columns": null,
      "grid_template_rows": null,
      "height": null,
      "justify_content": null,
      "justify_items": null,
      "left": null,
      "margin": null,
      "max_height": null,
      "max_width": null,
      "min_height": null,
      "min_width": null,
      "object_fit": null,
      "object_position": null,
      "order": null,
      "overflow": null,
      "overflow_x": null,
      "overflow_y": null,
      "padding": null,
      "right": null,
      "top": null,
      "visibility": null,
      "width": null
     }
    },
    "ec682955f90c46eb8074dd52f07f3ab0": {
     "model_module": "@jupyter-widgets/controls",
     "model_module_version": "1.5.0",
     "model_name": "ProgressStyleModel",
     "state": {
      "_model_module": "@jupyter-widgets/controls",
      "_model_module_version": "1.5.0",
      "_model_name": "ProgressStyleModel",
      "_view_count": null,
      "_view_module": "@jupyter-widgets/base",
      "_view_module_version": "1.2.0",
      "_view_name": "StyleView",
      "bar_color": null,
      "description_width": ""
     }
    },
    "ef31045db2d94ccf99ac71ede24439b5": {
     "model_module": "@jupyter-widgets/controls",
     "model_module_version": "1.5.0",
     "model_name": "FloatProgressModel",
     "state": {
      "_dom_classes": [],
      "_model_module": "@jupyter-widgets/controls",
      "_model_module_version": "1.5.0",
      "_model_name": "FloatProgressModel",
      "_view_count": null,
      "_view_module": "@jupyter-widgets/controls",
      "_view_module_version": "1.5.0",
      "_view_name": "ProgressView",
      "bar_style": "success",
      "description": "",
      "description_tooltip": null,
      "layout": "IPY_MODEL_b0a165488fcc4702b8ca82da5e188506",
      "max": 1,
      "min": 0,
      "orientation": "horizontal",
      "style": "IPY_MODEL_d406a6a3fe604d9785042e2b06bdf1e7",
      "value": 1
     }
    },
    "f0a5d222482c4f099ccef515252a49cf": {
     "model_module": "@jupyter-widgets/controls",
     "model_module_version": "1.5.0",
     "model_name": "HTMLModel",
     "state": {
      "_dom_classes": [],
      "_model_module": "@jupyter-widgets/controls",
      "_model_module_version": "1.5.0",
      "_model_name": "HTMLModel",
      "_view_count": null,
      "_view_module": "@jupyter-widgets/controls",
      "_view_module_version": "1.5.0",
      "_view_name": "HTMLView",
      "description": "",
      "description_tooltip": null,
      "layout": "IPY_MODEL_2b4902e9b0a745ae91d1fc9c41f3b907",
      "placeholder": "​",
      "style": "IPY_MODEL_c7e06e9305b045d0a94baadee4afe97c",
      "value": "Map: 100%"
     }
    },
    "fc855b723ce046849a55e114208fdbc1": {
     "model_module": "@jupyter-widgets/base",
     "model_module_version": "1.2.0",
     "model_name": "LayoutModel",
     "state": {
      "_model_module": "@jupyter-widgets/base",
      "_model_module_version": "1.2.0",
      "_model_name": "LayoutModel",
      "_view_count": null,
      "_view_module": "@jupyter-widgets/base",
      "_view_module_version": "1.2.0",
      "_view_name": "LayoutView",
      "align_content": null,
      "align_items": null,
      "align_self": null,
      "border": null,
      "bottom": null,
      "display": null,
      "flex": null,
      "flex_flow": null,
      "grid_area": null,
      "grid_auto_columns": null,
      "grid_auto_flow": null,
      "grid_auto_rows": null,
      "grid_column": null,
      "grid_gap": null,
      "grid_row": null,
      "grid_template_areas": null,
      "grid_template_columns": null,
      "grid_template_rows": null,
      "height": null,
      "justify_content": null,
      "justify_items": null,
      "left": null,
      "margin": null,
      "max_height": null,
      "max_width": null,
      "min_height": null,
      "min_width": null,
      "object_fit": null,
      "object_position": null,
      "order": null,
      "overflow": null,
      "overflow_x": null,
      "overflow_y": null,
      "padding": null,
      "right": null,
      "top": null,
      "visibility": null,
      "width": null
     }
    },
    "fd9bdd02c3264e2ea66e44b453442b75": {
     "model_module": "@jupyter-widgets/controls",
     "model_module_version": "1.5.0",
     "model_name": "FloatProgressModel",
     "state": {
      "_dom_classes": [],
      "_model_module": "@jupyter-widgets/controls",
      "_model_module_version": "1.5.0",
      "_model_name": "FloatProgressModel",
      "_view_count": null,
      "_view_module": "@jupyter-widgets/controls",
      "_view_module_version": "1.5.0",
      "_view_name": "ProgressView",
      "bar_style": "success",
      "description": "",
      "description_tooltip": null,
      "layout": "IPY_MODEL_5daa6938da8e40829e670d0c1cda45d7",
      "max": 1,
      "min": 0,
      "orientation": "horizontal",
      "style": "IPY_MODEL_b35bfe1b49b046f4b6d8530e37ecdb80",
      "value": 1
     }
    }
   }
  }
 },
 "nbformat": 4,
 "nbformat_minor": 1
}
