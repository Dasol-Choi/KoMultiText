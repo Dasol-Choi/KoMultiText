{
 "cells": [
  {
   "cell_type": "markdown",
   "metadata": {
    "id": "tvtwH9ggGf1G"
   },
   "source": [
    "### <b>Install the required libraries</b>"
   ]
  },
  {
   "cell_type": "code",
   "execution_count": 1,
   "metadata": {
    "colab": {
     "base_uri": "https://localhost:8080/"
    },
    "id": "zeHuY4y0ICJ-",
    "outputId": "d4246bc2-1b49-48b9-fb07-7d8e34dabbc7"
   },
   "outputs": [],
   "source": [
    "# Install the transformers library (Allows importing models from Hugging Face)\n",
    "!pip install transformers\n",
    "!pip install datasets "
   ]
  },
  {
   "cell_type": "markdown",
   "metadata": {
    "id": "9z-vERIKbQiT"
   },
   "source": [
    "### <b>Import necessary libraries</b>"
   ]
  },
  {
   "cell_type": "code",
   "execution_count": 2,
   "metadata": {
    "id": "LH2ySA1QbQzw"
   },
   "outputs": [],
   "source": [
    "import copy \n",
    "import json\n",
    "import logging \n",
    "import os \n",
    "\n",
    "import warnings\n",
    "warnings.filterwarnings(\"ignore\")\n",
    "import logging\n",
    "logging.basicConfig(level=logging.ERROR)\n",
    "\n",
    "import numpy as np\n",
    "import pandas as pd\n",
    "from datasets import load_dataset\n",
    "from sklearn.model_selection import train_test_split\n",
    "from tqdm import tqdm\n",
    "import torch"
   ]
  },
  {
   "cell_type": "code",
   "execution_count": 3,
   "metadata": {},
   "outputs": [
    {
     "name": "stdout",
     "output_type": "stream",
     "text": [
      "CUDA Available: True\n",
      "Current GPU Index: 0\n",
      "Current GPU Name: GeForce RTX 2080 Ti\n",
      "GPU Memory Allocated: 0\n",
      "GPU Memory Cached: 0\n"
     ]
    }
   ],
   "source": [
    "# Check if CUDA is available\n",
    "print(\"CUDA Available:\", torch.cuda.is_available())\n",
    "\n",
    "# If CUDA is available, print the current GPU details\n",
    "if torch.cuda.is_available():\n",
    "    print(\"Current GPU Index:\", torch.cuda.current_device())\n",
    "    print(\"Current GPU Name:\", torch.cuda.get_device_name(torch.cuda.current_device()))\n",
    "    print(\"GPU Memory Allocated:\", torch.cuda.memory_allocated())\n",
    "    print(\"GPU Memory Cached:\", torch.cuda.memory_cached())"
   ]
  },
  {
   "cell_type": "markdown",
   "metadata": {
    "id": "4vCdR9qwGjei"
   },
   "source": [
    "### <b>Load the model from Hugging Face's model hub</b>"
   ]
  },
  {
   "cell_type": "code",
   "execution_count": 4,
   "metadata": {
    "id": "plGoHyuyZ79h"
   },
   "outputs": [],
   "source": [
    "import transformers\n",
    "from transformers import AutoConfig, AutoModelForSequenceClassification, AutoTokenizer\n",
    "from transformers import AdamW, get_linear_schedule_with_warmup\n",
    "from transformers import BigBirdConfig, AutoConfig, AutoModel"
   ]
  },
  {
   "cell_type": "code",
   "execution_count": 5,
   "metadata": {
    "colab": {
     "base_uri": "https://localhost:8080/"
    },
    "id": "XwuHa80eR3dC",
    "outputId": "b0ed45fe-25f7-4f6f-b4e6-7a4b842fcd90",
    "scrolled": true
   },
   "outputs": [
    {
     "name": "stderr",
     "output_type": "stream",
     "text": [
      "Asking to truncate to max_length but no maximum length is provided and the model has no predefined maximum length. Default to no truncation.\n"
     ]
    }
   ],
   "source": [
    "from transformers import AutoModel, AutoTokenizer, BigBirdConfig\n",
    "\n",
    "model_path = \"snunlp/KR-Medium\"\n",
    "model = AutoModel.from_pretrained(model_path)\n",
    "\n",
    "tokenizer = AutoTokenizer.from_pretrained(model_path, do_lower_case=False)\n",
    "\n",
    "text = \"한국어 KR-BERT 모델을 공개합니다!\"\n",
    "encoded_input = tokenizer(text, return_tensors='pt', truncation=True)\n",
    "output = model(**encoded_input)"
   ]
  },
  {
   "cell_type": "code",
   "execution_count": 6,
   "metadata": {},
   "outputs": [
    {
     "name": "stdout",
     "output_type": "stream",
     "text": [
      "tensor([[[ 0.3643,  0.6459, -0.2313,  ...,  0.6451, -0.1159,  0.3841],\n",
      "         [-0.0726,  1.3123,  0.5474,  ...,  1.5355,  0.4892,  0.2628],\n",
      "         [-0.2217,  1.5919, -0.4332,  ...,  0.1309, -0.0770,  0.3442],\n",
      "         ...,\n",
      "         [-0.6567,  0.5202, -0.1853,  ...,  0.4653,  0.0383,  0.7940],\n",
      "         [-0.0108,  0.5530, -0.1801,  ...,  0.4510, -0.4076,  0.3430],\n",
      "         [ 0.1201,  0.7531, -0.3095,  ...,  0.6505,  0.5646,  0.0246]]],\n",
      "       grad_fn=<NativeLayerNormBackward0>)\n",
      "torch.Size([1, 16, 768])\n"
     ]
    }
   ],
   "source": [
    "# Print the values of the final hidden state\n",
    "print(output[0])\n",
    "\n",
    "# Print the shape of the final hidden state\n",
    "print(output[0].shape)"
   ]
  },
  {
   "cell_type": "markdown",
   "metadata": {
    "id": "OBlLlRQJHx1m"
   },
   "source": [
    "### <b>Set hyperparameters for the experiment</b>"
   ]
  },
  {
   "cell_type": "code",
   "execution_count": 7,
   "metadata": {
    "id": "-OAqKcbuH1Tm"
   },
   "outputs": [],
   "source": [
    "from types import SimpleNamespace\n",
    "\n",
    "# Create a configuration object to store hyperparameters and other settings\n",
    "config = SimpleNamespace()\n",
    "\n",
    "config.task = \"krbert_profanity\"\n",
    "config.dataset = \"KoMultiText\"\n",
    "\n",
    "config.cache_dir = \"krbert_profanity_cache\" # Temporary directory for current task assets like vocabulary\n",
    "config.output_dir = \"krbert_profanity_output\" # Directory where final models and results will be saved\n",
    "\n",
    "config.use_tpu = False\n",
    "config.model_name_or_path = model_path \n",
    "config.data_dir = \"./\" # The input data dir \n",
    "\n",
    "config.train_file = \"train_dataset.csv\" \n",
    "config.predict_file = \"test_dataset.csv\" \n",
    "\n",
    "config.max_seq_length = 512 # Maximum sequence length\n",
    "config.train_batch_size = 8 # Batch size for training\n",
    "config.eval_batch_size = 4 # Batch size for evaluation\n",
    "\n",
    "config.learning_rate = 3e-6 # The initial learning rate for Adam\n",
    "config.num_train_epochs = 20 # Total number of training epochs to perform\n",
    "\n",
    "config.gradient_accumulation_steps = 4 # Number of updates steps to accumulate before performing a backward/update pass.\n",
    "config.threads = 4\n",
    "config.seed = 42 \n",
    "\n",
    "config.device_num = 0 # Device number (changable for multi-GPU setups)\n",
    "\n",
    "config.do_train = True \n",
    "config.do_eval_during_train = True\n",
    "config.do_eval = True \n",
    "\n",
    "config.do_lower_case = False\n",
    "config.weight_decay = 0.0 # Weight decay if we apply some.\n",
    "config.adam_epsilon = 1e-8 # Epsilon for Adam optimizer.\n",
    "config.max_grad_norm = 1.0 # Max gradient norm.\n",
    "config.warmup_proportion = 0.0 # Warmup proportion for linear warmup"
   ]
  },
  {
   "cell_type": "markdown",
   "metadata": {
    "id": "2SPm2YU_Lq2n"
   },
   "source": [
    "### <b>Preprocessing the training dataset</b>\n",
    "* Instead of tokenizing the training text every time, we preprocess and <b>save all tokenized results before starting the model training</b>.\n",
    "    * This approach significantly speeds up the process."
   ]
  },
  {
   "cell_type": "code",
   "execution_count": 8,
   "metadata": {
    "id": "2gJGxD9bYBTK"
   },
   "outputs": [],
   "source": [
    "tokenizer = AutoTokenizer.from_pretrained(config.model_name_or_path, do_lower_case=False, cache_dir=config.cache_dir)"
   ]
  },
  {
   "cell_type": "code",
   "execution_count": 9,
   "metadata": {
    "id": "7QpRhocwKqhl"
   },
   "outputs": [],
   "source": [
    "def train_split(config, texts, labels, is_train):\n",
    "    x_train, y_train, x_label, y_label = train_test_split(\n",
    "        texts, labels, test_size=0.2, random_state=config.seed, stratify=None\n",
    "    )\n",
    "    if is_train:\n",
    "        texts, labels = x_train, x_label\n",
    "    else:\n",
    "        texts, labels = y_train, y_label\n",
    "        \n",
    "    return texts, labels\n",
    "\n",
    "def process_comment_cls(config, data_file, is_train):\n",
    "    df = pd.read_csv(data_file)\n",
    "    profanity = df[\"profanity\"].astype(int).values.tolist()\n",
    "    labels = profanity\n",
    "    texts = df[\"comment\"].astype(str).values.tolist()\n",
    "    texts, labels = train_split(config, texts, labels, is_train)\n",
    "    \n",
    "    return texts, labels"
   ]
  },
  {
   "cell_type": "code",
   "execution_count": 10,
   "metadata": {
    "id": "tAq-i9SuLta-"
   },
   "outputs": [],
   "source": [
    "import torch.utils.data as torch_data\n",
    "\n",
    "def data_pretokenizing(config, tokenizer, is_train=True):\n",
    "    if is_train:\n",
    "        data_file = config.train_file\n",
    "    else:\n",
    "        data_file = config.predict_file\n",
    "\n",
    "    data_path = config.data_dir\n",
    "    if data_file is not None:\n",
    "        data_path = os.path.join(data_path, data_file)\n",
    "    else:\n",
    "        data_path += \"/\"\n",
    "    \n",
    "    # Construct the file name for the tokenized dataset\n",
    "    comps = [\n",
    "        data_path,\n",
    "        config.dataset,\n",
    "        config.model_name_or_path.replace(\"/\", \"_\"),\n",
    "        config.max_seq_length,\n",
    "        \"train\" if is_train else \"dev\",\n",
    "        \"dataset.txt\",\n",
    "    ]\n",
    "    dataset_file = \"_\".join([str(comp) for comp in comps])\n",
    "    print(\"dataset_file:\", dataset_file)\n",
    "    \n",
    "    # Tokenize the dataset and write to the file\n",
    "    with open(dataset_file, \"w\", encoding=\"utf-8\") as writer_file:\n",
    "        cnt = 0\n",
    "        total_data = process_comment_cls(config, data_path, is_train)\n",
    "        for text, label in zip(total_data[0], total_data[1]):\n",
    "            feature = tokenizer(text, max_length=config.max_seq_length, padding=\"max_length\", truncation=True, add_special_tokens=True)\n",
    "            writed_data = {\n",
    "                \"input_ids\": feature[\"input_ids\"],\n",
    "                \"attention_mask\": feature[\"attention_mask\"],\n",
    "                \"profanity\": int(label), \n",
    "            }\n",
    "            writer_file.write(json.dumps(writed_data) + \"\\n\")\n",
    "            cnt += 1\n",
    "        print(f\"{cnt} features processed from {data_path}\")\n",
    "\n",
    "    return dataset_file"
   ]
  },
  {
   "cell_type": "code",
   "execution_count": 11,
   "metadata": {
    "colab": {
     "base_uri": "https://localhost:8080/"
    },
    "id": "WYuakKfzXid0",
    "outputId": "8a212719-1cd8-4ee7-f479-ca0eda77f16a"
   },
   "outputs": [
    {
     "name": "stdout",
     "output_type": "stream",
     "text": [
      "dataset_file: ./train_dataset.csv_KoMultiText_snunlp_KR-Medium_512_train_dataset.txt\n",
      "30688 features processed from ./train_dataset.csv\n",
      "dataset_file: ./test_dataset.csv_KoMultiText_snunlp_KR-Medium_512_dev_dataset.txt\n",
      "400 features processed from ./test_dataset.csv\n"
     ]
    }
   ],
   "source": [
    "if config.do_train:\n",
    "    train_dataset_file = data_pretokenizing(config, tokenizer=tokenizer)\n",
    "predict_dataset_file = data_pretokenizing(config, tokenizer=tokenizer, is_train=False)"
   ]
  },
  {
   "cell_type": "markdown",
   "metadata": {
    "id": "dH-Uc4zFaZg9"
   },
   "source": [
    "#### <b>데이터 로더 초기화</b>"
   ]
  },
  {
   "cell_type": "code",
   "execution_count": 12,
   "metadata": {
    "id": "9T_kyo4kV_Cr"
   },
   "outputs": [],
   "source": [
    "class IterableDatasetPad(torch.utils.data.IterableDataset):\n",
    "    def __init__(\n",
    "        self,\n",
    "        dataset: torch.utils.data.IterableDataset,\n",
    "        batch_size: int = 1,\n",
    "        num_devices: int = 1,\n",
    "        seed: int = 0,\n",
    "    ):\n",
    "        self.dataset = dataset\n",
    "        self.batch_size = batch_size\n",
    "        self.seed = seed\n",
    "        self.num_examples = 0\n",
    "\n",
    "        chunk_size = self.batch_size * num_devices\n",
    "        length = len(dataset)\n",
    "        self.length = length + (chunk_size - length % chunk_size)\n",
    "\n",
    "    def __len__(self):\n",
    "        return self.length\n",
    "\n",
    "    def __iter__(self):\n",
    "        self.num_examples = 0\n",
    "        if (\n",
    "            not hasattr(self.dataset, \"set_epoch\")\n",
    "            and hasattr(self.dataset, \"generator\")\n",
    "            and isinstance(self.dataset.generator, torch.Generator)\n",
    "        ):\n",
    "            self.dataset.generator.manual_seed(self.seed + self.epoch)\n",
    "\n",
    "        first_batch = None\n",
    "        current_batch = []\n",
    "        for element in self.dataset:\n",
    "            self.num_examples += 1\n",
    "            current_batch.append(element)\n",
    "            if len(current_batch) == self.batch_size:\n",
    "                for batch in current_batch:\n",
    "                    yield batch\n",
    "                    if first_batch is None:\n",
    "                        first_batch = batch.copy()\n",
    "                current_batch = []\n",
    "\n",
    "        while self.num_examples < self.length:\n",
    "            add_num = self.batch_size - len(current_batch)\n",
    "            self.num_examples += add_num\n",
    "            current_batch += [first_batch] * add_num\n",
    "            for batch in current_batch:\n",
    "                yield batch\n",
    "            current_batch = []"
   ]
  },
  {
   "cell_type": "code",
   "execution_count": 13,
   "metadata": {
    "colab": {
     "base_uri": "https://localhost:8080/",
     "height": 273,
     "referenced_widgets": [
      "575e332e868e4292aad70aa04b30ec5b",
      "a2ec9ea3f4924c54a6b167a4fafcf288",
      "64241c09d71f42f6ab427ab9900b8531",
      "977a80e15798477984daf223c85bcdf1",
      "0510894fcdeb486ab6a9f7f146b88521",
      "e87aef0d9cf94c5b9d5b7963e80b8846",
      "6ab6525394144b39848c6edacc146d0a",
      "9c7439319afc47a7b97013d2c7c76cbd",
      "c6d8cd363c7d4d00a4276c67480b95a2",
      "c305b20c02f5470189cd75eb4137be33",
      "0d6224bebcb3414096ea7d9651dad0ad",
      "d606cfba1c03417a9e1561b9903ef340",
      "8ffc1885b7774ba38ce0922ee934378c",
      "130d804471c04d0daedd9ab138e89b4b",
      "0a83c125beea4abfb7d4e95f08137770",
      "c4729b82b2684fb8817534149a15287d",
      "fc855b723ce046849a55e114208fdbc1",
      "48fea61ddf56480781b5ae93030ea989",
      "41c3de44960749a88ee4fbcf92ce46f6",
      "ec682955f90c46eb8074dd52f07f3ab0",
      "be7502a56cd240b09db0bd85b8a75be4",
      "c50dae8769df4184bb7055ec07488ed6",
      "b4d7cd7687f047e7b3b2c4172be0fb30",
      "5b6167a3185b4ca281edf383a82c06a0",
      "fd9bdd02c3264e2ea66e44b453442b75",
      "26fadfeece1c4d7691a49cc751b539c8",
      "1eec423b6bcc4769b1e52d41570bed58",
      "3e7b671c88d74ad2bce7623c461df5e5",
      "633599fa3ab245aabe08aedfe311521c",
      "5daa6938da8e40829e670d0c1cda45d7",
      "b35bfe1b49b046f4b6d8530e37ecdb80",
      "ad08df5242e24d2d86f2f4e5867cbdbd",
      "b159f0a44d844fc1b6febb9af93ad362",
      "cc68dd67492048fd905253d4b9963ec6",
      "3571d077964e4767bc60a1bf1228179c",
      "5ac480a101744bdcaff69695afaa0c54",
      "8c2682eb0ddb49cfa39242f4d4c6464d",
      "a1f0ec27b05647f38e4c01328b387346",
      "5cd2d15c41ea4b05ad5e58e843c9a141",
      "18a3e2c2d28f4fcdbdfd92978c31ed93",
      "ad02ec77c74d4a929b9a848fcd55e6a5",
      "525f459e51d54d2a83e3c001eb157de1",
      "3d46724068074285b1954a172a1fc2f1",
      "6e69c77a9c414258bd5de8e23898021c",
      "adc0a7d5322a4a7da85a9fea51943f11",
      "3c215647d2c34a7fac0b86f8b257ec68",
      "ef31045db2d94ccf99ac71ede24439b5",
      "90dd439d491f4f92b93f7385d1992ddf",
      "3157f8a62b494d729e54fb5b7e50a6cc",
      "3aedaebbd7b342efaf071680d6c96959",
      "5ceef0d402b24e389105ad26cd82f8c8",
      "b0a165488fcc4702b8ca82da5e188506",
      "d406a6a3fe604d9785042e2b06bdf1e7",
      "03a5382399d247df97546b40953e83d8",
      "372c8e33ba2f45f1994be885f1b7699d",
      "5f4ce39ce9d642cc9d12117a82e1b379",
      "aa5aa8c0a71848b5b34b987bcd1cebb5",
      "8248e0d560994b929ec3b61071d08e8e",
      "d33510db3d6f4cde9b7cfdc4bbf46633",
      "7a56fb7e02fb48809c7705a64636ea34",
      "50d5d8ef64fd46ea86f77f107c67bbb8",
      "bbea36799dd74a9989bd5c03ccc6eebd",
      "674c903a206347a39022b483a88eed4f",
      "9ee9d5232e4b4c7f86fd197f41e08d5c",
      "366db5f01aba4d629ebfd9394e6567d5",
      "662a615d57c54cfa82cd1d7c808fb58e",
      "6cd29352cecc49d88fcfef1607e791e2",
      "8924cbbf41364ee1b57363f74d7b45bc",
      "ce024d3db229456892a8b12bcdaa5c51",
      "8bdd39db060445c8ab94a55edcaf592a",
      "4590b0e30fd44335bd6a9b1bd817ef7a",
      "b8207ac43f1448a8916882a828debbe6",
      "004a2114194f462d9b65e76d92e0b0f3",
      "051603c85059426db931e5912b1b3eed",
      "44a51f0467994802a0e2a89ab2d9609f",
      "4144340f2817457484d7a655746223ea",
      "18fc7777e040404095515c7908ae88a7",
      "6142ada01d1c42e7bfb247c0a1667dab",
      "f0a5d222482c4f099ccef515252a49cf",
      "7d5a6dba3f9d4cbba7db85b9d2517542",
      "7e801c9f1bd345afa0265398b9b001ad",
      "bfec76fdb8b2439b98649673ef3ba7b7",
      "2b4902e9b0a745ae91d1fc9c41f3b907",
      "c7e06e9305b045d0a94baadee4afe97c",
      "d29cefa4abd14bb196a9c128ee9bd555",
      "375fec6920b6432586c76a711b7e989a",
      "cd8118d33b5d4bb89e94d9bd893a86c3",
      "276e2f032cb848e794a5bd0f82f7a791"
     ]
    },
    "id": "ICk8UkNtUT6L",
    "outputId": "659c2c15-4976-4bbf-dae1-d9caacb691cb"
   },
   "outputs": [
    {
     "name": "stdout",
     "output_type": "stream",
     "text": [
      "Downloading and preparing dataset text/default to /home/dasol/.cache/huggingface/datasets/text/default-60c6fa8bc95b61a0/0.0.0/cb1e9bd71a82ad27976be3b12b407850fe2837d80c22c5e03a28949843a8ace2...\n"
     ]
    },
    {
     "data": {
      "application/vnd.jupyter.widget-view+json": {
       "model_id": "e45a7e6a5f7f40218bcbf303666af05b",
       "version_major": 2,
       "version_minor": 0
      },
      "text/plain": [
       "Downloading data files:   0%|          | 0/1 [00:00<?, ?it/s]"
      ]
     },
     "metadata": {},
     "output_type": "display_data"
    },
    {
     "data": {
      "application/vnd.jupyter.widget-view+json": {
       "model_id": "d9090d0aa3e94cd5aea90cba228c8534",
       "version_major": 2,
       "version_minor": 0
      },
      "text/plain": [
       "Extracting data files:   0%|          | 0/1 [00:00<?, ?it/s]"
      ]
     },
     "metadata": {},
     "output_type": "display_data"
    },
    {
     "data": {
      "application/vnd.jupyter.widget-view+json": {
       "model_id": "",
       "version_major": 2,
       "version_minor": 0
      },
      "text/plain": [
       "Generating train split: 0 examples [00:00, ? examples/s]"
      ]
     },
     "metadata": {},
     "output_type": "display_data"
    },
    {
     "name": "stdout",
     "output_type": "stream",
     "text": [
      "Dataset text downloaded and prepared to /home/dasol/.cache/huggingface/datasets/text/default-60c6fa8bc95b61a0/0.0.0/cb1e9bd71a82ad27976be3b12b407850fe2837d80c22c5e03a28949843a8ace2. Subsequent calls will reuse this data.\n"
     ]
    },
    {
     "data": {
      "application/vnd.jupyter.widget-view+json": {
       "model_id": "ea2e8e669132440aafabb92b1e8b5091",
       "version_major": 2,
       "version_minor": 0
      },
      "text/plain": [
       "  0%|          | 0/1 [00:00<?, ?it/s]"
      ]
     },
     "metadata": {},
     "output_type": "display_data"
    },
    {
     "data": {
      "application/vnd.jupyter.widget-view+json": {
       "model_id": "",
       "version_major": 2,
       "version_minor": 0
      },
      "text/plain": [
       "Map:   0%|          | 0/30688 [00:00<?, ? examples/s]"
      ]
     },
     "metadata": {},
     "output_type": "display_data"
    },
    {
     "name": "stdout",
     "output_type": "stream",
     "text": [
      "Downloading and preparing dataset text/default to /home/dasol/.cache/huggingface/datasets/text/default-76d8e2cd0911ce0c/0.0.0/cb1e9bd71a82ad27976be3b12b407850fe2837d80c22c5e03a28949843a8ace2...\n"
     ]
    },
    {
     "data": {
      "application/vnd.jupyter.widget-view+json": {
       "model_id": "c3f7747ca53243bea82d1e8401580f6c",
       "version_major": 2,
       "version_minor": 0
      },
      "text/plain": [
       "Downloading data files:   0%|          | 0/1 [00:00<?, ?it/s]"
      ]
     },
     "metadata": {},
     "output_type": "display_data"
    },
    {
     "data": {
      "application/vnd.jupyter.widget-view+json": {
       "model_id": "f0bc24358bb84d168174529714a9043e",
       "version_major": 2,
       "version_minor": 0
      },
      "text/plain": [
       "Extracting data files:   0%|          | 0/1 [00:00<?, ?it/s]"
      ]
     },
     "metadata": {},
     "output_type": "display_data"
    },
    {
     "data": {
      "application/vnd.jupyter.widget-view+json": {
       "model_id": "",
       "version_major": 2,
       "version_minor": 0
      },
      "text/plain": [
       "Generating train split: 0 examples [00:00, ? examples/s]"
      ]
     },
     "metadata": {},
     "output_type": "display_data"
    },
    {
     "name": "stdout",
     "output_type": "stream",
     "text": [
      "Dataset text downloaded and prepared to /home/dasol/.cache/huggingface/datasets/text/default-76d8e2cd0911ce0c/0.0.0/cb1e9bd71a82ad27976be3b12b407850fe2837d80c22c5e03a28949843a8ace2. Subsequent calls will reuse this data.\n"
     ]
    },
    {
     "data": {
      "application/vnd.jupyter.widget-view+json": {
       "model_id": "5efd939e486d4188a208496c117ccb47",
       "version_major": 2,
       "version_minor": 0
      },
      "text/plain": [
       "  0%|          | 0/1 [00:00<?, ?it/s]"
      ]
     },
     "metadata": {},
     "output_type": "display_data"
    },
    {
     "data": {
      "application/vnd.jupyter.widget-view+json": {
       "model_id": "",
       "version_major": 2,
       "version_minor": 0
      },
      "text/plain": [
       "Map:   0%|          | 0/400 [00:00<?, ? examples/s]"
      ]
     },
     "metadata": {},
     "output_type": "display_data"
    }
   ],
   "source": [
    "def collate_fn(features):\n",
    "    \n",
    "    input_ids = [sample[\"input_ids\"] for sample in features]\n",
    "    attention_mask = [sample[\"attention_mask\"] for sample in features]\n",
    "    \n",
    "    profanity = [sample[\"profanity\"] for sample in features]\n",
    "\n",
    "    input_ids = torch.tensor(np.array(input_ids).astype(np.int64), dtype=torch.long)\n",
    "    attention_mask = torch.tensor(np.array(attention_mask).astype(np.int8), dtype=torch.long)\n",
    "    \n",
    "    profanity = torch.tensor(np.array(profanity).astype(np.int64), dtype=torch.long)\n",
    "    inputs = {\n",
    "        \"input_ids\": input_ids,\n",
    "        \"attention_mask\": attention_mask,\n",
    "    }\n",
    "    labels =  profanity\n",
    "\n",
    "    return inputs, labels\n",
    "\n",
    "if config.do_train:\n",
    "    train_dataset = load_dataset(\"text\", data_files=train_dataset_file, download_mode=\"force_redownload\")[\"train\"]\n",
    "    train_dataset = train_dataset.map(lambda x: json.loads(x[\"text\"]), batched=False)\n",
    "\n",
    "    train_dataloader = torch_data.DataLoader(\n",
    "        train_dataset,\n",
    "        sampler=torch_data.RandomSampler(train_dataset),\n",
    "        drop_last=False,\n",
    "        batch_size=config.train_batch_size,\n",
    "        collate_fn=(collate_fn),\n",
    "    )\n",
    "\n",
    "predict_dataset = load_dataset(\"text\", data_files=predict_dataset_file, download_mode=\"force_redownload\")[\"train\"]\n",
    "predict_dataset = predict_dataset.map(lambda x: json.loads(x[\"text\"]), batched=False)\n",
    "predict_dataset = IterableDatasetPad(\n",
    "    dataset=predict_dataset,\n",
    "    batch_size=config.eval_batch_size,\n",
    "    num_devices=1,\n",
    "    seed=config.seed,\n",
    ")\n",
    "\n",
    "predict_dataloader = torch_data.DataLoader(\n",
    "    predict_dataset,\n",
    "    sampler=None,\n",
    "    drop_last=False,\n",
    "    batch_size=config.eval_batch_size,\n",
    "    collate_fn=(collate_fn),\n",
    ")"
   ]
  },
  {
   "cell_type": "markdown",
   "metadata": {
    "id": "fLK23Y3wauv5"
   },
   "source": [
    "### <b>Define the text classification model</b>"
   ]
  },
  {
   "cell_type": "code",
   "execution_count": 14,
   "metadata": {
    "id": "EzordVjHE52u"
   },
   "outputs": [],
   "source": [
    "from transformers import AutoModel\n",
    "import torch.nn as nn\n",
    "\n",
    "class ClsModel(torch.nn.Module):\n",
    "    def __init__(self):\n",
    "        super().__init__()\n",
    "        data_file = os.path.join(config.data_dir, str(config.train_file))  \n",
    "        model_config = AutoConfig.from_pretrained(config.model_name_or_path, num_labels=1)\n",
    "        self.model = AutoModel.from_pretrained(\n",
    "            config.model_name_or_path, config=model_config, cache_dir=config.cache_dir\n",
    "        )\n",
    "        self.classifier = nn.Linear(768, 1) \n",
    "        self.tokenizer = tokenizer\n",
    "\n",
    "    def save_pretrained(self, save_dir):\n",
    "        self.model.save_pretrained(save_dir)\n",
    "        # Remove unnecessary keys from the tokenizer's init_kwargs\n",
    "        for key in [\"special_tokens_map_file\", \"tokenizer_file\"]:\n",
    "            self.tokenizer.init_kwargs.pop(key, None)\n",
    "        self.tokenizer.save_pretrained(save_dir)\n",
    "\n",
    "    def get_optimizer(self): \n",
    "        # Specify parameters that should not undergo weight decay during training\n",
    "        no_decay = [\"bias\", \"LayerNorm.weight\"]\n",
    "        # Group model parameters based on whether they should have weight decay or not\n",
    "        optimizer_grouped_parameters = [\n",
    "            {\n",
    "                \"params\": [p for n, p in self.model.named_parameters() if not any(nd in n for nd in no_decay)],\n",
    "                \"weight_decay\": config.weight_decay,\n",
    "            },\n",
    "            {\n",
    "                \"params\": [p for n, p in self.model.named_parameters() if any(nd in n for nd in no_decay)],\n",
    "                \"weight_decay\": config.weight_decay,\n",
    "            },\n",
    "        ]\n",
    "        \n",
    "        optimizer = AdamW(optimizer_grouped_parameters, lr=config.learning_rate, eps=config.adam_epsilon)\n",
    "        return optimizer\n",
    "\n",
    "    def get_scheduler(self, batch_num, optimizer): \n",
    "        # If no warmup is needed, return None\n",
    "        if config.warmup_proportion == 0.0:\n",
    "            return None\n",
    "        \n",
    "        # Calculate the total number of training steps\n",
    "        t_total = batch_num // config.gradient_accumulation_steps * config.num_train_epochs\n",
    "        \n",
    "        # Define the learning rate scheduler with a linear warmup phase\n",
    "        scheduler = get_linear_schedule_with_warmup(\n",
    "            optimizer,\n",
    "            num_warmup_steps=int(t_total * config.warmup_proportion),\n",
    "            num_training_steps=t_total,\n",
    "        )\n",
    "\n",
    "        return scheduler\n",
    "\n",
    "    def forward(self, inputs):\n",
    "        hidden = self.model(**inputs) # Get the model's hidden states\n",
    "        # Extract [CLS] token from the last layer\n",
    "        cls_token_embeddings = hidden.last_hidden_state[:,0,:] # [batch_size, 768]\n",
    "        output = self.classifier(cls_token_embeddings) # 768 → 1\n",
    "\n",
    "        return output\n",
    "\n",
    "    def eval_step(self, inputs, labels, outputs):\n",
    "        labels = labels.cpu().detach().numpy()\n",
    "        threshold = 0.5\n",
    "        sigmoid_outputs = torch.sigmoid(outputs).cpu().detach().numpy()\n",
    "        predictions = (sigmoid_outputs >= threshold).astype(int)  # Apply threshold and convert to integer (0 or 1)\n",
    "        class_probabilities = sigmoid_outputs.tolist()\n",
    "\n",
    "        results = {\"prediction\": predictions.tolist(), \"label\": labels.tolist(),  \"prob\": class_probabilities}\n",
    "        \n",
    "        return results\n",
    "\n",
    "    def tensor_to_array(self, tensor):\n",
    "        return tensor.detach().cpu().numpy()\n",
    "    \n",
    "    def tensor_to_list(self, tensor):\n",
    "        return self.tensor_to_array(tensor).tolist()"
   ]
  },
  {
   "cell_type": "code",
   "execution_count": 15,
   "metadata": {
    "id": "WNc_ouz_c2oK"
   },
   "outputs": [],
   "source": [
    "# Set the random seed for reproducibility in both numpy and PyTorch\n",
    "def set_seed(seed):\n",
    "    np.random.seed(seed)\n",
    "    torch.manual_seed(seed)\n",
    "    torch.cuda.manual_seed_all(seed)\n",
    "    torch.backends.cudnn.deterministic = True\n",
    "    torch.backends.cudnn.benchmark = True\n",
    "\n",
    "# Calculate the running average of the loss using a decay factor\n",
    "def cal_running_avg_loss(loss, running_avg_loss, decay=0.99):\n",
    "    if running_avg_loss == 0:\n",
    "        return loss\n",
    "    running_avg_loss = running_avg_loss * decay + (1 - decay) * loss\n",
    "    return running_avg_loss"
   ]
  },
  {
   "cell_type": "markdown",
   "metadata": {
    "id": "9ZKdxuz1fT_C"
   },
   "source": [
    "### <b>Define the functions for training and evaluation</b>"
   ]
  },
  {
   "cell_type": "code",
   "execution_count": 16,
   "metadata": {
    "id": "Dt87LWjVfR4q"
   },
   "outputs": [],
   "source": [
    "import numpy as np\n",
    "import sklearn.metrics as sklearn_metrics\n",
    "from sklearn.metrics import precision_recall_curve, auc, roc_curve\n",
    "import matplotlib.pyplot as plt\n",
    "\n",
    "def calculate_pr_auc(labels, prob):\n",
    "    precision, recall, _ = precision_recall_curve(labels, prob)\n",
    "    return auc(recall, precision)\n",
    "\n",
    "def plot_roc_curve(labels, probs, category_name):\n",
    "    fpr, tpr, _ = roc_curve(labels, probs)\n",
    "    roc_auc = auc(fpr, tpr)\n",
    "    \n",
    "    # Plot ROC curve\n",
    "    plt.figure(figsize=(11, 7))\n",
    "    plt.plot(fpr, tpr, color='darkorange', lw=2, label=f'{category_name} (AUROC = {roc_auc:.2f})')\n",
    "    plt.plot([0, 1], [0, 1], color='navy', lw=2, linestyle='--')\n",
    "    plt.xlim([0.0, 1.0])\n",
    "    plt.ylim([0.0, 1.05])\n",
    "    plt.xlabel('False Positive Rate')\n",
    "    plt.ylabel('True Positive Rate')\n",
    "    plt.title(f'ROC Curve for {category_name}')\n",
    "    plt.legend(loc=\"lower right\")\n",
    "    plt.show()\n",
    "\n",
    "# for binary-classification\n",
    "binary_metrics = {\n",
    "    \"accuracy\": sklearn_metrics.accuracy_score,\n",
    "    \"precision\": sklearn_metrics.precision_score, # TP / (TP + FP)\n",
    "    \"recall\": sklearn_metrics.recall_score, # recall = sensitivity (민감도)\n",
    "    \"f1\": sklearn_metrics.f1_score,\n",
    "    \"matthews_corrcoef\": sklearn_metrics.matthews_corrcoef,\n",
    "}\n",
    "\n",
    "def eval_cls(predictions, labels, probs,  **kwargs):\n",
    "    \n",
    "    predictions = np.array(predictions)\n",
    "    labels = np.array(labels)\n",
    "    probs = np.array(probs)\n",
    "\n",
    "    results = {\n",
    "        metric: round(f(labels, predictions) * 100, 2)\n",
    "        for metric, f in binary_metrics.items()\n",
    "    }\n",
    "\n",
    "    # Calculate AUROC\n",
    "    fpr, tpr, _ = roc_curve(labels, probs)\n",
    "    roc_auc = auc(fpr, tpr)\n",
    "    results[\"roc_auc\"] = round(roc_auc * 100, 2)\n",
    "\n",
    "    # Plot ROC curve\n",
    "    plot_roc_curve(labels, probs, \"Profanity AUROC\")\n",
    "\n",
    "    return {\n",
    "        \"results\": results,\n",
    "        \"best_score\": results[\"f1\"],\n",
    "        \"roc_auc\": results[\"roc_auc\"]\n",
    "    }\n"
   ]
  },
  {
   "cell_type": "code",
   "execution_count": 17,
   "metadata": {
    "id": "orQFvXpcfVop"
   },
   "outputs": [],
   "source": [
    "def _run_epoch(model, loader, device=None, context=None, **kwargs):\n",
    "    \n",
    "    config = kwargs[\"config\"]\n",
    "    is_train = kwargs[\"is_train\"]\n",
    "\n",
    "    avg_loss = 0\n",
    "    results = []\n",
    "    batch_num = len(loader)\n",
    "    \n",
    "    # Set the model to train or eval mode based on 'is_train'\n",
    "    if is_train:\n",
    "        model.train()\n",
    "        if config.use_tpu:\n",
    "            optimizer = context.getattr_or(\n",
    "                \"optimizer\",\n",
    "                lambda: model.get_optimizer(),\n",
    "            )\n",
    "            scheduler = context.getattr_or(\n",
    "                \"scheduler\",\n",
    "                lambda: model.get_scheduler(batch_num, optimizer),\n",
    "            )\n",
    "        else:\n",
    "            optimizer = kwargs[\"optimizer\"]\n",
    "            scheduler = kwargs[\"scheduler\"]\n",
    "    else:\n",
    "        model.eval()\n",
    "    \n",
    "    # ProgressBar setup\n",
    "    is_master = True \n",
    "    pbar = tqdm(enumerate(loader), total=batch_num, disable=not is_master, dynamic_ncols=True, position=0, leave=True)\n",
    "\n",
    "    corrected = 0\n",
    "    total = 0\n",
    "    # Move data to the appropriate device (if not using TPU)\n",
    "    for i, (inputs, labels) in pbar:\n",
    "        if not config.use_tpu:\n",
    "            if isinstance(inputs, torch.Tensor):\n",
    "                inputs = inputs.to(device)\n",
    "            if isinstance(labels, torch.Tensor):\n",
    "                labels = labels.to(device)\n",
    "                \n",
    "            outputs = model(inputs).squeeze(1)  \n",
    "            \n",
    "            # Compute the loss\n",
    "            loss_function = nn.BCEWithLogitsLoss()\n",
    "            loss = loss_function(outputs, labels.float())\n",
    "\n",
    "            total += outputs.shape[0] # Update total samples processed\n",
    "\n",
    "            threshold = 0.5\n",
    "            predicted = (torch.sigmoid(outputs) >= threshold).float()  # Apply sigmoid and threshold\n",
    "            corrected += predicted.eq(labels).sum().item() # Update correctly classified count\n",
    "\n",
    "        avg_loss = cal_running_avg_loss(loss.item(), avg_loss)\n",
    "        loss /= config.gradient_accumulation_steps\n",
    "        \n",
    "        # Backpropagation and optimization step (for training)\n",
    "        if is_train:\n",
    "            loss.backward()\n",
    "            if i % config.gradient_accumulation_steps == 0 or i == batch_num - 1:\n",
    "                if config.max_grad_norm > 0:\n",
    "                    torch.nn.utils.clip_grad_norm_(model.parameters(), config.max_grad_norm)\n",
    "\n",
    "                optimizer.step()\n",
    "                optimizer.zero_grad()\n",
    "\n",
    "                if scheduler is not None:\n",
    "                    scheduler.step()\n",
    "        # Store evaluation results (for evaluation mode)\n",
    "        else:\n",
    "            result = (model.module if hasattr(model, \"module\") else model).eval_step(inputs, labels, outputs)\n",
    "            results.append(result)\n",
    "            \n",
    "        # Update progress bar description\n",
    "        if is_master:\n",
    "            pbar.set_description(\n",
    "                f\"epoch: {kwargs['epoch'] + 1}, {('train' if is_train else 'valid')} loss: {min(100, round(avg_loss, 4))}\"\n",
    "            )\n",
    "    return {\n",
    "        \"loss\": avg_loss,\n",
    "        \"result\": results,\n",
    "    }\n",
    "\n",
    "# Wrapper to run the epoch either on CPU/GPU or TPUs\n",
    "def run_epoch(**kwargs):\n",
    "    model = kwargs.pop(\"model\")\n",
    "    if kwargs[\"config\"].use_tpu:\n",
    "        results = model(_run_epoch, **kwargs)\n",
    "    else:\n",
    "        results = _run_epoch(model, **kwargs)\n",
    "   \n",
    "    if isinstance(results, list):\n",
    "        loss = sum([result[\"loss\"] for result in results]) / len(results)\n",
    "        result = []\n",
    "        for res in results:\n",
    "            result.extend(res[\"result\"])\n",
    "        results = {\"loss\": loss, \"result\": result}\n",
    "\n",
    "    return results"
   ]
  },
  {
   "cell_type": "markdown",
   "metadata": {
    "id": "Fc_gQCjxffEY"
   },
   "source": [
    "### <b>Model Initialization and Configuration</b>"
   ]
  },
  {
   "cell_type": "code",
   "execution_count": 18,
   "metadata": {
    "colab": {
     "base_uri": "https://localhost:8080/"
    },
    "id": "ZOns-W1GfemT",
    "outputId": "5acc4dd2-2f77-43ed-db0a-fb88df3c9a49"
   },
   "outputs": [
    {
     "name": "stdout",
     "output_type": "stream",
     "text": [
      "configuration: namespace(task='krbert_profanity', dataset='KoMultiText', cache_dir='krbert_profanity_cache', output_dir='krbert_profanity_output', use_tpu=False, model_name_or_path='snunlp/KR-Medium', data_dir='./', train_file='train_dataset.csv', predict_file='test_dataset.csv', max_seq_length=512, train_batch_size=8, eval_batch_size=4, learning_rate=3e-06, num_train_epochs=20, gradient_accumulation_steps=4, threads=4, seed=42, device_num=0, do_train=True, do_eval_during_train=True, do_eval=True, do_lower_case=False, weight_decay=0.0, adam_epsilon=1e-08, max_grad_norm=1.0, warmup_proportion=0.0)\n",
      "4 GPU device detected\n",
      "Output directory: krbert_profanity_output/krbert_profanity/KoMultiText\n"
     ]
    }
   ],
   "source": [
    "set_seed(config.seed) # Set the random seed for reproducibility\n",
    "\n",
    "model = ClsModel()  # Initialize the classification model\n",
    "\n",
    "print(f\"configuration: {str(config)}\")\n",
    "\n",
    "# Check for available GPUs and set the model to run on GPU(s) if available\n",
    "if torch.cuda.is_available():\n",
    "    gpu_count = torch.cuda.device_count()\n",
    "    print(f\"{gpu_count} GPU device detected\")\n",
    "    device_num = config.device_num\n",
    "    devices = [device_num]\n",
    "    \n",
    "    # Use Data Parallelism if more than one GPU is available\n",
    "    model_dp = torch.nn.DataParallel(model, device_ids=devices)\n",
    "    model_dp.to(devices[0])  \n",
    "\n",
    "else: \n",
    "    devices = [\"cpu\"] # If no GPUs are available, use the CPU\n",
    "    model_dp = model\n",
    "\n",
    "if not os.path.exists(config.cache_dir):\n",
    "    os.makedirs(config.cache_dir)\n",
    "\n",
    "# Define and create the output directory\n",
    "output_dir = os.path.join(config.output_dir, config.task, config.dataset)\n",
    "print(\"Output directory:\", output_dir)\n",
    "if not os.path.exists(output_dir):\n",
    "    os.makedirs(output_dir)\n",
    "\n",
    "# Initialize optimizer and scheduler if in training mode\n",
    "optimizer = None\n",
    "scheduler = None\n",
    "if config.do_train: # 학습 모드(train mode)인 경우\n",
    "    optimizer = model.get_optimizer()\n",
    "    scheduler = model.get_scheduler(len(train_dataloader), optimizer)\n",
    "\n",
    "params = {\n",
    "    \"config\": config,\n",
    "    \"model\": model_dp,\n",
    "    \"optimizer\": optimizer,\n",
    "    \"scheduler\": scheduler,\n",
    "}\n",
    "if not config.use_tpu:\n",
    "    params[\"device\"] = devices[0]"
   ]
  },
  {
   "cell_type": "markdown",
   "metadata": {
    "id": "iziDJg23gorw"
   },
   "source": [
    "### <b>Traning the model</b>"
   ]
  },
  {
   "cell_type": "code",
   "execution_count": 19,
   "metadata": {
    "colab": {
     "base_uri": "https://localhost:8080/"
    },
    "id": "ibdTiq1Ue2D8",
    "outputId": "53383735-c930-44c2-93c4-2e6ff330e766",
    "scrolled": true
   },
   "outputs": [
    {
     "name": "stderr",
     "output_type": "stream",
     "text": [
      "epoch: 1, train loss: 0.2003: 100%|█████████| 3836/3836 [31:52<00:00,  2.01it/s]\n",
      "epoch: 1, valid loss: 0.0866: 100%|███████████| 101/101 [00:09<00:00, 10.26it/s]\n"
     ]
    },
    {
     "data": {
      "image/png": "[encoded data removed]",
      "text/plain": [
       "<Figure size 792x504 with 1 Axes>"
      ]
     },
     "metadata": {
      "needs_background": "light"
     },
     "output_type": "display_data"
    },
    {
     "name": "stdout",
     "output_type": "stream",
     "text": [
      "\n",
      "Eval results for Profanity.\n",
      "accuracy : 95.05\n",
      "precision : 95.57\n",
      "recall : 94.63\n",
      "f1 : 95.1\n",
      "matthews_corrcoef : 90.1\n",
      "roc_auc : 98.59\n",
      "Checkpoint krbert_profanity_output/krbert_profanity/KoMultiText/0-95.1-ckpt saved.\n"
     ]
    },
    {
     "name": "stderr",
     "output_type": "stream",
     "text": [
      "epoch: 2, train loss: 0.1657: 100%|█████████| 3836/3836 [32:55<00:00,  1.94it/s]\n",
      "epoch: 2, valid loss: 0.0916: 100%|███████████| 101/101 [00:09<00:00, 10.59it/s]\n"
     ]
    },
    {
     "data": {
      "image/png": "[encoded data removed]",
      "text/plain": [
       "<Figure size 792x504 with 1 Axes>"
      ]
     },
     "metadata": {
      "needs_background": "light"
     },
     "output_type": "display_data"
    },
    {
     "name": "stdout",
     "output_type": "stream",
     "text": [
      "\n",
      "Eval results for Profanity.\n",
      "accuracy : 95.79\n",
      "precision : 97.96\n",
      "recall : 93.66\n",
      "f1 : 95.76\n",
      "matthews_corrcoef : 91.68\n",
      "roc_auc : 98.66\n",
      "Checkpoint krbert_profanity_output/krbert_profanity/KoMultiText/1-95.76-ckpt saved.\n"
     ]
    },
    {
     "name": "stderr",
     "output_type": "stream",
     "text": [
      "epoch: 3, train loss: 0.1736: 100%|█████████| 3836/3836 [32:38<00:00,  1.96it/s]\n",
      "epoch: 3, valid loss: 0.0822: 100%|███████████| 101/101 [00:09<00:00, 10.58it/s]\n"
     ]
    },
    {
     "data": {
      "image/png": "[encoded data removed]",
      "text/plain": [
       "<Figure size 792x504 with 1 Axes>"
      ]
     },
     "metadata": {
      "needs_background": "light"
     },
     "output_type": "display_data"
    },
    {
     "name": "stdout",
     "output_type": "stream",
     "text": [
      "\n",
      "Eval results for Profanity.\n",
      "accuracy : 96.29\n",
      "precision : 97.03\n",
      "recall : 95.61\n",
      "f1 : 96.31\n",
      "matthews_corrcoef : 92.58\n",
      "roc_auc : 98.87\n",
      "Checkpoint krbert_profanity_output/krbert_profanity/KoMultiText/2-96.31-ckpt saved.\n"
     ]
    },
    {
     "name": "stderr",
     "output_type": "stream",
     "text": [
      "epoch: 4, train loss: 0.1287: 100%|█████████| 3836/3836 [32:45<00:00,  1.95it/s]\n",
      "epoch: 4, valid loss: 0.0906: 100%|███████████| 101/101 [00:10<00:00, 10.08it/s]\n"
     ]
    },
    {
     "data": {
      "image/png": "[encoded data removed]",
      "text/plain": [
       "<Figure size 792x504 with 1 Axes>"
      ]
     },
     "metadata": {
      "needs_background": "light"
     },
     "output_type": "display_data"
    },
    {
     "name": "stdout",
     "output_type": "stream",
     "text": [
      "\n",
      "Eval results for Profanity.\n",
      "accuracy : 94.55\n",
      "precision : 93.36\n",
      "recall : 96.1\n",
      "f1 : 94.71\n",
      "matthews_corrcoef : 89.14\n",
      "roc_auc : 98.99\n"
     ]
    },
    {
     "name": "stderr",
     "output_type": "stream",
     "text": [
      "epoch: 5, train loss: 0.1477: 100%|█████████| 3836/3836 [33:11<00:00,  1.93it/s]\n",
      "epoch: 5, valid loss: 0.0945: 100%|███████████| 101/101 [00:09<00:00, 10.55it/s]\n"
     ]
    },
    {
     "data": {
      "image/png": "[encoded data removed]",
      "text/plain": [
       "<Figure size 792x504 with 1 Axes>"
      ]
     },
     "metadata": {
      "needs_background": "light"
     },
     "output_type": "display_data"
    },
    {
     "name": "stdout",
     "output_type": "stream",
     "text": [
      "\n",
      "Eval results for Profanity.\n",
      "accuracy : 95.54\n",
      "precision : 96.52\n",
      "recall : 94.63\n",
      "f1 : 95.57\n",
      "matthews_corrcoef : 91.11\n",
      "roc_auc : 98.83\n"
     ]
    },
    {
     "name": "stderr",
     "output_type": "stream",
     "text": [
      "epoch: 6, train loss: 0.102: 100%|██████████| 3836/3836 [32:39<00:00,  1.96it/s]\n",
      "epoch: 6, valid loss: 0.1108: 100%|███████████| 101/101 [00:09<00:00, 10.26it/s]\n"
     ]
    },
    {
     "data": {
      "image/png": "[encoded data removed]",
      "text/plain": [
       "<Figure size 792x504 with 1 Axes>"
      ]
     },
     "metadata": {
      "needs_background": "light"
     },
     "output_type": "display_data"
    },
    {
     "name": "stdout",
     "output_type": "stream",
     "text": [
      "\n",
      "Eval results for Profanity.\n",
      "accuracy : 95.3\n",
      "precision : 96.04\n",
      "recall : 94.63\n",
      "f1 : 95.33\n",
      "matthews_corrcoef : 90.6\n",
      "roc_auc : 98.64\n"
     ]
    },
    {
     "name": "stderr",
     "output_type": "stream",
     "text": [
      "epoch: 7, train loss: 0.0827: 100%|█████████| 3836/3836 [32:42<00:00,  1.95it/s]\n",
      "epoch: 7, valid loss: 0.1372: 100%|███████████| 101/101 [00:09<00:00, 10.69it/s]\n"
     ]
    },
    {
     "data": {
      "image/png": "[encoded data removed]",
      "text/plain": [
       "<Figure size 792x504 with 1 Axes>"
      ]
     },
     "metadata": {
      "needs_background": "light"
     },
     "output_type": "display_data"
    },
    {
     "name": "stdout",
     "output_type": "stream",
     "text": [
      "\n",
      "Eval results for Profanity.\n",
      "accuracy : 95.05\n",
      "precision : 95.57\n",
      "recall : 94.63\n",
      "f1 : 95.1\n",
      "matthews_corrcoef : 90.1\n",
      "roc_auc : 98.3\n"
     ]
    },
    {
     "name": "stderr",
     "output_type": "stream",
     "text": [
      "epoch: 8, train loss: 0.0919: 100%|█████████| 3836/3836 [32:41<00:00,  1.96it/s]\n",
      "epoch: 8, valid loss: 0.1532: 100%|███████████| 101/101 [00:09<00:00, 10.87it/s]\n"
     ]
    },
    {
     "data": {
      "image/png": "[encoded data removed]",
      "text/plain": [
       "<Figure size 792x504 with 1 Axes>"
      ]
     },
     "metadata": {
      "needs_background": "light"
     },
     "output_type": "display_data"
    },
    {
     "name": "stdout",
     "output_type": "stream",
     "text": [
      "\n",
      "Eval results for Profanity.\n",
      "accuracy : 94.8\n",
      "precision : 95.1\n",
      "recall : 94.63\n",
      "f1 : 94.87\n",
      "matthews_corrcoef : 89.6\n",
      "roc_auc : 97.98\n"
     ]
    },
    {
     "name": "stderr",
     "output_type": "stream",
     "text": [
      "epoch: 9, train loss: 0.051:   4%|▍          | 152/3836 [01:16<30:29,  2.01it/s]IOPub message rate exceeded.\n",
      "The notebook server will temporarily stop sending output\n",
      "to the client in order to avoid crashing it.\n",
      "To change this limit, set the config variable\n",
      "`--NotebookApp.iopub_msg_rate_limit`.\n",
      "\n",
      "Current values:\n",
      "NotebookApp.iopub_msg_rate_limit=1000.0 (msgs/sec)\n",
      "NotebookApp.rate_limit_window=3.0 (secs)\n",
      "\n",
      "epoch: 10, train loss: 0.0528: 100%|████████| 3836/3836 [31:27<00:00,  2.03it/s]\n",
      "epoch: 10, valid loss: 0.2149: 100%|██████████| 101/101 [00:09<00:00, 10.82it/s]\n"
     ]
    },
    {
     "data": {
      "image/png": "[encoded data removed]",
      "text/plain": [
       "<Figure size 792x504 with 1 Axes>"
      ]
     },
     "metadata": {
      "needs_background": "light"
     },
     "output_type": "display_data"
    },
    {
     "name": "stdout",
     "output_type": "stream",
     "text": [
      "\n",
      "Eval results for Profanity.\n",
      "accuracy : 94.06\n",
      "precision : 94.58\n",
      "recall : 93.66\n",
      "f1 : 94.12\n",
      "matthews_corrcoef : 88.12\n",
      "roc_auc : 97.13\n"
     ]
    },
    {
     "name": "stderr",
     "output_type": "stream",
     "text": [
      "epoch: 11, train loss: 0.0243:  67%|█████▎  | 2575/3836 [21:49<10:42,  1.96it/s]IOPub message rate exceeded.\n",
      "The notebook server will temporarily stop sending output\n",
      "to the client in order to avoid crashing it.\n",
      "To change this limit, set the config variable\n",
      "`--NotebookApp.iopub_msg_rate_limit`.\n",
      "\n",
      "Current values:\n",
      "NotebookApp.iopub_msg_rate_limit=1000.0 (msgs/sec)\n",
      "NotebookApp.rate_limit_window=3.0 (secs)\n",
      "\n",
      "epoch: 13, train loss: 0.0223:  48%|███▊    | 1832/3836 [15:44<16:54,  1.98it/s]IOPub message rate exceeded.\n",
      "The notebook server will temporarily stop sending output\n",
      "to the client in order to avoid crashing it.\n",
      "To change this limit, set the config variable\n",
      "`--NotebookApp.iopub_msg_rate_limit`.\n",
      "\n",
      "Current values:\n",
      "NotebookApp.iopub_msg_rate_limit=1000.0 (msgs/sec)\n",
      "NotebookApp.rate_limit_window=3.0 (secs)\n",
      "\n",
      "epoch: 13, train loss: 0.031: 100%|█████████| 3836/3836 [32:43<00:00,  1.95it/s]\n",
      "epoch: 13, valid loss: 0.2507: 100%|██████████| 101/101 [00:09<00:00, 10.70it/s]\n"
     ]
    },
    {
     "data": {
      "image/png": "[encoded data removed]",
      "text/plain": [
       "<Figure size 792x504 with 1 Axes>"
      ]
     },
     "metadata": {
      "needs_background": "light"
     },
     "output_type": "display_data"
    },
    {
     "name": "stdout",
     "output_type": "stream",
     "text": [
      "\n",
      "Eval results for Profanity.\n",
      "accuracy : 94.06\n",
      "precision : 94.15\n",
      "recall : 94.15\n",
      "f1 : 94.15\n",
      "matthews_corrcoef : 88.12\n",
      "roc_auc : 96.19\n"
     ]
    },
    {
     "name": "stderr",
     "output_type": "stream",
     "text": [
      "epoch: 14, train loss: 0.0181: 100%|████████| 3836/3836 [32:27<00:00,  1.97it/s]\n",
      "epoch: 14, valid loss: 0.2641: 100%|██████████| 101/101 [00:09<00:00, 10.90it/s]\n"
     ]
    },
    {
     "data": {
      "image/png": "[encoded data removed]",
      "text/plain": [
       "<Figure size 792x504 with 1 Axes>"
      ]
     },
     "metadata": {
      "needs_background": "light"
     },
     "output_type": "display_data"
    },
    {
     "name": "stdout",
     "output_type": "stream",
     "text": [
      "\n",
      "Eval results for Profanity.\n",
      "accuracy : 94.06\n",
      "precision : 95.02\n",
      "recall : 93.17\n",
      "f1 : 94.09\n",
      "matthews_corrcoef : 88.14\n",
      "roc_auc : 96.52\n"
     ]
    },
    {
     "name": "stderr",
     "output_type": "stream",
     "text": [
      "epoch: 15, train loss: 0.032: 100%|█████████| 3836/3836 [31:44<00:00,  2.01it/s]\n",
      "epoch: 15, valid loss: 0.2969: 100%|██████████| 101/101 [00:09<00:00, 10.80it/s]\n"
     ]
    },
    {
     "data": {
      "image/png": "[encoded data removed]",
      "text/plain": [
       "<Figure size 792x504 with 1 Axes>"
      ]
     },
     "metadata": {
      "needs_background": "light"
     },
     "output_type": "display_data"
    },
    {
     "name": "stdout",
     "output_type": "stream",
     "text": [
      "\n",
      "Eval results for Profanity.\n",
      "accuracy : 94.06\n",
      "precision : 93.3\n",
      "recall : 95.12\n",
      "f1 : 94.2\n",
      "matthews_corrcoef : 88.13\n",
      "roc_auc : 96.62\n"
     ]
    },
    {
     "name": "stderr",
     "output_type": "stream",
     "text": [
      "epoch: 16, train loss: 0.0349: 100%|████████| 3836/3836 [32:03<00:00,  1.99it/s]\n",
      "epoch: 16, valid loss: 0.3047: 100%|██████████| 101/101 [00:09<00:00, 10.98it/s]\n"
     ]
    },
    {
     "data": {
      "image/png": "[encoded data removed]",
      "text/plain": [
       "<Figure size 792x504 with 1 Axes>"
      ]
     },
     "metadata": {
      "needs_background": "light"
     },
     "output_type": "display_data"
    },
    {
     "name": "stdout",
     "output_type": "stream",
     "text": [
      "\n",
      "Eval results for Profanity.\n",
      "accuracy : 93.81\n",
      "precision : 95.0\n",
      "recall : 92.68\n",
      "f1 : 93.83\n",
      "matthews_corrcoef : 87.65\n",
      "roc_auc : 96.77\n"
     ]
    },
    {
     "name": "stderr",
     "output_type": "stream",
     "text": [
      "epoch: 17, train loss: 0.0134: 100%|████████| 3836/3836 [31:19<00:00,  2.04it/s]\n",
      "epoch: 17, valid loss: 0.2941: 100%|██████████| 101/101 [00:09<00:00, 11.13it/s]\n"
     ]
    },
    {
     "data": {
      "image/png": "[encoded data removed]",
      "text/plain": [
       "<Figure size 792x504 with 1 Axes>"
      ]
     },
     "metadata": {
      "needs_background": "light"
     },
     "output_type": "display_data"
    },
    {
     "name": "stdout",
     "output_type": "stream",
     "text": [
      "\n",
      "Eval results for Profanity.\n",
      "accuracy : 94.55\n",
      "precision : 95.07\n",
      "recall : 94.15\n",
      "f1 : 94.61\n",
      "matthews_corrcoef : 89.11\n",
      "roc_auc : 97.04\n"
     ]
    },
    {
     "name": "stderr",
     "output_type": "stream",
     "text": [
      "epoch: 18, train loss: 0.0108: 100%|████████| 3836/3836 [30:17<00:00,  2.11it/s]\n",
      "epoch: 18, valid loss: 0.3017: 100%|██████████| 101/101 [00:09<00:00, 11.14it/s]\n"
     ]
    },
    {
     "data": {
      "image/png": "[encoded data removed]",
      "text/plain": [
       "<Figure size 792x504 with 1 Axes>"
      ]
     },
     "metadata": {
      "needs_background": "light"
     },
     "output_type": "display_data"
    },
    {
     "name": "stdout",
     "output_type": "stream",
     "text": [
      "\n",
      "Eval results for Profanity.\n",
      "accuracy : 94.55\n",
      "precision : 94.63\n",
      "recall : 94.63\n",
      "f1 : 94.63\n",
      "matthews_corrcoef : 89.11\n",
      "roc_auc : 97.28\n"
     ]
    },
    {
     "name": "stderr",
     "output_type": "stream",
     "text": [
      "epoch: 19, train loss: 0.0134:  39%|███     | 1491/3836 [11:49<18:35,  2.10it/s]\n"
     ]
    },
    {
     "ename": "KeyboardInterrupt",
     "evalue": "",
     "output_type": "error",
     "traceback": [
      "\u001b[0;31m---------------------------------------------------------------------------\u001b[0m",
      "\u001b[0;31mKeyboardInterrupt\u001b[0m                         Traceback (most recent call last)",
      "Cell \u001b[0;32mIn[19], line 39\u001b[0m\n\u001b[1;32m     37\u001b[0m \u001b[38;5;66;03m# Start training over a number of epochs\u001b[39;00m\n\u001b[1;32m     38\u001b[0m \u001b[38;5;28;01mfor\u001b[39;00m epoch \u001b[38;5;129;01min\u001b[39;00m \u001b[38;5;28mrange\u001b[39m(config\u001b[38;5;241m.\u001b[39mnum_train_epochs):\n\u001b[0;32m---> 39\u001b[0m     train_results \u001b[38;5;241m=\u001b[39m \u001b[43mrun_epoch\u001b[49m\u001b[43m(\u001b[49m\u001b[43mloader\u001b[49m\u001b[38;5;241;43m=\u001b[39;49m\u001b[43mtrain_dataloader\u001b[49m\u001b[43m,\u001b[49m\u001b[43m \u001b[49m\u001b[43mepoch\u001b[49m\u001b[38;5;241;43m=\u001b[39;49m\u001b[43mepoch\u001b[49m\u001b[43m,\u001b[49m\u001b[43m \u001b[49m\u001b[43mis_train\u001b[49m\u001b[38;5;241;43m=\u001b[39;49m\u001b[38;5;28;43;01mTrue\u001b[39;49;00m\u001b[43m,\u001b[49m\u001b[43m \u001b[49m\u001b[38;5;241;43m*\u001b[39;49m\u001b[38;5;241;43m*\u001b[39;49m\u001b[43mparams\u001b[49m\u001b[43m)\u001b[49m\n\u001b[1;32m     40\u001b[0m     train_loss \u001b[38;5;241m=\u001b[39m train_results[\u001b[38;5;124m'\u001b[39m\u001b[38;5;124mloss\u001b[39m\u001b[38;5;124m'\u001b[39m]\n\u001b[1;32m     41\u001b[0m     train_losses\u001b[38;5;241m.\u001b[39mappend(train_loss)\n",
      "Cell \u001b[0;32mIn[17], line 90\u001b[0m, in \u001b[0;36mrun_epoch\u001b[0;34m(**kwargs)\u001b[0m\n\u001b[1;32m     88\u001b[0m     results \u001b[38;5;241m=\u001b[39m model(_run_epoch, \u001b[38;5;241m*\u001b[39m\u001b[38;5;241m*\u001b[39mkwargs)\n\u001b[1;32m     89\u001b[0m \u001b[38;5;28;01melse\u001b[39;00m:\n\u001b[0;32m---> 90\u001b[0m     results \u001b[38;5;241m=\u001b[39m \u001b[43m_run_epoch\u001b[49m\u001b[43m(\u001b[49m\u001b[43mmodel\u001b[49m\u001b[43m,\u001b[49m\u001b[43m \u001b[49m\u001b[38;5;241;43m*\u001b[39;49m\u001b[38;5;241;43m*\u001b[39;49m\u001b[43mkwargs\u001b[49m\u001b[43m)\u001b[49m\n\u001b[1;32m     92\u001b[0m \u001b[38;5;28;01mif\u001b[39;00m \u001b[38;5;28misinstance\u001b[39m(results, \u001b[38;5;28mlist\u001b[39m):\n\u001b[1;32m     93\u001b[0m     loss \u001b[38;5;241m=\u001b[39m \u001b[38;5;28msum\u001b[39m([result[\u001b[38;5;124m\"\u001b[39m\u001b[38;5;124mloss\u001b[39m\u001b[38;5;124m\"\u001b[39m] \u001b[38;5;28;01mfor\u001b[39;00m result \u001b[38;5;129;01min\u001b[39;00m results]) \u001b[38;5;241m/\u001b[39m \u001b[38;5;28mlen\u001b[39m(results)\n",
      "Cell \u001b[0;32mIn[17], line 59\u001b[0m, in \u001b[0;36m_run_epoch\u001b[0;34m(model, loader, device, context, **kwargs)\u001b[0m\n\u001b[1;32m     57\u001b[0m \u001b[38;5;66;03m# Backpropagation and optimization step (for training)\u001b[39;00m\n\u001b[1;32m     58\u001b[0m \u001b[38;5;28;01mif\u001b[39;00m is_train:\n\u001b[0;32m---> 59\u001b[0m     \u001b[43mloss\u001b[49m\u001b[38;5;241;43m.\u001b[39;49m\u001b[43mbackward\u001b[49m\u001b[43m(\u001b[49m\u001b[43m)\u001b[49m\n\u001b[1;32m     60\u001b[0m     \u001b[38;5;28;01mif\u001b[39;00m i \u001b[38;5;241m%\u001b[39m config\u001b[38;5;241m.\u001b[39mgradient_accumulation_steps \u001b[38;5;241m==\u001b[39m \u001b[38;5;241m0\u001b[39m \u001b[38;5;129;01mor\u001b[39;00m i \u001b[38;5;241m==\u001b[39m batch_num \u001b[38;5;241m-\u001b[39m \u001b[38;5;241m1\u001b[39m:\n\u001b[1;32m     61\u001b[0m         \u001b[38;5;28;01mif\u001b[39;00m config\u001b[38;5;241m.\u001b[39mmax_grad_norm \u001b[38;5;241m>\u001b[39m \u001b[38;5;241m0\u001b[39m:\n",
      "File \u001b[0;32m/home/bmi-admin/anaconda3/lib/python3.9/site-packages/torch/_tensor.py:487\u001b[0m, in \u001b[0;36mTensor.backward\u001b[0;34m(self, gradient, retain_graph, create_graph, inputs)\u001b[0m\n\u001b[1;32m    477\u001b[0m \u001b[38;5;28;01mif\u001b[39;00m has_torch_function_unary(\u001b[38;5;28mself\u001b[39m):\n\u001b[1;32m    478\u001b[0m     \u001b[38;5;28;01mreturn\u001b[39;00m handle_torch_function(\n\u001b[1;32m    479\u001b[0m         Tensor\u001b[38;5;241m.\u001b[39mbackward,\n\u001b[1;32m    480\u001b[0m         (\u001b[38;5;28mself\u001b[39m,),\n\u001b[0;32m   (...)\u001b[0m\n\u001b[1;32m    485\u001b[0m         inputs\u001b[38;5;241m=\u001b[39minputs,\n\u001b[1;32m    486\u001b[0m     )\n\u001b[0;32m--> 487\u001b[0m \u001b[43mtorch\u001b[49m\u001b[38;5;241;43m.\u001b[39;49m\u001b[43mautograd\u001b[49m\u001b[38;5;241;43m.\u001b[39;49m\u001b[43mbackward\u001b[49m\u001b[43m(\u001b[49m\n\u001b[1;32m    488\u001b[0m \u001b[43m    \u001b[49m\u001b[38;5;28;43mself\u001b[39;49m\u001b[43m,\u001b[49m\u001b[43m \u001b[49m\u001b[43mgradient\u001b[49m\u001b[43m,\u001b[49m\u001b[43m \u001b[49m\u001b[43mretain_graph\u001b[49m\u001b[43m,\u001b[49m\u001b[43m \u001b[49m\u001b[43mcreate_graph\u001b[49m\u001b[43m,\u001b[49m\u001b[43m \u001b[49m\u001b[43minputs\u001b[49m\u001b[38;5;241;43m=\u001b[39;49m\u001b[43minputs\u001b[49m\n\u001b[1;32m    489\u001b[0m \u001b[43m\u001b[49m\u001b[43m)\u001b[49m\n",
      "File \u001b[0;32m/home/bmi-admin/anaconda3/lib/python3.9/site-packages/torch/autograd/__init__.py:200\u001b[0m, in \u001b[0;36mbackward\u001b[0;34m(tensors, grad_tensors, retain_graph, create_graph, grad_variables, inputs)\u001b[0m\n\u001b[1;32m    195\u001b[0m     retain_graph \u001b[38;5;241m=\u001b[39m create_graph\n\u001b[1;32m    197\u001b[0m \u001b[38;5;66;03m# The reason we repeat same the comment below is that\u001b[39;00m\n\u001b[1;32m    198\u001b[0m \u001b[38;5;66;03m# some Python versions print out the first line of a multi-line function\u001b[39;00m\n\u001b[1;32m    199\u001b[0m \u001b[38;5;66;03m# calls in the traceback and some print out the last line\u001b[39;00m\n\u001b[0;32m--> 200\u001b[0m \u001b[43mVariable\u001b[49m\u001b[38;5;241;43m.\u001b[39;49m\u001b[43m_execution_engine\u001b[49m\u001b[38;5;241;43m.\u001b[39;49m\u001b[43mrun_backward\u001b[49m\u001b[43m(\u001b[49m\u001b[43m  \u001b[49m\u001b[38;5;66;43;03m# Calls into the C++ engine to run the backward pass\u001b[39;49;00m\n\u001b[1;32m    201\u001b[0m \u001b[43m    \u001b[49m\u001b[43mtensors\u001b[49m\u001b[43m,\u001b[49m\u001b[43m \u001b[49m\u001b[43mgrad_tensors_\u001b[49m\u001b[43m,\u001b[49m\u001b[43m \u001b[49m\u001b[43mretain_graph\u001b[49m\u001b[43m,\u001b[49m\u001b[43m \u001b[49m\u001b[43mcreate_graph\u001b[49m\u001b[43m,\u001b[49m\u001b[43m \u001b[49m\u001b[43minputs\u001b[49m\u001b[43m,\u001b[49m\n\u001b[1;32m    202\u001b[0m \u001b[43m    \u001b[49m\u001b[43mallow_unreachable\u001b[49m\u001b[38;5;241;43m=\u001b[39;49m\u001b[38;5;28;43;01mTrue\u001b[39;49;00m\u001b[43m,\u001b[49m\u001b[43m \u001b[49m\u001b[43maccumulate_grad\u001b[49m\u001b[38;5;241;43m=\u001b[39;49m\u001b[38;5;28;43;01mTrue\u001b[39;49;00m\u001b[43m)\u001b[49m\n",
      "\u001b[0;31mKeyboardInterrupt\u001b[0m: "
     ]
    }
   ],
   "source": [
    "def do_eval(epoch):\n",
    "    \n",
    "    with torch.no_grad():\n",
    "        # Run the model on the predict_dataloader and obtain results\n",
    "        results = run_epoch(loader=predict_dataloader, epoch=epoch, is_train=False, **params)[\"result\"]\n",
    "        predictions = [item['prediction'] for item in results]\n",
    "        labels = [item['label'] for item in results]\n",
    "        probs = [item['prob'] for item in results]\n",
    "        predictions = np.array([subitem for sublist in predictions for subitem in sublist])\n",
    "        labels = np.array([subitem for sublist in labels for subitem in sublist])\n",
    "        probs = np.array([subitem for sublist in probs for subitem in sublist])\n",
    "        predictions = np.array(predictions)\n",
    "        labels = np.array(labels)\n",
    "        \n",
    "        # Compute evaluation metrics using the eval_cls function\n",
    "        eval_results = eval_cls(\n",
    "            config=config,\n",
    "            model=model,\n",
    "            loader=predict_dataloader,\n",
    "            tokenizer=model.tokenizer,\n",
    "            predictions=predictions,  \n",
    "            labels=labels,    \n",
    "            probs=probs\n",
    "        )\n",
    "        \n",
    "        print(\"\\nEval results for Profanity.\")\n",
    "        for k, v in eval_results[\"results\"].items():\n",
    "            print(f\"{k} : {v}\")\n",
    "\n",
    "    return eval_results[\"best_score\"], eval_results[\"roc_auc\"]\n",
    "\n",
    "train_losses = []\n",
    "val_f1 = []\n",
    "val_roc_auc = []\n",
    "if config.do_train:\n",
    "    best_score = 0\n",
    "    # Start training over a number of epochs\n",
    "    for epoch in range(config.num_train_epochs):\n",
    "        train_results = run_epoch(loader=train_dataloader, epoch=epoch, is_train=True, **params)\n",
    "        train_loss = train_results['loss']\n",
    "        train_losses.append(train_loss)\n",
    "        \n",
    "        # Evaluation during training (if configured to do so)\n",
    "        if config.do_eval_during_train:\n",
    "            f1_score, roc_auc = do_eval(epoch)\n",
    "            val_f1.append(f1_score)\n",
    "            val_roc_auc.append(roc_auc)\n",
    "            \n",
    "            # Checkpointing: Save the model if the F1 score is the best till now\n",
    "            if f1_score >= best_score:\n",
    "                best_score = f1_score\n",
    "                output_dir = os.path.join(config.output_dir, config.task, config.dataset, f\"{epoch}-{best_score}-ckpt\")\n",
    "                if not os.path.exists(output_dir):\n",
    "                    os.makedirs(output_dir)\n",
    "                # Save the best model\n",
    "                model_path = os.path.join(output_dir, \"model_weights.pth\")\n",
    "                torch.save(model.state_dict(), model_path)\n",
    "                with open(os.path.join(output_dir, \"finetune_config.json\"), \"w\") as save_config:\n",
    "                    json.dump(vars(config), save_config, sort_keys=True, indent=4)\n",
    "                print(f\"Checkpoint {output_dir} saved.\")   "
   ]
  },
  {
   "cell_type": "code",
   "execution_count": 20,
   "metadata": {},
   "outputs": [
    {
     "data": {
      "image/png": "[encoded data removed]",
      "text/plain": [
       "<Figure size 1440x432 with 2 Axes>"
      ]
     },
     "metadata": {
      "needs_background": "light"
     },
     "output_type": "display_data"
    }
   ],
   "source": [
    "import matplotlib.pyplot as plt\n",
    "\n",
    "# Setting up a canvas with 1 row and 2 columns to display the graphs side by side\n",
    "fig, axes = plt.subplots(nrows=1, ncols=2, figsize=(20, 6))\n",
    "\n",
    "# Plotting the Training Loss on the left side\n",
    "axes[0].plot(train_losses, label=\"Train Loss\", color='blue')\n",
    "axes[0].set_xlabel(\"Epoch\")\n",
    "axes[0].set_ylabel(\"Loss\")\n",
    "axes[0].set_title(\"Training Loss\")\n",
    "axes[0].legend()\n",
    "\n",
    "# If evaluations during training is enabled, plot the F1 Score on the right side\n",
    "if config.do_eval_during_train:\n",
    "    axes[1].plot(val_f1, label=\"Profanity F1 Score\", color='green')\n",
    "    axes[1].set_xlabel(\"Epoch\")\n",
    "    axes[1].set_ylabel(\"F1 Score\")\n",
    "    axes[1].set_title(\"F1 Score\")\n",
    "    axes[1].legend()\n",
    "\n",
    "# Display the plots\n",
    "plt.tight_layout()\n",
    "plt.show()\n"
   ]
  },
  {
   "cell_type": "markdown",
   "metadata": {
    "id": "12exRg2pE53H"
   },
   "source": [
    "## Inference"
   ]
  },
  {
   "cell_type": "code",
   "execution_count": 21,
   "metadata": {},
   "outputs": [],
   "source": [
    "from transformers import AutoModel, AutoConfig, AutoTokenizer\n",
    "import torch\n",
    "import os\n",
    "\n",
    "MODEL_PATH = output_dir # best model path\n",
    "\n",
    "model = ClsModel()\n",
    "loaded_state_dict = torch.load(os.path.join(MODEL_PATH, \"model_weights.pth\"))\n",
    "model.load_state_dict(loaded_state_dict)\n",
    "model.eval() \n",
    "tokenizer = model.tokenizer\n",
    "\n",
    "def predict(text):\n",
    "    encoding = tokenizer(text, return_tensors=\"pt\", truncation=True, padding=True, max_length=512)\n",
    "    inputs = {\n",
    "        \"input_ids\": encoding[\"input_ids\"],\n",
    "        \"attention_mask\": encoding[\"attention_mask\"],\n",
    "        \"token_type_ids\": encoding[\"token_type_ids\"]\n",
    "    }\n",
    "    with torch.no_grad():\n",
    "        logit = model(inputs)\n",
    "\n",
    "    prob = torch.sigmoid(logit)\n",
    "    prediction = (prob > 0.5).int()  \n",
    "\n",
    "    return prediction"
   ]
  },
  {
   "cell_type": "code",
   "execution_count": 22,
   "metadata": {},
   "outputs": [
    {
     "name": "stdout",
     "output_type": "stream",
     "text": [
      "profanity: yes\n"
     ]
    }
   ],
   "source": [
    "text = \"와 이거 존나 재밌네\"\n",
    "\n",
    "result = predict(text)\n",
    "if result.item() == 1:\n",
    "    predicted_class = \"yes\"\n",
    "else:\n",
    "    predicted_class = \"no\"\n",
    "    \n",
    "print(f'profanity: {predicted_class}')"
   ]
  },
  {
   "cell_type": "code",
   "execution_count": null,
   "metadata": {},
   "outputs": [],
   "source": []
  }
 ],
 "metadata": {
  "accelerator": "GPU",
  "colab": {
   "gpuType": "T4",
   "provenance": []
  },
  "kernelspec": {
   "display_name": "Python 3 (ipykernel)",
   "language": "python",
   "name": "python3"
  },
  "language_info": {
   "codemirror_mode": {
    "name": "ipython",
    "version": 3
   },
   "file_extension": ".py",
   "mimetype": "text/x-python",
   "name": "python",
   "nbconvert_exporter": "python",
   "pygments_lexer": "ipython3",
   "version": "3.9.17"
  },
  "widgets": {
   "application/vnd.jupyter.widget-state+json": {
    "004a2114194f462d9b65e76d92e0b0f3": {
     "model_module": "@jupyter-widgets/controls",
     "model_module_version": "1.5.0",
     "model_name": "DescriptionStyleModel",
     "state": {
      "_model_module": "@jupyter-widgets/controls",
      "_model_module_version": "1.5.0",
      "_model_name": "DescriptionStyleModel",
      "_view_count": null,
      "_view_module": "@jupyter-widgets/base",
      "_view_module_version": "1.2.0",
      "_view_name": "StyleView",
      "description_width": ""
     }
    },
    "03a5382399d247df97546b40953e83d8": {
     "model_module": "@jupyter-widgets/base",
     "model_module_version": "1.2.0",
     "model_name": "LayoutModel",
     "state": {
      "_model_module": "@jupyter-widgets/base",
      "_model_module_version": "1.2.0",
      "_model_name": "LayoutModel",
      "_view_count": null,
      "_view_module": "@jupyter-widgets/base",
      "_view_module_version": "1.2.0",
      "_view_name": "LayoutView",
      "align_content": null,
      "align_items": null,
      "align_self": null,
      "border": null,
      "bottom": null,
      "display": null,
      "flex": null,
      "flex_flow": null,
      "grid_area": null,
      "grid_auto_columns": null,
      "grid_auto_flow": null,
      "grid_auto_rows": null,
      "grid_column": null,
      "grid_gap": null,
      "grid_row": null,
      "grid_template_areas": null,
      "grid_template_columns": null,
      "grid_template_rows": null,
      "height": null,
      "justify_content": null,
      "justify_items": null,
      "left": null,
      "margin": null,
      "max_height": null,
      "max_width": null,
      "min_height": null,
      "min_width": null,
      "object_fit": null,
      "object_position": null,
      "order": null,
      "overflow": null,
      "overflow_x": null,
      "overflow_y": null,
      "padding": null,
      "right": null,
      "top": null,
      "visibility": null,
      "width": null
     }
    },
    "0510894fcdeb486ab6a9f7f146b88521": {
     "model_module": "@jupyter-widgets/base",
     "model_module_version": "1.2.0",
     "model_name": "LayoutModel",
     "state": {
      "_model_module": "@jupyter-widgets/base",
      "_model_module_version": "1.2.0",
      "_model_name": "LayoutModel",
      "_view_count": null,
      "_view_module": "@jupyter-widgets/base",
      "_view_module_version": "1.2.0",
      "_view_name": "LayoutView",
      "align_content": null,
      "align_items": null,
      "align_self": null,
      "border": null,
      "bottom": null,
      "display": null,
      "flex": null,
      "flex_flow": null,
      "grid_area": null,
      "grid_auto_columns": null,
      "grid_auto_flow": null,
      "grid_auto_rows": null,
      "grid_column": null,
      "grid_gap": null,
      "grid_row": null,
      "grid_template_areas": null,
      "grid_template_columns": null,
      "grid_template_rows": null,
      "height": null,
      "justify_content": null,
      "justify_items": null,
      "left": null,
      "margin": null,
      "max_height": null,
      "max_width": null,
      "min_height": null,
      "min_width": null,
      "object_fit": null,
      "object_position": null,
      "order": null,
      "overflow": null,
      "overflow_x": null,
      "overflow_y": null,
      "padding": null,
      "right": null,
      "top": null,
      "visibility": null,
      "width": null
     }
    },
    "051603c85059426db931e5912b1b3eed": {
     "model_module": "@jupyter-widgets/base",
     "model_module_version": "1.2.0",
     "model_name": "LayoutModel",
     "state": {
      "_model_module": "@jupyter-widgets/base",
      "_model_module_version": "1.2.0",
      "_model_name": "LayoutModel",
      "_view_count": null,
      "_view_module": "@jupyter-widgets/base",
      "_view_module_version": "1.2.0",
      "_view_name": "LayoutView",
      "align_content": null,
      "align_items": null,
      "align_self": null,
      "border": null,
      "bottom": null,
      "display": null,
      "flex": null,
      "flex_flow": null,
      "grid_area": null,
      "grid_auto_columns": null,
      "grid_auto_flow": null,
      "grid_auto_rows": null,
      "grid_column": null,
      "grid_gap": null,
      "grid_row": null,
      "grid_template_areas": null,
      "grid_template_columns": null,
      "grid_template_rows": null,
      "height": null,
      "justify_content": null,
      "justify_items": null,
      "left": null,
      "margin": null,
      "max_height": null,
      "max_width": null,
      "min_height": null,
      "min_width": null,
      "object_fit": null,
      "object_position": null,
      "order": null,
      "overflow": null,
      "overflow_x": null,
      "overflow_y": null,
      "padding": null,
      "right": null,
      "top": null,
      "visibility": null,
      "width": "20px"
     }
    },
    "0a83c125beea4abfb7d4e95f08137770": {
     "model_module": "@jupyter-widgets/controls",
     "model_module_version": "1.5.0",
     "model_name": "HTMLModel",
     "state": {
      "_dom_classes": [],
      "_model_module": "@jupyter-widgets/controls",
      "_model_module_version": "1.5.0",
      "_model_name": "HTMLModel",
      "_view_count": null,
      "_view_module": "@jupyter-widgets/controls",
      "_view_module_version": "1.5.0",
      "_view_name": "HTMLView",
      "description": "",
      "description_tooltip": null,
      "layout": "IPY_MODEL_be7502a56cd240b09db0bd85b8a75be4",
      "placeholder": "​",
      "style": "IPY_MODEL_c50dae8769df4184bb7055ec07488ed6",
      "value": " 1/1 [00:00&lt;00:00, 20.31it/s]"
     }
    },
    "0d6224bebcb3414096ea7d9651dad0ad": {
     "model_module": "@jupyter-widgets/controls",
     "model_module_version": "1.5.0",
     "model_name": "DescriptionStyleModel",
     "state": {
      "_model_module": "@jupyter-widgets/controls",
      "_model_module_version": "1.5.0",
      "_model_name": "DescriptionStyleModel",
      "_view_count": null,
      "_view_module": "@jupyter-widgets/base",
      "_view_module_version": "1.2.0",
      "_view_name": "StyleView",
      "description_width": ""
     }
    },
    "130d804471c04d0daedd9ab138e89b4b": {
     "model_module": "@jupyter-widgets/controls",
     "model_module_version": "1.5.0",
     "model_name": "FloatProgressModel",
     "state": {
      "_dom_classes": [],
      "_model_module": "@jupyter-widgets/controls",
      "_model_module_version": "1.5.0",
      "_model_name": "FloatProgressModel",
      "_view_count": null,
      "_view_module": "@jupyter-widgets/controls",
      "_view_module_version": "1.5.0",
      "_view_name": "ProgressView",
      "bar_style": "success",
      "description": "",
      "description_tooltip": null,
      "layout": "IPY_MODEL_41c3de44960749a88ee4fbcf92ce46f6",
      "max": 1,
      "min": 0,
      "orientation": "horizontal",
      "style": "IPY_MODEL_ec682955f90c46eb8074dd52f07f3ab0",
      "value": 1
     }
    },
    "18a3e2c2d28f4fcdbdfd92978c31ed93": {
     "model_module": "@jupyter-widgets/controls",
     "model_module_version": "1.5.0",
     "model_name": "DescriptionStyleModel",
     "state": {
      "_model_module": "@jupyter-widgets/controls",
      "_model_module_version": "1.5.0",
      "_model_name": "DescriptionStyleModel",
      "_view_count": null,
      "_view_module": "@jupyter-widgets/base",
      "_view_module_version": "1.2.0",
      "_view_name": "StyleView",
      "description_width": ""
     }
    },
    "18fc7777e040404095515c7908ae88a7": {
     "model_module": "@jupyter-widgets/controls",
     "model_module_version": "1.5.0",
     "model_name": "DescriptionStyleModel",
     "state": {
      "_model_module": "@jupyter-widgets/controls",
      "_model_module_version": "1.5.0",
      "_model_name": "DescriptionStyleModel",
      "_view_count": null,
      "_view_module": "@jupyter-widgets/base",
      "_view_module_version": "1.2.0",
      "_view_name": "StyleView",
      "description_width": ""
     }
    },
    "1eec423b6bcc4769b1e52d41570bed58": {
     "model_module": "@jupyter-widgets/base",
     "model_module_version": "1.2.0",
     "model_name": "LayoutModel",
     "state": {
      "_model_module": "@jupyter-widgets/base",
      "_model_module_version": "1.2.0",
      "_model_name": "LayoutModel",
      "_view_count": null,
      "_view_module": "@jupyter-widgets/base",
      "_view_module_version": "1.2.0",
      "_view_name": "LayoutView",
      "align_content": null,
      "align_items": null,
      "align_self": null,
      "border": null,
      "bottom": null,
      "display": null,
      "flex": null,
      "flex_flow": null,
      "grid_area": null,
      "grid_auto_columns": null,
      "grid_auto_flow": null,
      "grid_auto_rows": null,
      "grid_column": null,
      "grid_gap": null,
      "grid_row": null,
      "grid_template_areas": null,
      "grid_template_columns": null,
      "grid_template_rows": null,
      "height": null,
      "justify_content": null,
      "justify_items": null,
      "left": null,
      "margin": null,
      "max_height": null,
      "max_width": null,
      "min_height": null,
      "min_width": null,
      "object_fit": null,
      "object_position": null,
      "order": null,
      "overflow": null,
      "overflow_x": null,
      "overflow_y": null,
      "padding": null,
      "right": null,
      "top": null,
      "visibility": null,
      "width": null
     }
    },
    "26fadfeece1c4d7691a49cc751b539c8": {
     "model_module": "@jupyter-widgets/controls",
     "model_module_version": "1.5.0",
     "model_name": "HTMLModel",
     "state": {
      "_dom_classes": [],
      "_model_module": "@jupyter-widgets/controls",
      "_model_module_version": "1.5.0",
      "_model_name": "HTMLModel",
      "_view_count": null,
      "_view_module": "@jupyter-widgets/controls",
      "_view_module_version": "1.5.0",
      "_view_name": "HTMLView",
      "description": "",
      "description_tooltip": null,
      "layout": "IPY_MODEL_ad08df5242e24d2d86f2f4e5867cbdbd",
      "placeholder": "​",
      "style": "IPY_MODEL_b159f0a44d844fc1b6febb9af93ad362",
      "value": " 8012/0 [00:01&lt;00:00, 8100.87 examples/s]"
     }
    },
    "276e2f032cb848e794a5bd0f82f7a791": {
     "model_module": "@jupyter-widgets/controls",
     "model_module_version": "1.5.0",
     "model_name": "DescriptionStyleModel",
     "state": {
      "_model_module": "@jupyter-widgets/controls",
      "_model_module_version": "1.5.0",
      "_model_name": "DescriptionStyleModel",
      "_view_count": null,
      "_view_module": "@jupyter-widgets/base",
      "_view_module_version": "1.2.0",
      "_view_name": "StyleView",
      "description_width": ""
     }
    },
    "2b4902e9b0a745ae91d1fc9c41f3b907": {
     "model_module": "@jupyter-widgets/base",
     "model_module_version": "1.2.0",
     "model_name": "LayoutModel",
     "state": {
      "_model_module": "@jupyter-widgets/base",
      "_model_module_version": "1.2.0",
      "_model_name": "LayoutModel",
      "_view_count": null,
      "_view_module": "@jupyter-widgets/base",
      "_view_module_version": "1.2.0",
      "_view_name": "LayoutView",
      "align_content": null,
      "align_items": null,
      "align_self": null,
      "border": null,
      "bottom": null,
      "display": null,
      "flex": null,
      "flex_flow": null,
      "grid_area": null,
      "grid_auto_columns": null,
      "grid_auto_flow": null,
      "grid_auto_rows": null,
      "grid_column": null,
      "grid_gap": null,
      "grid_row": null,
      "grid_template_areas": null,
      "grid_template_columns": null,
      "grid_template_rows": null,
      "height": null,
      "justify_content": null,
      "justify_items": null,
      "left": null,
      "margin": null,
      "max_height": null,
      "max_width": null,
      "min_height": null,
      "min_width": null,
      "object_fit": null,
      "object_position": null,
      "order": null,
      "overflow": null,
      "overflow_x": null,
      "overflow_y": null,
      "padding": null,
      "right": null,
      "top": null,
      "visibility": null,
      "width": null
     }
    },
    "3157f8a62b494d729e54fb5b7e50a6cc": {
     "model_module": "@jupyter-widgets/base",
     "model_module_version": "1.2.0",
     "model_name": "LayoutModel",
     "state": {
      "_model_module": "@jupyter-widgets/base",
      "_model_module_version": "1.2.0",
      "_model_name": "LayoutModel",
      "_view_count": null,
      "_view_module": "@jupyter-widgets/base",
      "_view_module_version": "1.2.0",
      "_view_name": "LayoutView",
      "align_content": null,
      "align_items": null,
      "align_self": null,
      "border": null,
      "bottom": null,
      "display": null,
      "flex": null,
      "flex_flow": null,
      "grid_area": null,
      "grid_auto_columns": null,
      "grid_auto_flow": null,
      "grid_auto_rows": null,
      "grid_column": null,
      "grid_gap": null,
      "grid_row": null,
      "grid_template_areas": null,
      "grid_template_columns": null,
      "grid_template_rows": null,
      "height": null,
      "justify_content": null,
      "justify_items": null,
      "left": null,
      "margin": null,
      "max_height": null,
      "max_width": null,
      "min_height": null,
      "min_width": null,
      "object_fit": null,
      "object_position": null,
      "order": null,
      "overflow": null,
      "overflow_x": null,
      "overflow_y": null,
      "padding": null,
      "right": null,
      "top": null,
      "visibility": null,
      "width": null
     }
    },
    "3571d077964e4767bc60a1bf1228179c": {
     "model_module": "@jupyter-widgets/controls",
     "model_module_version": "1.5.0",
     "model_name": "HTMLModel",
     "state": {
      "_dom_classes": [],
      "_model_module": "@jupyter-widgets/controls",
      "_model_module_version": "1.5.0",
      "_model_name": "HTMLModel",
      "_view_count": null,
      "_view_module": "@jupyter-widgets/controls",
      "_view_module_version": "1.5.0",
      "_view_name": "HTMLView",
      "description": "",
      "description_tooltip": null,
      "layout": "IPY_MODEL_5cd2d15c41ea4b05ad5e58e843c9a141",
      "placeholder": "​",
      "style": "IPY_MODEL_18a3e2c2d28f4fcdbdfd92978c31ed93",
      "value": "Map: 100%"
     }
    },
    "366db5f01aba4d629ebfd9394e6567d5": {
     "model_module": "@jupyter-widgets/base",
     "model_module_version": "1.2.0",
     "model_name": "LayoutModel",
     "state": {
      "_model_module": "@jupyter-widgets/base",
      "_model_module_version": "1.2.0",
      "_model_name": "LayoutModel",
      "_view_count": null,
      "_view_module": "@jupyter-widgets/base",
      "_view_module_version": "1.2.0",
      "_view_name": "LayoutView",
      "align_content": null,
      "align_items": null,
      "align_self": null,
      "border": null,
      "bottom": null,
      "display": null,
      "flex": null,
      "flex_flow": null,
      "grid_area": null,
      "grid_auto_columns": null,
      "grid_auto_flow": null,
      "grid_auto_rows": null,
      "grid_column": null,
      "grid_gap": null,
      "grid_row": null,
      "grid_template_areas": null,
      "grid_template_columns": null,
      "grid_template_rows": null,
      "height": null,
      "justify_content": null,
      "justify_items": null,
      "left": null,
      "margin": null,
      "max_height": null,
      "max_width": null,
      "min_height": null,
      "min_width": null,
      "object_fit": null,
      "object_position": null,
      "order": null,
      "overflow": null,
      "overflow_x": null,
      "overflow_y": null,
      "padding": null,
      "right": null,
      "top": null,
      "visibility": null,
      "width": null
     }
    },
    "372c8e33ba2f45f1994be885f1b7699d": {
     "model_module": "@jupyter-widgets/controls",
     "model_module_version": "1.5.0",
     "model_name": "DescriptionStyleModel",
     "state": {
      "_model_module": "@jupyter-widgets/controls",
      "_model_module_version": "1.5.0",
      "_model_name": "DescriptionStyleModel",
      "_view_count": null,
      "_view_module": "@jupyter-widgets/base",
      "_view_module_version": "1.2.0",
      "_view_name": "StyleView",
      "description_width": ""
     }
    },
    "375fec6920b6432586c76a711b7e989a": {
     "model_module": "@jupyter-widgets/controls",
     "model_module_version": "1.5.0",
     "model_name": "ProgressStyleModel",
     "state": {
      "_model_module": "@jupyter-widgets/controls",
      "_model_module_version": "1.5.0",
      "_model_name": "ProgressStyleModel",
      "_view_count": null,
      "_view_module": "@jupyter-widgets/base",
      "_view_module_version": "1.2.0",
      "_view_name": "StyleView",
      "bar_color": null,
      "description_width": ""
     }
    },
    "3aedaebbd7b342efaf071680d6c96959": {
     "model_module": "@jupyter-widgets/base",
     "model_module_version": "1.2.0",
     "model_name": "LayoutModel",
     "state": {
      "_model_module": "@jupyter-widgets/base",
      "_model_module_version": "1.2.0",
      "_model_name": "LayoutModel",
      "_view_count": null,
      "_view_module": "@jupyter-widgets/base",
      "_view_module_version": "1.2.0",
      "_view_name": "LayoutView",
      "align_content": null,
      "align_items": null,
      "align_self": null,
      "border": null,
      "bottom": null,
      "display": null,
      "flex": null,
      "flex_flow": null,
      "grid_area": null,
      "grid_auto_columns": null,
      "grid_auto_flow": null,
      "grid_auto_rows": null,
      "grid_column": null,
      "grid_gap": null,
      "grid_row": null,
      "grid_template_areas": null,
      "grid_template_columns": null,
      "grid_template_rows": null,
      "height": null,
      "justify_content": null,
      "justify_items": null,
      "left": null,
      "margin": null,
      "max_height": null,
      "max_width": null,
      "min_height": null,
      "min_width": null,
      "object_fit": null,
      "object_position": null,
      "order": null,
      "overflow": null,
      "overflow_x": null,
      "overflow_y": null,
      "padding": null,
      "right": null,
      "top": null,
      "visibility": null,
      "width": null
     }
    },
    "3c215647d2c34a7fac0b86f8b257ec68": {
     "model_module": "@jupyter-widgets/controls",
     "model_module_version": "1.5.0",
     "model_name": "HTMLModel",
     "state": {
      "_dom_classes": [],
      "_model_module": "@jupyter-widgets/controls",
      "_model_module_version": "1.5.0",
      "_model_name": "HTMLModel",
      "_view_count": null,
      "_view_module": "@jupyter-widgets/controls",
      "_view_module_version": "1.5.0",
      "_view_name": "HTMLView",
      "description": "",
      "description_tooltip": null,
      "layout": "IPY_MODEL_3aedaebbd7b342efaf071680d6c96959",
      "placeholder": "​",
      "style": "IPY_MODEL_5ceef0d402b24e389105ad26cd82f8c8",
      "value": "Downloading data files: 100%"
     }
    },
    "3d46724068074285b1954a172a1fc2f1": {
     "model_module": "@jupyter-widgets/base",
     "model_module_version": "1.2.0",
     "model_name": "LayoutModel",
     "state": {
      "_model_module": "@jupyter-widgets/base",
      "_model_module_version": "1.2.0",
      "_model_name": "LayoutModel",
      "_view_count": null,
      "_view_module": "@jupyter-widgets/base",
      "_view_module_version": "1.2.0",
      "_view_name": "LayoutView",
      "align_content": null,
      "align_items": null,
      "align_self": null,
      "border": null,
      "bottom": null,
      "display": null,
      "flex": null,
      "flex_flow": null,
      "grid_area": null,
      "grid_auto_columns": null,
      "grid_auto_flow": null,
      "grid_auto_rows": null,
      "grid_column": null,
      "grid_gap": null,
      "grid_row": null,
      "grid_template_areas": null,
      "grid_template_columns": null,
      "grid_template_rows": null,
      "height": null,
      "justify_content": null,
      "justify_items": null,
      "left": null,
      "margin": null,
      "max_height": null,
      "max_width": null,
      "min_height": null,
      "min_width": null,
      "object_fit": null,
      "object_position": null,
      "order": null,
      "overflow": null,
      "overflow_x": null,
      "overflow_y": null,
      "padding": null,
      "right": null,
      "top": null,
      "visibility": null,
      "width": null
     }
    },
    "3e7b671c88d74ad2bce7623c461df5e5": {
     "model_module": "@jupyter-widgets/base",
     "model_module_version": "1.2.0",
     "model_name": "LayoutModel",
     "state": {
      "_model_module": "@jupyter-widgets/base",
      "_model_module_version": "1.2.0",
      "_model_name": "LayoutModel",
      "_view_count": null,
      "_view_module": "@jupyter-widgets/base",
      "_view_module_version": "1.2.0",
      "_view_name": "LayoutView",
      "align_content": null,
      "align_items": null,
      "align_self": null,
      "border": null,
      "bottom": null,
      "display": null,
      "flex": null,
      "flex_flow": null,
      "grid_area": null,
      "grid_auto_columns": null,
      "grid_auto_flow": null,
      "grid_auto_rows": null,
      "grid_column": null,
      "grid_gap": null,
      "grid_row": null,
      "grid_template_areas": null,
      "grid_template_columns": null,
      "grid_template_rows": null,
      "height": null,
      "justify_content": null,
      "justify_items": null,
      "left": null,
      "margin": null,
      "max_height": null,
      "max_width": null,
      "min_height": null,
      "min_width": null,
      "object_fit": null,
      "object_position": null,
      "order": null,
      "overflow": null,
      "overflow_x": null,
      "overflow_y": null,
      "padding": null,
      "right": null,
      "top": null,
      "visibility": null,
      "width": null
     }
    },
    "4144340f2817457484d7a655746223ea": {
     "model_module": "@jupyter-widgets/base",
     "model_module_version": "1.2.0",
     "model_name": "LayoutModel",
     "state": {
      "_model_module": "@jupyter-widgets/base",
      "_model_module_version": "1.2.0",
      "_model_name": "LayoutModel",
      "_view_count": null,
      "_view_module": "@jupyter-widgets/base",
      "_view_module_version": "1.2.0",
      "_view_name": "LayoutView",
      "align_content": null,
      "align_items": null,
      "align_self": null,
      "border": null,
      "bottom": null,
      "display": null,
      "flex": null,
      "flex_flow": null,
      "grid_area": null,
      "grid_auto_columns": null,
      "grid_auto_flow": null,
      "grid_auto_rows": null,
      "grid_column": null,
      "grid_gap": null,
      "grid_row": null,
      "grid_template_areas": null,
      "grid_template_columns": null,
      "grid_template_rows": null,
      "height": null,
      "justify_content": null,
      "justify_items": null,
      "left": null,
      "margin": null,
      "max_height": null,
      "max_width": null,
      "min_height": null,
      "min_width": null,
      "object_fit": null,
      "object_position": null,
      "order": null,
      "overflow": null,
      "overflow_x": null,
      "overflow_y": null,
      "padding": null,
      "right": null,
      "top": null,
      "visibility": null,
      "width": null
     }
    },
    "41c3de44960749a88ee4fbcf92ce46f6": {
     "model_module": "@jupyter-widgets/base",
     "model_module_version": "1.2.0",
     "model_name": "LayoutModel",
     "state": {
      "_model_module": "@jupyter-widgets/base",
      "_model_module_version": "1.2.0",
      "_model_name": "LayoutModel",
      "_view_count": null,
      "_view_module": "@jupyter-widgets/base",
      "_view_module_version": "1.2.0",
      "_view_name": "LayoutView",
      "align_content": null,
      "align_items": null,
      "align_self": null,
      "border": null,
      "bottom": null,
      "display": null,
      "flex": null,
      "flex_flow": null,
      "grid_area": null,
      "grid_auto_columns": null,
      "grid_auto_flow": null,
      "grid_auto_rows": null,
      "grid_column": null,
      "grid_gap": null,
      "grid_row": null,
      "grid_template_areas": null,
      "grid_template_columns": null,
      "grid_template_rows": null,
      "height": null,
      "justify_content": null,
      "justify_items": null,
      "left": null,
      "margin": null,
      "max_height": null,
      "max_width": null,
      "min_height": null,
      "min_width": null,
      "object_fit": null,
      "object_position": null,
      "order": null,
      "overflow": null,
      "overflow_x": null,
      "overflow_y": null,
      "padding": null,
      "right": null,
      "top": null,
      "visibility": null,
      "width": null
     }
    },
    "44a51f0467994802a0e2a89ab2d9609f": {
     "model_module": "@jupyter-widgets/controls",
     "model_module_version": "1.5.0",
     "model_name": "ProgressStyleModel",
     "state": {
      "_model_module": "@jupyter-widgets/controls",
      "_model_module_version": "1.5.0",
      "_model_name": "ProgressStyleModel",
      "_view_count": null,
      "_view_module": "@jupyter-widgets/base",
      "_view_module_version": "1.2.0",
      "_view_name": "StyleView",
      "bar_color": null,
      "description_width": ""
     }
    },
    "4590b0e30fd44335bd6a9b1bd817ef7a": {
     "model_module": "@jupyter-widgets/base",
     "model_module_version": "1.2.0",
     "model_name": "LayoutModel",
     "state": {
      "_model_module": "@jupyter-widgets/base",
      "_model_module_version": "1.2.0",
      "_model_name": "LayoutModel",
      "_view_count": null,
      "_view_module": "@jupyter-widgets/base",
      "_view_module_version": "1.2.0",
      "_view_name": "LayoutView",
      "align_content": null,
      "align_items": null,
      "align_self": null,
      "border": null,
      "bottom": null,
      "display": null,
      "flex": null,
      "flex_flow": null,
      "grid_area": null,
      "grid_auto_columns": null,
      "grid_auto_flow": null,
      "grid_auto_rows": null,
      "grid_column": null,
      "grid_gap": null,
      "grid_row": null,
      "grid_template_areas": null,
      "grid_template_columns": null,
      "grid_template_rows": null,
      "height": null,
      "justify_content": null,
      "justify_items": null,
      "left": null,
      "margin": null,
      "max_height": null,
      "max_width": null,
      "min_height": null,
      "min_width": null,
      "object_fit": null,
      "object_position": null,
      "order": null,
      "overflow": null,
      "overflow_x": null,
      "overflow_y": null,
      "padding": null,
      "right": null,
      "top": null,
      "visibility": null,
      "width": null
     }
    },
    "48fea61ddf56480781b5ae93030ea989": {
     "model_module": "@jupyter-widgets/controls",
     "model_module_version": "1.5.0",
     "model_name": "DescriptionStyleModel",
     "state": {
      "_model_module": "@jupyter-widgets/controls",
      "_model_module_version": "1.5.0",
      "_model_name": "DescriptionStyleModel",
      "_view_count": null,
      "_view_module": "@jupyter-widgets/base",
      "_view_module_version": "1.2.0",
      "_view_name": "StyleView",
      "description_width": ""
     }
    },
    "50d5d8ef64fd46ea86f77f107c67bbb8": {
     "model_module": "@jupyter-widgets/base",
     "model_module_version": "1.2.0",
     "model_name": "LayoutModel",
     "state": {
      "_model_module": "@jupyter-widgets/base",
      "_model_module_version": "1.2.0",
      "_model_name": "LayoutModel",
      "_view_count": null,
      "_view_module": "@jupyter-widgets/base",
      "_view_module_version": "1.2.0",
      "_view_name": "LayoutView",
      "align_content": null,
      "align_items": null,
      "align_self": null,
      "border": null,
      "bottom": null,
      "display": null,
      "flex": null,
      "flex_flow": null,
      "grid_area": null,
      "grid_auto_columns": null,
      "grid_auto_flow": null,
      "grid_auto_rows": null,
      "grid_column": null,
      "grid_gap": null,
      "grid_row": null,
      "grid_template_areas": null,
      "grid_template_columns": null,
      "grid_template_rows": null,
      "height": null,
      "justify_content": null,
      "justify_items": null,
      "left": null,
      "margin": null,
      "max_height": null,
      "max_width": null,
      "min_height": null,
      "min_width": null,
      "object_fit": null,
      "object_position": null,
      "order": null,
      "overflow": null,
      "overflow_x": null,
      "overflow_y": null,
      "padding": null,
      "right": null,
      "top": null,
      "visibility": null,
      "width": null
     }
    },
    "525f459e51d54d2a83e3c001eb157de1": {
     "model_module": "@jupyter-widgets/controls",
     "model_module_version": "1.5.0",
     "model_name": "ProgressStyleModel",
     "state": {
      "_model_module": "@jupyter-widgets/controls",
      "_model_module_version": "1.5.0",
      "_model_name": "ProgressStyleModel",
      "_view_count": null,
      "_view_module": "@jupyter-widgets/base",
      "_view_module_version": "1.2.0",
      "_view_name": "StyleView",
      "bar_color": null,
      "description_width": ""
     }
    },
    "575e332e868e4292aad70aa04b30ec5b": {
     "model_module": "@jupyter-widgets/controls",
     "model_module_version": "1.5.0",
     "model_name": "HBoxModel",
     "state": {
      "_dom_classes": [],
      "_model_module": "@jupyter-widgets/controls",
      "_model_module_version": "1.5.0",
      "_model_name": "HBoxModel",
      "_view_count": null,
      "_view_module": "@jupyter-widgets/controls",
      "_view_module_version": "1.5.0",
      "_view_name": "HBoxView",
      "box_style": "",
      "children": [
       "IPY_MODEL_a2ec9ea3f4924c54a6b167a4fafcf288",
       "IPY_MODEL_64241c09d71f42f6ab427ab9900b8531",
       "IPY_MODEL_977a80e15798477984daf223c85bcdf1"
      ],
      "layout": "IPY_MODEL_0510894fcdeb486ab6a9f7f146b88521"
     }
    },
    "5ac480a101744bdcaff69695afaa0c54": {
     "model_module": "@jupyter-widgets/controls",
     "model_module_version": "1.5.0",
     "model_name": "FloatProgressModel",
     "state": {
      "_dom_classes": [],
      "_model_module": "@jupyter-widgets/controls",
      "_model_module_version": "1.5.0",
      "_model_name": "FloatProgressModel",
      "_view_count": null,
      "_view_module": "@jupyter-widgets/controls",
      "_view_module_version": "1.5.0",
      "_view_name": "ProgressView",
      "bar_style": "success",
      "description": "",
      "description_tooltip": null,
      "layout": "IPY_MODEL_ad02ec77c74d4a929b9a848fcd55e6a5",
      "max": 8012,
      "min": 0,
      "orientation": "horizontal",
      "style": "IPY_MODEL_525f459e51d54d2a83e3c001eb157de1",
      "value": 8012
     }
    },
    "5b6167a3185b4ca281edf383a82c06a0": {
     "model_module": "@jupyter-widgets/controls",
     "model_module_version": "1.5.0",
     "model_name": "HTMLModel",
     "state": {
      "_dom_classes": [],
      "_model_module": "@jupyter-widgets/controls",
      "_model_module_version": "1.5.0",
      "_model_name": "HTMLModel",
      "_view_count": null,
      "_view_module": "@jupyter-widgets/controls",
      "_view_module_version": "1.5.0",
      "_view_name": "HTMLView",
      "description": "",
      "description_tooltip": null,
      "layout": "IPY_MODEL_3e7b671c88d74ad2bce7623c461df5e5",
      "placeholder": "​",
      "style": "IPY_MODEL_633599fa3ab245aabe08aedfe311521c",
      "value": "Generating train split: "
     }
    },
    "5cd2d15c41ea4b05ad5e58e843c9a141": {
     "model_module": "@jupyter-widgets/base",
     "model_module_version": "1.2.0",
     "model_name": "LayoutModel",
     "state": {
      "_model_module": "@jupyter-widgets/base",
      "_model_module_version": "1.2.0",
      "_model_name": "LayoutModel",
      "_view_count": null,
      "_view_module": "@jupyter-widgets/base",
      "_view_module_version": "1.2.0",
      "_view_name": "LayoutView",
      "align_content": null,
      "align_items": null,
      "align_self": null,
      "border": null,
      "bottom": null,
      "display": null,
      "flex": null,
      "flex_flow": null,
      "grid_area": null,
      "grid_auto_columns": null,
      "grid_auto_flow": null,
      "grid_auto_rows": null,
      "grid_column": null,
      "grid_gap": null,
      "grid_row": null,
      "grid_template_areas": null,
      "grid_template_columns": null,
      "grid_template_rows": null,
      "height": null,
      "justify_content": null,
      "justify_items": null,
      "left": null,
      "margin": null,
      "max_height": null,
      "max_width": null,
      "min_height": null,
      "min_width": null,
      "object_fit": null,
      "object_position": null,
      "order": null,
      "overflow": null,
      "overflow_x": null,
      "overflow_y": null,
      "padding": null,
      "right": null,
      "top": null,
      "visibility": null,
      "width": null
     }
    },
    "5ceef0d402b24e389105ad26cd82f8c8": {
     "model_module": "@jupyter-widgets/controls",
     "model_module_version": "1.5.0",
     "model_name": "DescriptionStyleModel",
     "state": {
      "_model_module": "@jupyter-widgets/controls",
      "_model_module_version": "1.5.0",
      "_model_name": "DescriptionStyleModel",
      "_view_count": null,
      "_view_module": "@jupyter-widgets/base",
      "_view_module_version": "1.2.0",
      "_view_name": "StyleView",
      "description_width": ""
     }
    },
    "5daa6938da8e40829e670d0c1cda45d7": {
     "model_module": "@jupyter-widgets/base",
     "model_module_version": "1.2.0",
     "model_name": "LayoutModel",
     "state": {
      "_model_module": "@jupyter-widgets/base",
      "_model_module_version": "1.2.0",
      "_model_name": "LayoutModel",
      "_view_count": null,
      "_view_module": "@jupyter-widgets/base",
      "_view_module_version": "1.2.0",
      "_view_name": "LayoutView",
      "align_content": null,
      "align_items": null,
      "align_self": null,
      "border": null,
      "bottom": null,
      "display": null,
      "flex": null,
      "flex_flow": null,
      "grid_area": null,
      "grid_auto_columns": null,
      "grid_auto_flow": null,
      "grid_auto_rows": null,
      "grid_column": null,
      "grid_gap": null,
      "grid_row": null,
      "grid_template_areas": null,
      "grid_template_columns": null,
      "grid_template_rows": null,
      "height": null,
      "justify_content": null,
      "justify_items": null,
      "left": null,
      "margin": null,
      "max_height": null,
      "max_width": null,
      "min_height": null,
      "min_width": null,
      "object_fit": null,
      "object_position": null,
      "order": null,
      "overflow": null,
      "overflow_x": null,
      "overflow_y": null,
      "padding": null,
      "right": null,
      "top": null,
      "visibility": null,
      "width": "20px"
     }
    },
    "5f4ce39ce9d642cc9d12117a82e1b379": {
     "model_module": "@jupyter-widgets/controls",
     "model_module_version": "1.5.0",
     "model_name": "HBoxModel",
     "state": {
      "_dom_classes": [],
      "_model_module": "@jupyter-widgets/controls",
      "_model_module_version": "1.5.0",
      "_model_name": "HBoxModel",
      "_view_count": null,
      "_view_module": "@jupyter-widgets/controls",
      "_view_module_version": "1.5.0",
      "_view_name": "HBoxView",
      "box_style": "",
      "children": [
       "IPY_MODEL_aa5aa8c0a71848b5b34b987bcd1cebb5",
       "IPY_MODEL_8248e0d560994b929ec3b61071d08e8e",
       "IPY_MODEL_d33510db3d6f4cde9b7cfdc4bbf46633"
      ],
      "layout": "IPY_MODEL_7a56fb7e02fb48809c7705a64636ea34"
     }
    },
    "6142ada01d1c42e7bfb247c0a1667dab": {
     "model_module": "@jupyter-widgets/controls",
     "model_module_version": "1.5.0",
     "model_name": "HBoxModel",
     "state": {
      "_dom_classes": [],
      "_model_module": "@jupyter-widgets/controls",
      "_model_module_version": "1.5.0",
      "_model_name": "HBoxModel",
      "_view_count": null,
      "_view_module": "@jupyter-widgets/controls",
      "_view_module_version": "1.5.0",
      "_view_name": "HBoxView",
      "box_style": "",
      "children": [
       "IPY_MODEL_f0a5d222482c4f099ccef515252a49cf",
       "IPY_MODEL_7d5a6dba3f9d4cbba7db85b9d2517542",
       "IPY_MODEL_7e801c9f1bd345afa0265398b9b001ad"
      ],
      "layout": "IPY_MODEL_bfec76fdb8b2439b98649673ef3ba7b7"
     }
    },
    "633599fa3ab245aabe08aedfe311521c": {
     "model_module": "@jupyter-widgets/controls",
     "model_module_version": "1.5.0",
     "model_name": "DescriptionStyleModel",
     "state": {
      "_model_module": "@jupyter-widgets/controls",
      "_model_module_version": "1.5.0",
      "_model_name": "DescriptionStyleModel",
      "_view_count": null,
      "_view_module": "@jupyter-widgets/base",
      "_view_module_version": "1.2.0",
      "_view_name": "StyleView",
      "description_width": ""
     }
    },
    "64241c09d71f42f6ab427ab9900b8531": {
     "model_module": "@jupyter-widgets/controls",
     "model_module_version": "1.5.0",
     "model_name": "FloatProgressModel",
     "state": {
      "_dom_classes": [],
      "_model_module": "@jupyter-widgets/controls",
      "_model_module_version": "1.5.0",
      "_model_name": "FloatProgressModel",
      "_view_count": null,
      "_view_module": "@jupyter-widgets/controls",
      "_view_module_version": "1.5.0",
      "_view_name": "ProgressView",
      "bar_style": "success",
      "description": "",
      "description_tooltip": null,
      "layout": "IPY_MODEL_9c7439319afc47a7b97013d2c7c76cbd",
      "max": 1,
      "min": 0,
      "orientation": "horizontal",
      "style": "IPY_MODEL_c6d8cd363c7d4d00a4276c67480b95a2",
      "value": 1
     }
    },
    "662a615d57c54cfa82cd1d7c808fb58e": {
     "model_module": "@jupyter-widgets/controls",
     "model_module_version": "1.5.0",
     "model_name": "DescriptionStyleModel",
     "state": {
      "_model_module": "@jupyter-widgets/controls",
      "_model_module_version": "1.5.0",
      "_model_name": "DescriptionStyleModel",
      "_view_count": null,
      "_view_module": "@jupyter-widgets/base",
      "_view_module_version": "1.2.0",
      "_view_name": "StyleView",
      "description_width": ""
     }
    },
    "674c903a206347a39022b483a88eed4f": {
     "model_module": "@jupyter-widgets/base",
     "model_module_version": "1.2.0",
     "model_name": "LayoutModel",
     "state": {
      "_model_module": "@jupyter-widgets/base",
      "_model_module_version": "1.2.0",
      "_model_name": "LayoutModel",
      "_view_count": null,
      "_view_module": "@jupyter-widgets/base",
      "_view_module_version": "1.2.0",
      "_view_name": "LayoutView",
      "align_content": null,
      "align_items": null,
      "align_self": null,
      "border": null,
      "bottom": null,
      "display": null,
      "flex": null,
      "flex_flow": null,
      "grid_area": null,
      "grid_auto_columns": null,
      "grid_auto_flow": null,
      "grid_auto_rows": null,
      "grid_column": null,
      "grid_gap": null,
      "grid_row": null,
      "grid_template_areas": null,
      "grid_template_columns": null,
      "grid_template_rows": null,
      "height": null,
      "justify_content": null,
      "justify_items": null,
      "left": null,
      "margin": null,
      "max_height": null,
      "max_width": null,
      "min_height": null,
      "min_width": null,
      "object_fit": null,
      "object_position": null,
      "order": null,
      "overflow": null,
      "overflow_x": null,
      "overflow_y": null,
      "padding": null,
      "right": null,
      "top": null,
      "visibility": null,
      "width": null
     }
    },
    "6ab6525394144b39848c6edacc146d0a": {
     "model_module": "@jupyter-widgets/controls",
     "model_module_version": "1.5.0",
     "model_name": "DescriptionStyleModel",
     "state": {
      "_model_module": "@jupyter-widgets/controls",
      "_model_module_version": "1.5.0",
      "_model_name": "DescriptionStyleModel",
      "_view_count": null,
      "_view_module": "@jupyter-widgets/base",
      "_view_module_version": "1.2.0",
      "_view_name": "StyleView",
      "description_width": ""
     }
    },
    "6cd29352cecc49d88fcfef1607e791e2": {
     "model_module": "@jupyter-widgets/controls",
     "model_module_version": "1.5.0",
     "model_name": "HBoxModel",
     "state": {
      "_dom_classes": [],
      "_model_module": "@jupyter-widgets/controls",
      "_model_module_version": "1.5.0",
      "_model_name": "HBoxModel",
      "_view_count": null,
      "_view_module": "@jupyter-widgets/controls",
      "_view_module_version": "1.5.0",
      "_view_name": "HBoxView",
      "box_style": "",
      "children": [
       "IPY_MODEL_8924cbbf41364ee1b57363f74d7b45bc",
       "IPY_MODEL_ce024d3db229456892a8b12bcdaa5c51",
       "IPY_MODEL_8bdd39db060445c8ab94a55edcaf592a"
      ],
      "layout": "IPY_MODEL_4590b0e30fd44335bd6a9b1bd817ef7a"
     }
    },
    "6e69c77a9c414258bd5de8e23898021c": {
     "model_module": "@jupyter-widgets/controls",
     "model_module_version": "1.5.0",
     "model_name": "DescriptionStyleModel",
     "state": {
      "_model_module": "@jupyter-widgets/controls",
      "_model_module_version": "1.5.0",
      "_model_name": "DescriptionStyleModel",
      "_view_count": null,
      "_view_module": "@jupyter-widgets/base",
      "_view_module_version": "1.2.0",
      "_view_name": "StyleView",
      "description_width": ""
     }
    },
    "7a56fb7e02fb48809c7705a64636ea34": {
     "model_module": "@jupyter-widgets/base",
     "model_module_version": "1.2.0",
     "model_name": "LayoutModel",
     "state": {
      "_model_module": "@jupyter-widgets/base",
      "_model_module_version": "1.2.0",
      "_model_name": "LayoutModel",
      "_view_count": null,
      "_view_module": "@jupyter-widgets/base",
      "_view_module_version": "1.2.0",
      "_view_name": "LayoutView",
      "align_content": null,
      "align_items": null,
      "align_self": null,
      "border": null,
      "bottom": null,
      "display": null,
      "flex": null,
      "flex_flow": null,
      "grid_area": null,
      "grid_auto_columns": null,
      "grid_auto_flow": null,
      "grid_auto_rows": null,
      "grid_column": null,
      "grid_gap": null,
      "grid_row": null,
      "grid_template_areas": null,
      "grid_template_columns": null,
      "grid_template_rows": null,
      "height": null,
      "justify_content": null,
      "justify_items": null,
      "left": null,
      "margin": null,
      "max_height": null,
      "max_width": null,
      "min_height": null,
      "min_width": null,
      "object_fit": null,
      "object_position": null,
      "order": null,
      "overflow": null,
      "overflow_x": null,
      "overflow_y": null,
      "padding": null,
      "right": null,
      "top": null,
      "visibility": null,
      "width": null
     }
    },
    "7d5a6dba3f9d4cbba7db85b9d2517542": {
     "model_module": "@jupyter-widgets/controls",
     "model_module_version": "1.5.0",
     "model_name": "FloatProgressModel",
     "state": {
      "_dom_classes": [],
      "_model_module": "@jupyter-widgets/controls",
      "_model_module_version": "1.5.0",
      "_model_name": "FloatProgressModel",
      "_view_count": null,
      "_view_module": "@jupyter-widgets/controls",
      "_view_module_version": "1.5.0",
      "_view_name": "ProgressView",
      "bar_style": "success",
      "description": "",
      "description_tooltip": null,
      "layout": "IPY_MODEL_d29cefa4abd14bb196a9c128ee9bd555",
      "max": 2003,
      "min": 0,
      "orientation": "horizontal",
      "style": "IPY_MODEL_375fec6920b6432586c76a711b7e989a",
      "value": 2003
     }
    },
    "7e801c9f1bd345afa0265398b9b001ad": {
     "model_module": "@jupyter-widgets/controls",
     "model_module_version": "1.5.0",
     "model_name": "HTMLModel",
     "state": {
      "_dom_classes": [],
      "_model_module": "@jupyter-widgets/controls",
      "_model_module_version": "1.5.0",
      "_model_name": "HTMLModel",
      "_view_count": null,
      "_view_module": "@jupyter-widgets/controls",
      "_view_module_version": "1.5.0",
      "_view_name": "HTMLView",
      "description": "",
      "description_tooltip": null,
      "layout": "IPY_MODEL_cd8118d33b5d4bb89e94d9bd893a86c3",
      "placeholder": "​",
      "style": "IPY_MODEL_276e2f032cb848e794a5bd0f82f7a791",
      "value": " 2003/2003 [00:01&lt;00:00, 2604.21 examples/s]"
     }
    },
    "8248e0d560994b929ec3b61071d08e8e": {
     "model_module": "@jupyter-widgets/controls",
     "model_module_version": "1.5.0",
     "model_name": "FloatProgressModel",
     "state": {
      "_dom_classes": [],
      "_model_module": "@jupyter-widgets/controls",
      "_model_module_version": "1.5.0",
      "_model_name": "FloatProgressModel",
      "_view_count": null,
      "_view_module": "@jupyter-widgets/controls",
      "_view_module_version": "1.5.0",
      "_view_name": "ProgressView",
      "bar_style": "success",
      "description": "",
      "description_tooltip": null,
      "layout": "IPY_MODEL_674c903a206347a39022b483a88eed4f",
      "max": 1,
      "min": 0,
      "orientation": "horizontal",
      "style": "IPY_MODEL_9ee9d5232e4b4c7f86fd197f41e08d5c",
      "value": 1
     }
    },
    "8924cbbf41364ee1b57363f74d7b45bc": {
     "model_module": "@jupyter-widgets/controls",
     "model_module_version": "1.5.0",
     "model_name": "HTMLModel",
     "state": {
      "_dom_classes": [],
      "_model_module": "@jupyter-widgets/controls",
      "_model_module_version": "1.5.0",
      "_model_name": "HTMLModel",
      "_view_count": null,
      "_view_module": "@jupyter-widgets/controls",
      "_view_module_version": "1.5.0",
      "_view_name": "HTMLView",
      "description": "",
      "description_tooltip": null,
      "layout": "IPY_MODEL_b8207ac43f1448a8916882a828debbe6",
      "placeholder": "​",
      "style": "IPY_MODEL_004a2114194f462d9b65e76d92e0b0f3",
      "value": "Generating train split: "
     }
    },
    "8bdd39db060445c8ab94a55edcaf592a": {
     "model_module": "@jupyter-widgets/controls",
     "model_module_version": "1.5.0",
     "model_name": "HTMLModel",
     "state": {
      "_dom_classes": [],
      "_model_module": "@jupyter-widgets/controls",
      "_model_module_version": "1.5.0",
      "_model_name": "HTMLModel",
      "_view_count": null,
      "_view_module": "@jupyter-widgets/controls",
      "_view_module_version": "1.5.0",
      "_view_name": "HTMLView",
      "description": "",
      "description_tooltip": null,
      "layout": "IPY_MODEL_4144340f2817457484d7a655746223ea",
      "placeholder": "​",
      "style": "IPY_MODEL_18fc7777e040404095515c7908ae88a7",
      "value": " 2003/0 [00:00&lt;00:00, 11531.42 examples/s]"
     }
    },
    "8c2682eb0ddb49cfa39242f4d4c6464d": {
     "model_module": "@jupyter-widgets/controls",
     "model_module_version": "1.5.0",
     "model_name": "HTMLModel",
     "state": {
      "_dom_classes": [],
      "_model_module": "@jupyter-widgets/controls",
      "_model_module_version": "1.5.0",
      "_model_name": "HTMLModel",
      "_view_count": null,
      "_view_module": "@jupyter-widgets/controls",
      "_view_module_version": "1.5.0",
      "_view_name": "HTMLView",
      "description": "",
      "description_tooltip": null,
      "layout": "IPY_MODEL_3d46724068074285b1954a172a1fc2f1",
      "placeholder": "​",
      "style": "IPY_MODEL_6e69c77a9c414258bd5de8e23898021c",
      "value": " 8012/8012 [00:07&lt;00:00, 2260.02 examples/s]"
     }
    },
    "8ffc1885b7774ba38ce0922ee934378c": {
     "model_module": "@jupyter-widgets/controls",
     "model_module_version": "1.5.0",
     "model_name": "HTMLModel",
     "state": {
      "_dom_classes": [],
      "_model_module": "@jupyter-widgets/controls",
      "_model_module_version": "1.5.0",
      "_model_name": "HTMLModel",
      "_view_count": null,
      "_view_module": "@jupyter-widgets/controls",
      "_view_module_version": "1.5.0",
      "_view_name": "HTMLView",
      "description": "",
      "description_tooltip": null,
      "layout": "IPY_MODEL_fc855b723ce046849a55e114208fdbc1",
      "placeholder": "​",
      "style": "IPY_MODEL_48fea61ddf56480781b5ae93030ea989",
      "value": "Extracting data files: 100%"
     }
    },
    "90dd439d491f4f92b93f7385d1992ddf": {
     "model_module": "@jupyter-widgets/controls",
     "model_module_version": "1.5.0",
     "model_name": "HTMLModel",
     "state": {
      "_dom_classes": [],
      "_model_module": "@jupyter-widgets/controls",
      "_model_module_version": "1.5.0",
      "_model_name": "HTMLModel",
      "_view_count": null,
      "_view_module": "@jupyter-widgets/controls",
      "_view_module_version": "1.5.0",
      "_view_name": "HTMLView",
      "description": "",
      "description_tooltip": null,
      "layout": "IPY_MODEL_03a5382399d247df97546b40953e83d8",
      "placeholder": "​",
      "style": "IPY_MODEL_372c8e33ba2f45f1994be885f1b7699d",
      "value": " 1/1 [00:00&lt;00:00, 61.71it/s]"
     }
    },
    "977a80e15798477984daf223c85bcdf1": {
     "model_module": "@jupyter-widgets/controls",
     "model_module_version": "1.5.0",
     "model_name": "HTMLModel",
     "state": {
      "_dom_classes": [],
      "_model_module": "@jupyter-widgets/controls",
      "_model_module_version": "1.5.0",
      "_model_name": "HTMLModel",
      "_view_count": null,
      "_view_module": "@jupyter-widgets/controls",
      "_view_module_version": "1.5.0",
      "_view_name": "HTMLView",
      "description": "",
      "description_tooltip": null,
      "layout": "IPY_MODEL_c305b20c02f5470189cd75eb4137be33",
      "placeholder": "​",
      "style": "IPY_MODEL_0d6224bebcb3414096ea7d9651dad0ad",
      "value": " 1/1 [00:00&lt;00:00, 12.38it/s]"
     }
    },
    "9c7439319afc47a7b97013d2c7c76cbd": {
     "model_module": "@jupyter-widgets/base",
     "model_module_version": "1.2.0",
     "model_name": "LayoutModel",
     "state": {
      "_model_module": "@jupyter-widgets/base",
      "_model_module_version": "1.2.0",
      "_model_name": "LayoutModel",
      "_view_count": null,
      "_view_module": "@jupyter-widgets/base",
      "_view_module_version": "1.2.0",
      "_view_name": "LayoutView",
      "align_content": null,
      "align_items": null,
      "align_self": null,
      "border": null,
      "bottom": null,
      "display": null,
      "flex": null,
      "flex_flow": null,
      "grid_area": null,
      "grid_auto_columns": null,
      "grid_auto_flow": null,
      "grid_auto_rows": null,
      "grid_column": null,
      "grid_gap": null,
      "grid_row": null,
      "grid_template_areas": null,
      "grid_template_columns": null,
      "grid_template_rows": null,
      "height": null,
      "justify_content": null,
      "justify_items": null,
      "left": null,
      "margin": null,
      "max_height": null,
      "max_width": null,
      "min_height": null,
      "min_width": null,
      "object_fit": null,
      "object_position": null,
      "order": null,
      "overflow": null,
      "overflow_x": null,
      "overflow_y": null,
      "padding": null,
      "right": null,
      "top": null,
      "visibility": null,
      "width": null
     }
    },
    "9ee9d5232e4b4c7f86fd197f41e08d5c": {
     "model_module": "@jupyter-widgets/controls",
     "model_module_version": "1.5.0",
     "model_name": "ProgressStyleModel",
     "state": {
      "_model_module": "@jupyter-widgets/controls",
      "_model_module_version": "1.5.0",
      "_model_name": "ProgressStyleModel",
      "_view_count": null,
      "_view_module": "@jupyter-widgets/base",
      "_view_module_version": "1.2.0",
      "_view_name": "StyleView",
      "bar_color": null,
      "description_width": ""
     }
    },
    "a1f0ec27b05647f38e4c01328b387346": {
     "model_module": "@jupyter-widgets/base",
     "model_module_version": "1.2.0",
     "model_name": "LayoutModel",
     "state": {
      "_model_module": "@jupyter-widgets/base",
      "_model_module_version": "1.2.0",
      "_model_name": "LayoutModel",
      "_view_count": null,
      "_view_module": "@jupyter-widgets/base",
      "_view_module_version": "1.2.0",
      "_view_name": "LayoutView",
      "align_content": null,
      "align_items": null,
      "align_self": null,
      "border": null,
      "bottom": null,
      "display": null,
      "flex": null,
      "flex_flow": null,
      "grid_area": null,
      "grid_auto_columns": null,
      "grid_auto_flow": null,
      "grid_auto_rows": null,
      "grid_column": null,
      "grid_gap": null,
      "grid_row": null,
      "grid_template_areas": null,
      "grid_template_columns": null,
      "grid_template_rows": null,
      "height": null,
      "justify_content": null,
      "justify_items": null,
      "left": null,
      "margin": null,
      "max_height": null,
      "max_width": null,
      "min_height": null,
      "min_width": null,
      "object_fit": null,
      "object_position": null,
      "order": null,
      "overflow": null,
      "overflow_x": null,
      "overflow_y": null,
      "padding": null,
      "right": null,
      "top": null,
      "visibility": null,
      "width": null
     }
    },
    "a2ec9ea3f4924c54a6b167a4fafcf288": {
     "model_module": "@jupyter-widgets/controls",
     "model_module_version": "1.5.0",
     "model_name": "HTMLModel",
     "state": {
      "_dom_classes": [],
      "_model_module": "@jupyter-widgets/controls",
      "_model_module_version": "1.5.0",
      "_model_name": "HTMLModel",
      "_view_count": null,
      "_view_module": "@jupyter-widgets/controls",
      "_view_module_version": "1.5.0",
      "_view_name": "HTMLView",
      "description": "",
      "description_tooltip": null,
      "layout": "IPY_MODEL_e87aef0d9cf94c5b9d5b7963e80b8846",
      "placeholder": "​",
      "style": "IPY_MODEL_6ab6525394144b39848c6edacc146d0a",
      "value": "Downloading data files: 100%"
     }
    },
    "aa5aa8c0a71848b5b34b987bcd1cebb5": {
     "model_module": "@jupyter-widgets/controls",
     "model_module_version": "1.5.0",
     "model_name": "HTMLModel",
     "state": {
      "_dom_classes": [],
      "_model_module": "@jupyter-widgets/controls",
      "_model_module_version": "1.5.0",
      "_model_name": "HTMLModel",
      "_view_count": null,
      "_view_module": "@jupyter-widgets/controls",
      "_view_module_version": "1.5.0",
      "_view_name": "HTMLView",
      "description": "",
      "description_tooltip": null,
      "layout": "IPY_MODEL_50d5d8ef64fd46ea86f77f107c67bbb8",
      "placeholder": "​",
      "style": "IPY_MODEL_bbea36799dd74a9989bd5c03ccc6eebd",
      "value": "Extracting data files: 100%"
     }
    },
    "ad02ec77c74d4a929b9a848fcd55e6a5": {
     "model_module": "@jupyter-widgets/base",
     "model_module_version": "1.2.0",
     "model_name": "LayoutModel",
     "state": {
      "_model_module": "@jupyter-widgets/base",
      "_model_module_version": "1.2.0",
      "_model_name": "LayoutModel",
      "_view_count": null,
      "_view_module": "@jupyter-widgets/base",
      "_view_module_version": "1.2.0",
      "_view_name": "LayoutView",
      "align_content": null,
      "align_items": null,
      "align_self": null,
      "border": null,
      "bottom": null,
      "display": null,
      "flex": null,
      "flex_flow": null,
      "grid_area": null,
      "grid_auto_columns": null,
      "grid_auto_flow": null,
      "grid_auto_rows": null,
      "grid_column": null,
      "grid_gap": null,
      "grid_row": null,
      "grid_template_areas": null,
      "grid_template_columns": null,
      "grid_template_rows": null,
      "height": null,
      "justify_content": null,
      "justify_items": null,
      "left": null,
      "margin": null,
      "max_height": null,
      "max_width": null,
      "min_height": null,
      "min_width": null,
      "object_fit": null,
      "object_position": null,
      "order": null,
      "overflow": null,
      "overflow_x": null,
      "overflow_y": null,
      "padding": null,
      "right": null,
      "top": null,
      "visibility": null,
      "width": null
     }
    },
    "ad08df5242e24d2d86f2f4e5867cbdbd": {
     "model_module": "@jupyter-widgets/base",
     "model_module_version": "1.2.0",
     "model_name": "LayoutModel",
     "state": {
      "_model_module": "@jupyter-widgets/base",
      "_model_module_version": "1.2.0",
      "_model_name": "LayoutModel",
      "_view_count": null,
      "_view_module": "@jupyter-widgets/base",
      "_view_module_version": "1.2.0",
      "_view_name": "LayoutView",
      "align_content": null,
      "align_items": null,
      "align_self": null,
      "border": null,
      "bottom": null,
      "display": null,
      "flex": null,
      "flex_flow": null,
      "grid_area": null,
      "grid_auto_columns": null,
      "grid_auto_flow": null,
      "grid_auto_rows": null,
      "grid_column": null,
      "grid_gap": null,
      "grid_row": null,
      "grid_template_areas": null,
      "grid_template_columns": null,
      "grid_template_rows": null,
      "height": null,
      "justify_content": null,
      "justify_items": null,
      "left": null,
      "margin": null,
      "max_height": null,
      "max_width": null,
      "min_height": null,
      "min_width": null,
      "object_fit": null,
      "object_position": null,
      "order": null,
      "overflow": null,
      "overflow_x": null,
      "overflow_y": null,
      "padding": null,
      "right": null,
      "top": null,
      "visibility": null,
      "width": null
     }
    },
    "adc0a7d5322a4a7da85a9fea51943f11": {
     "model_module": "@jupyter-widgets/controls",
     "model_module_version": "1.5.0",
     "model_name": "HBoxModel",
     "state": {
      "_dom_classes": [],
      "_model_module": "@jupyter-widgets/controls",
      "_model_module_version": "1.5.0",
      "_model_name": "HBoxModel",
      "_view_count": null,
      "_view_module": "@jupyter-widgets/controls",
      "_view_module_version": "1.5.0",
      "_view_name": "HBoxView",
      "box_style": "",
      "children": [
       "IPY_MODEL_3c215647d2c34a7fac0b86f8b257ec68",
       "IPY_MODEL_ef31045db2d94ccf99ac71ede24439b5",
       "IPY_MODEL_90dd439d491f4f92b93f7385d1992ddf"
      ],
      "layout": "IPY_MODEL_3157f8a62b494d729e54fb5b7e50a6cc"
     }
    },
    "b0a165488fcc4702b8ca82da5e188506": {
     "model_module": "@jupyter-widgets/base",
     "model_module_version": "1.2.0",
     "model_name": "LayoutModel",
     "state": {
      "_model_module": "@jupyter-widgets/base",
      "_model_module_version": "1.2.0",
      "_model_name": "LayoutModel",
      "_view_count": null,
      "_view_module": "@jupyter-widgets/base",
      "_view_module_version": "1.2.0",
      "_view_name": "LayoutView",
      "align_content": null,
      "align_items": null,
      "align_self": null,
      "border": null,
      "bottom": null,
      "display": null,
      "flex": null,
      "flex_flow": null,
      "grid_area": null,
      "grid_auto_columns": null,
      "grid_auto_flow": null,
      "grid_auto_rows": null,
      "grid_column": null,
      "grid_gap": null,
      "grid_row": null,
      "grid_template_areas": null,
      "grid_template_columns": null,
      "grid_template_rows": null,
      "height": null,
      "justify_content": null,
      "justify_items": null,
      "left": null,
      "margin": null,
      "max_height": null,
      "max_width": null,
      "min_height": null,
      "min_width": null,
      "object_fit": null,
      "object_position": null,
      "order": null,
      "overflow": null,
      "overflow_x": null,
      "overflow_y": null,
      "padding": null,
      "right": null,
      "top": null,
      "visibility": null,
      "width": null
     }
    },
    "b159f0a44d844fc1b6febb9af93ad362": {
     "model_module": "@jupyter-widgets/controls",
     "model_module_version": "1.5.0",
     "model_name": "DescriptionStyleModel",
     "state": {
      "_model_module": "@jupyter-widgets/controls",
      "_model_module_version": "1.5.0",
      "_model_name": "DescriptionStyleModel",
      "_view_count": null,
      "_view_module": "@jupyter-widgets/base",
      "_view_module_version": "1.2.0",
      "_view_name": "StyleView",
      "description_width": ""
     }
    },
    "b35bfe1b49b046f4b6d8530e37ecdb80": {
     "model_module": "@jupyter-widgets/controls",
     "model_module_version": "1.5.0",
     "model_name": "ProgressStyleModel",
     "state": {
      "_model_module": "@jupyter-widgets/controls",
      "_model_module_version": "1.5.0",
      "_model_name": "ProgressStyleModel",
      "_view_count": null,
      "_view_module": "@jupyter-widgets/base",
      "_view_module_version": "1.2.0",
      "_view_name": "StyleView",
      "bar_color": null,
      "description_width": ""
     }
    },
    "b4d7cd7687f047e7b3b2c4172be0fb30": {
     "model_module": "@jupyter-widgets/controls",
     "model_module_version": "1.5.0",
     "model_name": "HBoxModel",
     "state": {
      "_dom_classes": [],
      "_model_module": "@jupyter-widgets/controls",
      "_model_module_version": "1.5.0",
      "_model_name": "HBoxModel",
      "_view_count": null,
      "_view_module": "@jupyter-widgets/controls",
      "_view_module_version": "1.5.0",
      "_view_name": "HBoxView",
      "box_style": "",
      "children": [
       "IPY_MODEL_5b6167a3185b4ca281edf383a82c06a0",
       "IPY_MODEL_fd9bdd02c3264e2ea66e44b453442b75",
       "IPY_MODEL_26fadfeece1c4d7691a49cc751b539c8"
      ],
      "layout": "IPY_MODEL_1eec423b6bcc4769b1e52d41570bed58"
     }
    },
    "b8207ac43f1448a8916882a828debbe6": {
     "model_module": "@jupyter-widgets/base",
     "model_module_version": "1.2.0",
     "model_name": "LayoutModel",
     "state": {
      "_model_module": "@jupyter-widgets/base",
      "_model_module_version": "1.2.0",
      "_model_name": "LayoutModel",
      "_view_count": null,
      "_view_module": "@jupyter-widgets/base",
      "_view_module_version": "1.2.0",
      "_view_name": "LayoutView",
      "align_content": null,
      "align_items": null,
      "align_self": null,
      "border": null,
      "bottom": null,
      "display": null,
      "flex": null,
      "flex_flow": null,
      "grid_area": null,
      "grid_auto_columns": null,
      "grid_auto_flow": null,
      "grid_auto_rows": null,
      "grid_column": null,
      "grid_gap": null,
      "grid_row": null,
      "grid_template_areas": null,
      "grid_template_columns": null,
      "grid_template_rows": null,
      "height": null,
      "justify_content": null,
      "justify_items": null,
      "left": null,
      "margin": null,
      "max_height": null,
      "max_width": null,
      "min_height": null,
      "min_width": null,
      "object_fit": null,
      "object_position": null,
      "order": null,
      "overflow": null,
      "overflow_x": null,
      "overflow_y": null,
      "padding": null,
      "right": null,
      "top": null,
      "visibility": null,
      "width": null
     }
    },
    "bbea36799dd74a9989bd5c03ccc6eebd": {
     "model_module": "@jupyter-widgets/controls",
     "model_module_version": "1.5.0",
     "model_name": "DescriptionStyleModel",
     "state": {
      "_model_module": "@jupyter-widgets/controls",
      "_model_module_version": "1.5.0",
      "_model_name": "DescriptionStyleModel",
      "_view_count": null,
      "_view_module": "@jupyter-widgets/base",
      "_view_module_version": "1.2.0",
      "_view_name": "StyleView",
      "description_width": ""
     }
    },
    "be7502a56cd240b09db0bd85b8a75be4": {
     "model_module": "@jupyter-widgets/base",
     "model_module_version": "1.2.0",
     "model_name": "LayoutModel",
     "state": {
      "_model_module": "@jupyter-widgets/base",
      "_model_module_version": "1.2.0",
      "_model_name": "LayoutModel",
      "_view_count": null,
      "_view_module": "@jupyter-widgets/base",
      "_view_module_version": "1.2.0",
      "_view_name": "LayoutView",
      "align_content": null,
      "align_items": null,
      "align_self": null,
      "border": null,
      "bottom": null,
      "display": null,
      "flex": null,
      "flex_flow": null,
      "grid_area": null,
      "grid_auto_columns": null,
      "grid_auto_flow": null,
      "grid_auto_rows": null,
      "grid_column": null,
      "grid_gap": null,
      "grid_row": null,
      "grid_template_areas": null,
      "grid_template_columns": null,
      "grid_template_rows": null,
      "height": null,
      "justify_content": null,
      "justify_items": null,
      "left": null,
      "margin": null,
      "max_height": null,
      "max_width": null,
      "min_height": null,
      "min_width": null,
      "object_fit": null,
      "object_position": null,
      "order": null,
      "overflow": null,
      "overflow_x": null,
      "overflow_y": null,
      "padding": null,
      "right": null,
      "top": null,
      "visibility": null,
      "width": null
     }
    },
    "bfec76fdb8b2439b98649673ef3ba7b7": {
     "model_module": "@jupyter-widgets/base",
     "model_module_version": "1.2.0",
     "model_name": "LayoutModel",
     "state": {
      "_model_module": "@jupyter-widgets/base",
      "_model_module_version": "1.2.0",
      "_model_name": "LayoutModel",
      "_view_count": null,
      "_view_module": "@jupyter-widgets/base",
      "_view_module_version": "1.2.0",
      "_view_name": "LayoutView",
      "align_content": null,
      "align_items": null,
      "align_self": null,
      "border": null,
      "bottom": null,
      "display": null,
      "flex": null,
      "flex_flow": null,
      "grid_area": null,
      "grid_auto_columns": null,
      "grid_auto_flow": null,
      "grid_auto_rows": null,
      "grid_column": null,
      "grid_gap": null,
      "grid_row": null,
      "grid_template_areas": null,
      "grid_template_columns": null,
      "grid_template_rows": null,
      "height": null,
      "justify_content": null,
      "justify_items": null,
      "left": null,
      "margin": null,
      "max_height": null,
      "max_width": null,
      "min_height": null,
      "min_width": null,
      "object_fit": null,
      "object_position": null,
      "order": null,
      "overflow": null,
      "overflow_x": null,
      "overflow_y": null,
      "padding": null,
      "right": null,
      "top": null,
      "visibility": null,
      "width": null
     }
    },
    "c305b20c02f5470189cd75eb4137be33": {
     "model_module": "@jupyter-widgets/base",
     "model_module_version": "1.2.0",
     "model_name": "LayoutModel",
     "state": {
      "_model_module": "@jupyter-widgets/base",
      "_model_module_version": "1.2.0",
      "_model_name": "LayoutModel",
      "_view_count": null,
      "_view_module": "@jupyter-widgets/base",
      "_view_module_version": "1.2.0",
      "_view_name": "LayoutView",
      "align_content": null,
      "align_items": null,
      "align_self": null,
      "border": null,
      "bottom": null,
      "display": null,
      "flex": null,
      "flex_flow": null,
      "grid_area": null,
      "grid_auto_columns": null,
      "grid_auto_flow": null,
      "grid_auto_rows": null,
      "grid_column": null,
      "grid_gap": null,
      "grid_row": null,
      "grid_template_areas": null,
      "grid_template_columns": null,
      "grid_template_rows": null,
      "height": null,
      "justify_content": null,
      "justify_items": null,
      "left": null,
      "margin": null,
      "max_height": null,
      "max_width": null,
      "min_height": null,
      "min_width": null,
      "object_fit": null,
      "object_position": null,
      "order": null,
      "overflow": null,
      "overflow_x": null,
      "overflow_y": null,
      "padding": null,
      "right": null,
      "top": null,
      "visibility": null,
      "width": null
     }
    },
    "c4729b82b2684fb8817534149a15287d": {
     "model_module": "@jupyter-widgets/base",
     "model_module_version": "1.2.0",
     "model_name": "LayoutModel",
     "state": {
      "_model_module": "@jupyter-widgets/base",
      "_model_module_version": "1.2.0",
      "_model_name": "LayoutModel",
      "_view_count": null,
      "_view_module": "@jupyter-widgets/base",
      "_view_module_version": "1.2.0",
      "_view_name": "LayoutView",
      "align_content": null,
      "align_items": null,
      "align_self": null,
      "border": null,
      "bottom": null,
      "display": null,
      "flex": null,
      "flex_flow": null,
      "grid_area": null,
      "grid_auto_columns": null,
      "grid_auto_flow": null,
      "grid_auto_rows": null,
      "grid_column": null,
      "grid_gap": null,
      "grid_row": null,
      "grid_template_areas": null,
      "grid_template_columns": null,
      "grid_template_rows": null,
      "height": null,
      "justify_content": null,
      "justify_items": null,
      "left": null,
      "margin": null,
      "max_height": null,
      "max_width": null,
      "min_height": null,
      "min_width": null,
      "object_fit": null,
      "object_position": null,
      "order": null,
      "overflow": null,
      "overflow_x": null,
      "overflow_y": null,
      "padding": null,
      "right": null,
      "top": null,
      "visibility": null,
      "width": null
     }
    },
    "c50dae8769df4184bb7055ec07488ed6": {
     "model_module": "@jupyter-widgets/controls",
     "model_module_version": "1.5.0",
     "model_name": "DescriptionStyleModel",
     "state": {
      "_model_module": "@jupyter-widgets/controls",
      "_model_module_version": "1.5.0",
      "_model_name": "DescriptionStyleModel",
      "_view_count": null,
      "_view_module": "@jupyter-widgets/base",
      "_view_module_version": "1.2.0",
      "_view_name": "StyleView",
      "description_width": ""
     }
    },
    "c6d8cd363c7d4d00a4276c67480b95a2": {
     "model_module": "@jupyter-widgets/controls",
     "model_module_version": "1.5.0",
     "model_name": "ProgressStyleModel",
     "state": {
      "_model_module": "@jupyter-widgets/controls",
      "_model_module_version": "1.5.0",
      "_model_name": "ProgressStyleModel",
      "_view_count": null,
      "_view_module": "@jupyter-widgets/base",
      "_view_module_version": "1.2.0",
      "_view_name": "StyleView",
      "bar_color": null,
      "description_width": ""
     }
    },
    "c7e06e9305b045d0a94baadee4afe97c": {
     "model_module": "@jupyter-widgets/controls",
     "model_module_version": "1.5.0",
     "model_name": "DescriptionStyleModel",
     "state": {
      "_model_module": "@jupyter-widgets/controls",
      "_model_module_version": "1.5.0",
      "_model_name": "DescriptionStyleModel",
      "_view_count": null,
      "_view_module": "@jupyter-widgets/base",
      "_view_module_version": "1.2.0",
      "_view_name": "StyleView",
      "description_width": ""
     }
    },
    "cc68dd67492048fd905253d4b9963ec6": {
     "model_module": "@jupyter-widgets/controls",
     "model_module_version": "1.5.0",
     "model_name": "HBoxModel",
     "state": {
      "_dom_classes": [],
      "_model_module": "@jupyter-widgets/controls",
      "_model_module_version": "1.5.0",
      "_model_name": "HBoxModel",
      "_view_count": null,
      "_view_module": "@jupyter-widgets/controls",
      "_view_module_version": "1.5.0",
      "_view_name": "HBoxView",
      "box_style": "",
      "children": [
       "IPY_MODEL_3571d077964e4767bc60a1bf1228179c",
       "IPY_MODEL_5ac480a101744bdcaff69695afaa0c54",
       "IPY_MODEL_8c2682eb0ddb49cfa39242f4d4c6464d"
      ],
      "layout": "IPY_MODEL_a1f0ec27b05647f38e4c01328b387346"
     }
    },
    "cd8118d33b5d4bb89e94d9bd893a86c3": {
     "model_module": "@jupyter-widgets/base",
     "model_module_version": "1.2.0",
     "model_name": "LayoutModel",
     "state": {
      "_model_module": "@jupyter-widgets/base",
      "_model_module_version": "1.2.0",
      "_model_name": "LayoutModel",
      "_view_count": null,
      "_view_module": "@jupyter-widgets/base",
      "_view_module_version": "1.2.0",
      "_view_name": "LayoutView",
      "align_content": null,
      "align_items": null,
      "align_self": null,
      "border": null,
      "bottom": null,
      "display": null,
      "flex": null,
      "flex_flow": null,
      "grid_area": null,
      "grid_auto_columns": null,
      "grid_auto_flow": null,
      "grid_auto_rows": null,
      "grid_column": null,
      "grid_gap": null,
      "grid_row": null,
      "grid_template_areas": null,
      "grid_template_columns": null,
      "grid_template_rows": null,
      "height": null,
      "justify_content": null,
      "justify_items": null,
      "left": null,
      "margin": null,
      "max_height": null,
      "max_width": null,
      "min_height": null,
      "min_width": null,
      "object_fit": null,
      "object_position": null,
      "order": null,
      "overflow": null,
      "overflow_x": null,
      "overflow_y": null,
      "padding": null,
      "right": null,
      "top": null,
      "visibility": null,
      "width": null
     }
    },
    "ce024d3db229456892a8b12bcdaa5c51": {
     "model_module": "@jupyter-widgets/controls",
     "model_module_version": "1.5.0",
     "model_name": "FloatProgressModel",
     "state": {
      "_dom_classes": [],
      "_model_module": "@jupyter-widgets/controls",
      "_model_module_version": "1.5.0",
      "_model_name": "FloatProgressModel",
      "_view_count": null,
      "_view_module": "@jupyter-widgets/controls",
      "_view_module_version": "1.5.0",
      "_view_name": "ProgressView",
      "bar_style": "success",
      "description": "",
      "description_tooltip": null,
      "layout": "IPY_MODEL_051603c85059426db931e5912b1b3eed",
      "max": 1,
      "min": 0,
      "orientation": "horizontal",
      "style": "IPY_MODEL_44a51f0467994802a0e2a89ab2d9609f",
      "value": 1
     }
    },
    "d29cefa4abd14bb196a9c128ee9bd555": {
     "model_module": "@jupyter-widgets/base",
     "model_module_version": "1.2.0",
     "model_name": "LayoutModel",
     "state": {
      "_model_module": "@jupyter-widgets/base",
      "_model_module_version": "1.2.0",
      "_model_name": "LayoutModel",
      "_view_count": null,
      "_view_module": "@jupyter-widgets/base",
      "_view_module_version": "1.2.0",
      "_view_name": "LayoutView",
      "align_content": null,
      "align_items": null,
      "align_self": null,
      "border": null,
      "bottom": null,
      "display": null,
      "flex": null,
      "flex_flow": null,
      "grid_area": null,
      "grid_auto_columns": null,
      "grid_auto_flow": null,
      "grid_auto_rows": null,
      "grid_column": null,
      "grid_gap": null,
      "grid_row": null,
      "grid_template_areas": null,
      "grid_template_columns": null,
      "grid_template_rows": null,
      "height": null,
      "justify_content": null,
      "justify_items": null,
      "left": null,
      "margin": null,
      "max_height": null,
      "max_width": null,
      "min_height": null,
      "min_width": null,
      "object_fit": null,
      "object_position": null,
      "order": null,
      "overflow": null,
      "overflow_x": null,
      "overflow_y": null,
      "padding": null,
      "right": null,
      "top": null,
      "visibility": null,
      "width": null
     }
    },
    "d33510db3d6f4cde9b7cfdc4bbf46633": {
     "model_module": "@jupyter-widgets/controls",
     "model_module_version": "1.5.0",
     "model_name": "HTMLModel",
     "state": {
      "_dom_classes": [],
      "_model_module": "@jupyter-widgets/controls",
      "_model_module_version": "1.5.0",
      "_model_name": "HTMLModel",
      "_view_count": null,
      "_view_module": "@jupyter-widgets/controls",
      "_view_module_version": "1.5.0",
      "_view_name": "HTMLView",
      "description": "",
      "description_tooltip": null,
      "layout": "IPY_MODEL_366db5f01aba4d629ebfd9394e6567d5",
      "placeholder": "​",
      "style": "IPY_MODEL_662a615d57c54cfa82cd1d7c808fb58e",
      "value": " 1/1 [00:00&lt;00:00, 42.62it/s]"
     }
    },
    "d406a6a3fe604d9785042e2b06bdf1e7": {
     "model_module": "@jupyter-widgets/controls",
     "model_module_version": "1.5.0",
     "model_name": "ProgressStyleModel",
     "state": {
      "_model_module": "@jupyter-widgets/controls",
      "_model_module_version": "1.5.0",
      "_model_name": "ProgressStyleModel",
      "_view_count": null,
      "_view_module": "@jupyter-widgets/base",
      "_view_module_version": "1.2.0",
      "_view_name": "StyleView",
      "bar_color": null,
      "description_width": ""
     }
    },
    "d606cfba1c03417a9e1561b9903ef340": {
     "model_module": "@jupyter-widgets/controls",
     "model_module_version": "1.5.0",
     "model_name": "HBoxModel",
     "state": {
      "_dom_classes": [],
      "_model_module": "@jupyter-widgets/controls",
      "_model_module_version": "1.5.0",
      "_model_name": "HBoxModel",
      "_view_count": null,
      "_view_module": "@jupyter-widgets/controls",
      "_view_module_version": "1.5.0",
      "_view_name": "HBoxView",
      "box_style": "",
      "children": [
       "IPY_MODEL_8ffc1885b7774ba38ce0922ee934378c",
       "IPY_MODEL_130d804471c04d0daedd9ab138e89b4b",
       "IPY_MODEL_0a83c125beea4abfb7d4e95f08137770"
      ],
      "layout": "IPY_MODEL_c4729b82b2684fb8817534149a15287d"
     }
    },
    "e87aef0d9cf94c5b9d5b7963e80b8846": {
     "model_module": "@jupyter-widgets/base",
     "model_module_version": "1.2.0",
     "model_name": "LayoutModel",
     "state": {
      "_model_module": "@jupyter-widgets/base",
      "_model_module_version": "1.2.0",
      "_model_name": "LayoutModel",
      "_view_count": null,
      "_view_module": "@jupyter-widgets/base",
      "_view_module_version": "1.2.0",
      "_view_name": "LayoutView",
      "align_content": null,
      "align_items": null,
      "align_self": null,
      "border": null,
      "bottom": null,
      "display": null,
      "flex": null,
      "flex_flow": null,
      "grid_area": null,
      "grid_auto_columns": null,
      "grid_auto_flow": null,
      "grid_auto_rows": null,
      "grid_column": null,
      "grid_gap": null,
      "grid_row": null,
      "grid_template_areas": null,
      "grid_template_columns": null,
      "grid_template_rows": null,
      "height": null,
      "justify_content": null,
      "justify_items": null,
      "left": null,
      "margin": null,
      "max_height": null,
      "max_width": null,
      "min_height": null,
      "min_width": null,
      "object_fit": null,
      "object_position": null,
      "order": null,
      "overflow": null,
      "overflow_x": null,
      "overflow_y": null,
      "padding": null,
      "right": null,
      "top": null,
      "visibility": null,
      "width": null
     }
    },
    "ec682955f90c46eb8074dd52f07f3ab0": {
     "model_module": "@jupyter-widgets/controls",
     "model_module_version": "1.5.0",
     "model_name": "ProgressStyleModel",
     "state": {
      "_model_module": "@jupyter-widgets/controls",
      "_model_module_version": "1.5.0",
      "_model_name": "ProgressStyleModel",
      "_view_count": null,
      "_view_module": "@jupyter-widgets/base",
      "_view_module_version": "1.2.0",
      "_view_name": "StyleView",
      "bar_color": null,
      "description_width": ""
     }
    },
    "ef31045db2d94ccf99ac71ede24439b5": {
     "model_module": "@jupyter-widgets/controls",
     "model_module_version": "1.5.0",
     "model_name": "FloatProgressModel",
     "state": {
      "_dom_classes": [],
      "_model_module": "@jupyter-widgets/controls",
      "_model_module_version": "1.5.0",
      "_model_name": "FloatProgressModel",
      "_view_count": null,
      "_view_module": "@jupyter-widgets/controls",
      "_view_module_version": "1.5.0",
      "_view_name": "ProgressView",
      "bar_style": "success",
      "description": "",
      "description_tooltip": null,
      "layout": "IPY_MODEL_b0a165488fcc4702b8ca82da5e188506",
      "max": 1,
      "min": 0,
      "orientation": "horizontal",
      "style": "IPY_MODEL_d406a6a3fe604d9785042e2b06bdf1e7",
      "value": 1
     }
    },
    "f0a5d222482c4f099ccef515252a49cf": {
     "model_module": "@jupyter-widgets/controls",
     "model_module_version": "1.5.0",
     "model_name": "HTMLModel",
     "state": {
      "_dom_classes": [],
      "_model_module": "@jupyter-widgets/controls",
      "_model_module_version": "1.5.0",
      "_model_name": "HTMLModel",
      "_view_count": null,
      "_view_module": "@jupyter-widgets/controls",
      "_view_module_version": "1.5.0",
      "_view_name": "HTMLView",
      "description": "",
      "description_tooltip": null,
      "layout": "IPY_MODEL_2b4902e9b0a745ae91d1fc9c41f3b907",
      "placeholder": "​",
      "style": "IPY_MODEL_c7e06e9305b045d0a94baadee4afe97c",
      "value": "Map: 100%"
     }
    },
    "fc855b723ce046849a55e114208fdbc1": {
     "model_module": "@jupyter-widgets/base",
     "model_module_version": "1.2.0",
     "model_name": "LayoutModel",
     "state": {
      "_model_module": "@jupyter-widgets/base",
      "_model_module_version": "1.2.0",
      "_model_name": "LayoutModel",
      "_view_count": null,
      "_view_module": "@jupyter-widgets/base",
      "_view_module_version": "1.2.0",
      "_view_name": "LayoutView",
      "align_content": null,
      "align_items": null,
      "align_self": null,
      "border": null,
      "bottom": null,
      "display": null,
      "flex": null,
      "flex_flow": null,
      "grid_area": null,
      "grid_auto_columns": null,
      "grid_auto_flow": null,
      "grid_auto_rows": null,
      "grid_column": null,
      "grid_gap": null,
      "grid_row": null,
      "grid_template_areas": null,
      "grid_template_columns": null,
      "grid_template_rows": null,
      "height": null,
      "justify_content": null,
      "justify_items": null,
      "left": null,
      "margin": null,
      "max_height": null,
      "max_width": null,
      "min_height": null,
      "min_width": null,
      "object_fit": null,
      "object_position": null,
      "order": null,
      "overflow": null,
      "overflow_x": null,
      "overflow_y": null,
      "padding": null,
      "right": null,
      "top": null,
      "visibility": null,
      "width": null
     }
    },
    "fd9bdd02c3264e2ea66e44b453442b75": {
     "model_module": "@jupyter-widgets/controls",
     "model_module_version": "1.5.0",
     "model_name": "FloatProgressModel",
     "state": {
      "_dom_classes": [],
      "_model_module": "@jupyter-widgets/controls",
      "_model_module_version": "1.5.0",
      "_model_name": "FloatProgressModel",
      "_view_count": null,
      "_view_module": "@jupyter-widgets/controls",
      "_view_module_version": "1.5.0",
      "_view_name": "ProgressView",
      "bar_style": "success",
      "description": "",
      "description_tooltip": null,
      "layout": "IPY_MODEL_5daa6938da8e40829e670d0c1cda45d7",
      "max": 1,
      "min": 0,
      "orientation": "horizontal",
      "style": "IPY_MODEL_b35bfe1b49b046f4b6d8530e37ecdb80",
      "value": 1
     }
    }
   }
  }
 },
 "nbformat": 4,
 "nbformat_minor": 1
}
